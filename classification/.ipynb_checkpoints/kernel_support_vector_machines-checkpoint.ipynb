{
 "cells": [
  {
   "cell_type": "markdown",
   "metadata": {},
   "source": [
    "# Kernel Support Vector Machine\n",
    "A Kernel SVM is about determining the best decision boundary to separate classifications using a (non-linear) function.\n",
    "\n",
    "Sometimes, you cannot properly separate vectors using a linear function.\n",
    "- This is because the data set is \"Not Linearly Separable\"\n",
    "\n",
    "### Visual Difference of Separable Data Sets\n",
    "<img src=\"images/ksvm/separable_example.png\" height=\"75%\" width=\"75%\"></img>\n",
    "- Notice that both graphs' axes are X1 and X2 (the two independent variables)\n",
    "\n",
    "The \"Not Linearly Separable\" data set cannot be modelled properly using a line."
   ]
  },
  {
   "cell_type": "markdown",
   "metadata": {},
   "source": [
    "# Higher-Dimensional Space\n",
    "We can map a Non Linearly Separable data set using a higher-dimensional space.\n",
    "\n",
    "### 1. Mapping To Higher-Dimension\n",
    "<img src=\"images/ksvm/mapping_dimension_example.png\" height=\"75%\" width=\"75%\"></img>\n",
    "\n",
    "As seen, the Non Linearly Separable data points were projected using a 3D space, then a hyperplane was used to separate the two classifications.\n",
    "\n",
    "### 2. Projecting Back to 2D Space\n",
    "<img src=\"images/ksvm/projecting_back_example.png\" height=\"75%\" width=\"75%\"></img>\n",
    "\n",
    "The 3D space is projected back into a 2D space. The hyperplane is now in 2D, which separates the two classifications.\n",
    "\n",
    "### Higher-Dimensional Problem\n",
    "Mapping to a higher dimensional space is highly compute-intensive, especially for higher dimensions.\n",
    "- There's a better solution, called the \"Kernel Trick\""
   ]
  },
  {
   "cell_type": "markdown",
   "metadata": {},
   "source": [
    "# Kernel Trick\n",
    "The kernel trick allows us to map a function without having to project in a higher dimension.\n",
    "\n",
    "# Gaussian RBF Kernel\n",
    "The Gaussian RBF Kernel is a kernel trick to map a Non Linearly Separable data set.\n",
    "\n",
    "<img src=\"images/ksvm/rbf_kernel_example.png\" height=\"75%\" width=\"75%\"></img>\n",
    "- ```||x-li||^2``` is the distance from point (```x```) to the landmark (```li```)\n",
    "- o (sigma) defines how wide the circumference of the Gaussian curve is\n",
    "    - The greater sigma, the greater the circumference of the curve\n",
    "    - The less sigma, the smaller the circumference of the curve\n",
    "\n",
    "The red dot in the middle of the Gaussian curve is called the \"landmark\": the middle of the curve.\n",
    "- This point is used to measure the distance of the data points\n",
    "\n",
    "The further the distance, the greater the negative power, so the Kernel value converges to 0.\n",
    "- The distance from the land mark to the red data point is far, so it's close to 0\n",
    "\n",
    "The closer the distance, the smaller the negative power, so the Kernel value converges to 1.\n",
    "- The distance from the land mark to the green point is quite small, so it's close to 1\n",
    "\n",
    "### Projecting to 2D Space\n",
    "<img src=\"images/ksvm/gaussian_representation_example.png\" height=\"75%\" width=\"75%\"></img>\n",
    "- The circumference defines the boundary to classify the data points\n",
    "    - As stated before, this is because sigma defines the circumference width\n",
    "\n",
    "Any data point that has a Kernel value > 0 is considered to be the Green data point, and any data point that has a Kernel value converging (almost equal) to 0 is a Red data point.\n",
    "- A data point exactly = 1 is a perfect classification of a Green data point\n",
    "- A data point exactly = 0 is a perfect classification of a Green data point\n",
    "\n",
    "### Combination of RBF Kernel Functions\n",
    "We can combine RBF Kernel functions to map a difficult-to-represent data set with a single Gaussian curve.\n",
    "\n",
    "<img src=\"images/ksvm/combined_rbf_example.png\" height=\"75%\" width=\"75%\"></img>"
   ]
  },
  {
   "cell_type": "markdown",
   "metadata": {},
   "source": [
    "# Other Types of Kernel Functions\n",
    "There are other types of kernel functions, too. Below I list a few more kernel functions.\n",
    "\n",
    "<img src=\"images/ksvm/other_kernel_types.png\" height=\"100%\" width=\"100%\"></img>\n",
    "\n",
    "### Sigmoid Kernel\n",
    "A directional function that dicates the Kernel's boundary of classification.\n",
    "- Data points to the right (high-value) have a separate classifcation\n",
    "- Data points to the right (low-value) have a separate classifcation\n",
    "\n",
    "### Polynomial Kernel\n",
    "A polynomial function that dicates the Kernel's boundary of classification."
   ]
  },
  {
   "cell_type": "code",
   "execution_count": 2,
   "metadata": {},
   "outputs": [],
   "source": [
    "# import libraries\n",
    "import numpy as np\n",
    "import matplotlib.pyplot as plt\n",
    "import pandas as pd"
   ]
  },
  {
   "cell_type": "code",
   "execution_count": 3,
   "metadata": {},
   "outputs": [
    {
     "data": {
      "text/html": [
       "<div>\n",
       "<style scoped>\n",
       "    .dataframe tbody tr th:only-of-type {\n",
       "        vertical-align: middle;\n",
       "    }\n",
       "\n",
       "    .dataframe tbody tr th {\n",
       "        vertical-align: top;\n",
       "    }\n",
       "\n",
       "    .dataframe thead th {\n",
       "        text-align: right;\n",
       "    }\n",
       "</style>\n",
       "<table border=\"1\" class=\"dataframe\">\n",
       "  <thead>\n",
       "    <tr style=\"text-align: right;\">\n",
       "      <th></th>\n",
       "      <th>User ID</th>\n",
       "      <th>Gender</th>\n",
       "      <th>Age</th>\n",
       "      <th>EstimatedSalary</th>\n",
       "      <th>Purchased</th>\n",
       "    </tr>\n",
       "  </thead>\n",
       "  <tbody>\n",
       "    <tr>\n",
       "      <th>0</th>\n",
       "      <td>15624510</td>\n",
       "      <td>Male</td>\n",
       "      <td>19</td>\n",
       "      <td>19000</td>\n",
       "      <td>0</td>\n",
       "    </tr>\n",
       "    <tr>\n",
       "      <th>1</th>\n",
       "      <td>15810944</td>\n",
       "      <td>Male</td>\n",
       "      <td>35</td>\n",
       "      <td>20000</td>\n",
       "      <td>0</td>\n",
       "    </tr>\n",
       "    <tr>\n",
       "      <th>2</th>\n",
       "      <td>15668575</td>\n",
       "      <td>Female</td>\n",
       "      <td>26</td>\n",
       "      <td>43000</td>\n",
       "      <td>0</td>\n",
       "    </tr>\n",
       "    <tr>\n",
       "      <th>3</th>\n",
       "      <td>15603246</td>\n",
       "      <td>Female</td>\n",
       "      <td>27</td>\n",
       "      <td>57000</td>\n",
       "      <td>0</td>\n",
       "    </tr>\n",
       "    <tr>\n",
       "      <th>4</th>\n",
       "      <td>15804002</td>\n",
       "      <td>Male</td>\n",
       "      <td>19</td>\n",
       "      <td>76000</td>\n",
       "      <td>0</td>\n",
       "    </tr>\n",
       "  </tbody>\n",
       "</table>\n",
       "</div>"
      ],
      "text/plain": [
       "    User ID  Gender  Age  EstimatedSalary  Purchased\n",
       "0  15624510    Male   19            19000          0\n",
       "1  15810944    Male   35            20000          0\n",
       "2  15668575  Female   26            43000          0\n",
       "3  15603246  Female   27            57000          0\n",
       "4  15804002    Male   19            76000          0"
      ]
     },
     "execution_count": 3,
     "metadata": {},
     "output_type": "execute_result"
    }
   ],
   "source": [
    "# import the data set\n",
    "ads_df = pd.read_csv(\"datasets/social_network_ads.csv\")\n",
    "\n",
    "ads_df.head()"
   ]
  },
  {
   "cell_type": "code",
   "execution_count": 4,
   "metadata": {},
   "outputs": [],
   "source": [
    "# x is the Age and Estimated Salary columns\n",
    "x = ads_df.iloc[:, [2, 3]].values\n",
    "\n",
    "# y is the Purchased column\n",
    "y = ads_df.iloc[:, 4].values"
   ]
  },
  {
   "cell_type": "code",
   "execution_count": 5,
   "metadata": {},
   "outputs": [],
   "source": [
    "# split the data set into training and testing data sets\n",
    "from sklearn.model_selection import train_test_split \n",
    "x_train, x_test, y_train, y_test = train_test_split(x, y, test_size=0.25, random_state=0)"
   ]
  },
  {
   "cell_type": "code",
   "execution_count": 6,
   "metadata": {},
   "outputs": [
    {
     "name": "stderr",
     "output_type": "stream",
     "text": [
      "/home/pravat/anaconda3/lib/python3.7/site-packages/sklearn/utils/validation.py:595: DataConversionWarning: Data with input dtype int64 was converted to float64 by StandardScaler.\n",
      "  warnings.warn(msg, DataConversionWarning)\n",
      "/home/pravat/anaconda3/lib/python3.7/site-packages/sklearn/utils/validation.py:595: DataConversionWarning: Data with input dtype int64 was converted to float64 by StandardScaler.\n",
      "  warnings.warn(msg, DataConversionWarning)\n",
      "/home/pravat/anaconda3/lib/python3.7/site-packages/sklearn/utils/validation.py:595: DataConversionWarning: Data with input dtype int64 was converted to float64 by StandardScaler.\n",
      "  warnings.warn(msg, DataConversionWarning)\n"
     ]
    }
   ],
   "source": [
    "# import a Standarization Scaler for Feature Scaling\n",
    "from sklearn.preprocessing import StandardScaler\n",
    "\n",
    "# feature scale the training and testing sets\n",
    "sc_x = StandardScaler()\n",
    "x_train = sc_x.fit_transform(x_train)\n",
    "x_test = sc_x.transform(x_test)"
   ]
  },
  {
   "cell_type": "markdown",
   "metadata": {},
   "source": [
    "# Kernel RBF Support Vector Machine"
   ]
  },
  {
   "cell_type": "code",
   "execution_count": 7,
   "metadata": {},
   "outputs": [],
   "source": [
    "# import the support vector classifier class\n",
    "from sklearn.svm import SVC"
   ]
  },
  {
   "cell_type": "code",
   "execution_count": 8,
   "metadata": {},
   "outputs": [
    {
     "data": {
      "text/plain": [
       "SVC(C=1.0, cache_size=200, class_weight=None, coef0=0.0,\n",
       "  decision_function_shape='ovr', degree=3, gamma='auto_deprecated',\n",
       "  kernel='rbf', max_iter=-1, probability=False, random_state=0,\n",
       "  shrinking=True, tol=0.001, verbose=False)"
      ]
     },
     "execution_count": 8,
     "metadata": {},
     "output_type": "execute_result"
    }
   ],
   "source": [
    "# create a RBF SVC classifier, then fit to the training set\n",
    "classifier = SVC(kernel=\"rbf\", random_state=0)\n",
    "classifier.fit(x_train, y_train)"
   ]
  },
  {
   "cell_type": "code",
   "execution_count": 9,
   "metadata": {},
   "outputs": [
    {
     "data": {
      "text/plain": [
       "array([0, 0, 0, 0, 0, 0, 0, 1, 0, 1, 0, 0, 0, 0, 0, 1, 0, 0, 1, 0, 0, 1,\n",
       "       0, 1, 0, 1, 0, 0, 0, 0, 0, 0, 1, 0, 0, 0, 0, 0, 0, 1, 0, 0, 0, 0,\n",
       "       1, 0, 0, 1, 0, 1, 1, 0, 0, 1, 1, 1, 0, 0, 1, 0, 0, 1, 0, 1, 0, 1,\n",
       "       0, 0, 0, 0, 1, 0, 0, 1, 0, 0, 0, 0, 1, 1, 1, 1, 0, 0, 1, 0, 0, 1,\n",
       "       1, 0, 0, 1, 0, 0, 0, 0, 0, 1, 1, 1])"
      ]
     },
     "execution_count": 9,
     "metadata": {},
     "output_type": "execute_result"
    }
   ],
   "source": [
    "# predict the training set results\n",
    "y_pred = classifier.predict(x_test)\n",
    "\n",
    "y_pred"
   ]
  },
  {
   "cell_type": "markdown",
   "metadata": {},
   "source": [
    "# Confusion Matrix"
   ]
  },
  {
   "cell_type": "code",
   "execution_count": 10,
   "metadata": {},
   "outputs": [],
   "source": [
    "# import the confusion matrix function\n",
    "from sklearn.metrics import confusion_matrix"
   ]
  },
  {
   "cell_type": "code",
   "execution_count": 12,
   "metadata": {},
   "outputs": [
    {
     "data": {
      "text/plain": [
       "array([[64,  4],\n",
       "       [ 3, 29]])"
      ]
     },
     "execution_count": 12,
     "metadata": {},
     "output_type": "execute_result"
    }
   ],
   "source": [
    "# create a confusion matrix that compares the y_test (actual) to the y_pred (prediction)\n",
    "cm = confusion_matrix(y_test, y_pred)\n",
    "\n",
    "\"\"\"\n",
    "Read the Confusion Matrix diagonally:\n",
    "64 + 29 = 93 correct predictions\n",
    "4 + 3 = 7 incorrect predictions\n",
    "\"\"\"\n",
    "cm"
   ]
  },
  {
   "cell_type": "markdown",
   "metadata": {},
   "source": [
    "# Testing Set Visualization\n",
    "We can see the RBF Kernel is non-linear because the prediction boundary isn't linear like Logistic Regression.\n",
    "\n",
    "Also, if you count the number of red dots in the green region and the number of green dots in the red region, there are 7 total. Therefore, like the confusion matrix outputted, there are 7 incorrect predictions."
   ]
  },
  {
   "cell_type": "code",
   "execution_count": 14,
   "metadata": {},
   "outputs": [],
   "source": [
    "# import a listed color map\n",
    "from matplotlib.colors import ListedColormap"
   ]
  },
  {
   "cell_type": "code",
   "execution_count": 17,
   "metadata": {},
   "outputs": [
    {
     "name": "stderr",
     "output_type": "stream",
     "text": [
      "'c' argument looks like a single numeric RGB or RGBA sequence, which should be avoided as value-mapping will have precedence in case its length matches with 'x' & 'y'.  Please use a 2-D array with a single row if you really want to specify the same RGB or RGBA value for all points.\n",
      "'c' argument looks like a single numeric RGB or RGBA sequence, which should be avoided as value-mapping will have precedence in case its length matches with 'x' & 'y'.  Please use a 2-D array with a single row if you really want to specify the same RGB or RGBA value for all points.\n"
     ]
    },
    {
     "data": {
      "image/png": "[encoded data removed]",
      "text/plain": [
       "<Figure size 432x288 with 1 Axes>"
      ]
     },
     "metadata": {
      "needs_background": "light"
     },
     "output_type": "display_data"
    }
   ],
   "source": [
    "# create a red (Purchased) and green (Not Purchased) separation at the classifier's threshold\n",
    "X_set, y_set = x_test, y_test\n",
    "X1, X2 = np.meshgrid(np.arange(start = X_set[:, 0].min() - 1, stop = X_set[:, 0].max() + 1, step = 0.01),\n",
    "                     np.arange(start = X_set[:, 1].min() - 1, stop = X_set[:, 1].max() + 1, step = 0.01))\n",
    "plt.contourf(X1, X2, classifier.predict(np.array([X1.ravel(), X2.ravel()]).T).reshape(X1.shape),\n",
    "             alpha = 0.75, cmap = ListedColormap(('red', 'green')))\n",
    "plt.xlim(X1.min(), X1.max())\n",
    "plt.ylim(X2.min(), X2.max())\n",
    "\n",
    "# scatter each data point from the training set: red = Purchased, green = Not Purchased\n",
    "for i, j in enumerate(np.unique(y_set)):\n",
    "    plt.scatter(X_set[y_set == j, 0], X_set[y_set == j, 1],\n",
    "                c = ListedColormap(('red', 'green'))(i), label = j)\n",
    "    \n",
    "# add labels (the axes are the two independent variables), then show the graph  \n",
    "plt.title('Logistic Regression (Test set)')\n",
    "plt.xlabel('Age')\n",
    "plt.ylabel('Estimated Salary')\n",
    "plt.legend()\n",
    "plt.show()"
   ]
  }
 ],
 "metadata": {
  "kernelspec": {
   "display_name": "Python 3",
   "language": "python",
   "name": "python3"
  },
  "language_info": {
   "codemirror_mode": {
    "name": "ipython",
    "version": 3
   },
   "file_extension": ".py",
   "mimetype": "text/x-python",
   "name": "python",
   "nbconvert_exporter": "python",
   "pygments_lexer": "ipython3",
   "version": "3.7.1"
  }
 },
 "nbformat": 4,
 "nbformat_minor": 2
}
