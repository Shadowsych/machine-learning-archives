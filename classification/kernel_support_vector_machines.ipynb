{
 "cells": [
  {
   "cell_type": "markdown",
   "metadata": {},
   "source": [
    "# Kernel Support Vector Machine (SVM)\n",
    "A Kernel SVM is about determining the best decision boundary to separate classifications using a gaussian (non-linear) function.\n",
    "\n",
    "Sometimes, you cannot properly separate vectors using a linear function.\n",
    "- This is because the data set is \"Not Linearly Separable\"\n",
    "\n",
    "### Visual Difference of Separable Graphs\n",
    "<img src=\"images/ksvm/separable_example.png\" height=\"75%\" width=\"75%\"></img>\n",
    "\n",
    "The \"Not Linearly Separable\" graph cannot be modelled properly using a line."
   ]
  },
  {
   "cell_type": "code",
   "execution_count": null,
   "metadata": {},
   "outputs": [],
   "source": []
  }
 ],
 "metadata": {
  "kernelspec": {
   "display_name": "Python 3",
   "language": "python",
   "name": "python3"
  },
  "language_info": {
   "codemirror_mode": {
    "name": "ipython",
    "version": 3
   },
   "file_extension": ".py",
   "mimetype": "text/x-python",
   "name": "python",
   "nbconvert_exporter": "python",
   "pygments_lexer": "ipython3",
   "version": "3.7.1"
  }
 },
 "nbformat": 4,
 "nbformat_minor": 2
}
