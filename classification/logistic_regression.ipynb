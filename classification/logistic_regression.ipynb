{
 "cells": [
  {
   "cell_type": "markdown",
   "metadata": {},
   "source": [
    "# Logistic Regression (LR)\n",
    "Logistic Regression uses the regression concept to classify something based on the features (independent variables).\n",
    "\n",
    "### Logistic Regression Visualization\n",
    "\n",
    "<img src=\"images/lr/probability_example.png\" height=\"75%\" width=\"75%\"></img>\n",
    "\n",
    "- If a predicted value has a probability (y^) greater than 0.5, then it's classified as \"1\"\n",
    "- If a predicted value as a probability (y^) less than 0.5, then it's classified as \"0\"\n",
    "\n",
    "### When To Use?\n",
    "Logistic Regression is best used when an independent variable's values less/greater than a threshold predicts \"0\", and greater/less than the threshold predicts \"1\".\n",
    "- Basically, the classification switches from \"0\" to \"1\" if the independent variable's values pass a threshold\n",
    "\n",
    "There can also be multiple independent variables, and they each have their independent thresholds."
   ]
  },
  {
   "cell_type": "markdown",
   "metadata": {},
   "source": [
    "# Example of Logistic Regression Problem\n",
    "<img src=\"images/lr/skeleton_example.png\" height=\"50%\" width=\"50%\"></img>\n",
    "\n",
    "If given an age of a person, can we predict whether they will purchase the product?\n",
    "- 1 = Yes\n",
    "- 0 = No\n",
    "\n",
    "### Conclusion From Visualization\n",
    "For less aged people, more data points land on 0 (No). For older aged people, more data points land on 1 (Yes).\n",
    "- Therefore, we can state older-aged people purchase the product more than younger-aged people.\n",
    "\n",
    "### Modelling With Logistic Regression\n",
    "<img src=\"images/lr/logistic_regression_example.png\" height=\"75%\" width=\"75%\"></img>\n",
    "\n",
    "Logistic Regression is performed by creating a linear regression model, then applying a sigmoid function on the original linear regression, then solving for y from the sigmoid function."
   ]
  },
  {
   "cell_type": "code",
   "execution_count": null,
   "metadata": {},
   "outputs": [],
   "source": []
  }
 ],
 "metadata": {
  "kernelspec": {
   "display_name": "Python 3",
   "language": "python",
   "name": "python3"
  },
  "language_info": {
   "codemirror_mode": {
    "name": "ipython",
    "version": 3
   },
   "file_extension": ".py",
   "mimetype": "text/x-python",
   "name": "python",
   "nbconvert_exporter": "python",
   "pygments_lexer": "ipython3",
   "version": "3.7.1"
  }
 },
 "nbformat": 4,
 "nbformat_minor": 2
}
