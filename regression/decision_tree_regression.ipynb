{
 "cells": [
  {
   "cell_type": "markdown",
   "metadata": {},
   "source": [
    "# Decision Tree Regression\n",
    "A decision tree will split data points into leafs (segments or clusters of related data points).\n",
    "\n",
    "How and where the splits are determined by calculating information entropy of a leaf.\n",
    "- Information Entropy follows Homogeneity: group a data point with similar data points\n",
    "- The algorithm will stop splitting when it crosses a minimum threshold to create a leaf\n",
    "    - Ex: If a leaf has less than 5% of the total data points, then the leaf won't be created\n",
    "    \n",
    "The final leafs that were created and used in the decision tree are called \"terminal leafs.\"\n",
    "- Each final leaf's value is the average of the y-values of the data points in the leaf\n",
    "\n",
    "# Example of a Decision Tree\n",
    "### Decision Tree Splits\n",
    "<img src=\"images/dtr/decision_tree_intuition.png\" height=\"75%\" width=\"75%\"></img>\n",
    "\n",
    "This diagram shows the x1 and x2 plane for the independent variables in the data set. It shows how they were split into 5 terminal leaf regions.\n",
    "\n",
    "Each terminal leaf has a value, which is the average of the y-values among the data points in the terminal leaf.\n",
    "\n",
    "### Decision Tree\n",
    "<img src=\"images/dtr/decision_tree_example.png\" height=\"50%\" width=\"50%\"></img>\n",
    "\n",
    "This decision tree was created from the terminal leafs in the above diagram.\n",
    "\n",
    "We can predict x-values by traversing through the decision tree.\n",
    "\n",
    "For example, if X1 = 25 and X2 = 250, then we can predict the value:\n",
    "- Since X1 is not less than 20, we traverse through the \"No\" branch\n",
    "- Since X2 is not less than 170, we traverse through the \"No\" branch\n",
    "- Now we arrived at the terminal leaf of 1023, so the predicted y-value is 1023\n",
    "\n",
    "As you can see, the independent variables do not out-scale each other when predicting values, so feature scaling is not necessary for decision tree regression.\n",
    "\n",
    "Although this decision tree doesn't seem accurate, SKLearn's decision tree algorithm uses advanced information entropy algorithms to decide the best terminal leafs."
   ]
  },
  {
   "cell_type": "code",
   "execution_count": 2,
   "metadata": {},
   "outputs": [],
   "source": [
    "# import the required libraries\n",
    "import numpy as np\n",
    "import matplotlib.pyplot as plt\n",
    "import pandas as pd"
   ]
  },
  {
   "cell_type": "code",
   "execution_count": 3,
   "metadata": {},
   "outputs": [
    {
     "data": {
      "text/html": [
       "<div>\n",
       "<style scoped>\n",
       "    .dataframe tbody tr th:only-of-type {\n",
       "        vertical-align: middle;\n",
       "    }\n",
       "\n",
       "    .dataframe tbody tr th {\n",
       "        vertical-align: top;\n",
       "    }\n",
       "\n",
       "    .dataframe thead th {\n",
       "        text-align: right;\n",
       "    }\n",
       "</style>\n",
       "<table border=\"1\" class=\"dataframe\">\n",
       "  <thead>\n",
       "    <tr style=\"text-align: right;\">\n",
       "      <th></th>\n",
       "      <th>Position</th>\n",
       "      <th>Level</th>\n",
       "      <th>Salary</th>\n",
       "    </tr>\n",
       "  </thead>\n",
       "  <tbody>\n",
       "    <tr>\n",
       "      <th>0</th>\n",
       "      <td>Business Analyst</td>\n",
       "      <td>1</td>\n",
       "      <td>45000</td>\n",
       "    </tr>\n",
       "    <tr>\n",
       "      <th>1</th>\n",
       "      <td>Junior Consultant</td>\n",
       "      <td>2</td>\n",
       "      <td>50000</td>\n",
       "    </tr>\n",
       "    <tr>\n",
       "      <th>2</th>\n",
       "      <td>Senior Consultant</td>\n",
       "      <td>3</td>\n",
       "      <td>60000</td>\n",
       "    </tr>\n",
       "    <tr>\n",
       "      <th>3</th>\n",
       "      <td>Manager</td>\n",
       "      <td>4</td>\n",
       "      <td>80000</td>\n",
       "    </tr>\n",
       "    <tr>\n",
       "      <th>4</th>\n",
       "      <td>Country Manager</td>\n",
       "      <td>5</td>\n",
       "      <td>110000</td>\n",
       "    </tr>\n",
       "    <tr>\n",
       "      <th>5</th>\n",
       "      <td>Region Manager</td>\n",
       "      <td>6</td>\n",
       "      <td>150000</td>\n",
       "    </tr>\n",
       "    <tr>\n",
       "      <th>6</th>\n",
       "      <td>Partner</td>\n",
       "      <td>7</td>\n",
       "      <td>200000</td>\n",
       "    </tr>\n",
       "    <tr>\n",
       "      <th>7</th>\n",
       "      <td>Senior Partner</td>\n",
       "      <td>8</td>\n",
       "      <td>300000</td>\n",
       "    </tr>\n",
       "    <tr>\n",
       "      <th>8</th>\n",
       "      <td>C-level</td>\n",
       "      <td>9</td>\n",
       "      <td>500000</td>\n",
       "    </tr>\n",
       "    <tr>\n",
       "      <th>9</th>\n",
       "      <td>CEO</td>\n",
       "      <td>10</td>\n",
       "      <td>1000000</td>\n",
       "    </tr>\n",
       "  </tbody>\n",
       "</table>\n",
       "</div>"
      ],
      "text/plain": [
       "            Position  Level   Salary\n",
       "0   Business Analyst      1    45000\n",
       "1  Junior Consultant      2    50000\n",
       "2  Senior Consultant      3    60000\n",
       "3            Manager      4    80000\n",
       "4    Country Manager      5   110000\n",
       "5     Region Manager      6   150000\n",
       "6            Partner      7   200000\n",
       "7     Senior Partner      8   300000\n",
       "8            C-level      9   500000\n",
       "9                CEO     10  1000000"
      ]
     },
     "execution_count": 3,
     "metadata": {},
     "output_type": "execute_result"
    }
   ],
   "source": [
    "# import the data set\n",
    "customers_df = pd.read_csv(\"datasets/position_salaries.csv\")\n",
    "\n",
    "customers_df"
   ]
  },
  {
   "cell_type": "code",
   "execution_count": 4,
   "metadata": {},
   "outputs": [],
   "source": [
    "# the independent variable is the Level\n",
    "x = customers_df.iloc[:, 1:2].values\n",
    "\n",
    "# the dependent variable is the Salary\n",
    "y = customers_df.iloc[:, 2].values"
   ]
  },
  {
   "cell_type": "code",
   "execution_count": 5,
   "metadata": {},
   "outputs": [],
   "source": [
    "# import the decision tree regressor class\n",
    "from sklearn.tree import DecisionTreeRegressor"
   ]
  },
  {
   "cell_type": "code",
   "execution_count": 6,
   "metadata": {},
   "outputs": [
    {
     "data": {
      "text/plain": [
       "DecisionTreeRegressor(criterion='mse', max_depth=None, max_features=None,\n",
       "           max_leaf_nodes=None, min_impurity_decrease=0.0,\n",
       "           min_impurity_split=None, min_samples_leaf=1,\n",
       "           min_samples_split=2, min_weight_fraction_leaf=0.0,\n",
       "           presort=False, random_state=0, splitter='best')"
      ]
     },
     "execution_count": 6,
     "metadata": {},
     "output_type": "execute_result"
    }
   ],
   "source": [
    "# create a regressor with a random state (seed) of 0, then fit to the data set\n",
    "regressor = DecisionTreeRegressor(random_state=0)\n",
    "regressor.fit(x, y)"
   ]
  },
  {
   "cell_type": "code",
   "execution_count": 7,
   "metadata": {},
   "outputs": [
    {
     "data": {
      "image/png": "[encoded data removed]",
      "text/plain": [
       "<Figure size 432x288 with 1 Axes>"
      ]
     },
     "metadata": {
      "needs_background": "light"
     },
     "output_type": "display_data"
    }
   ],
   "source": [
    "# scatter plot the actual data\n",
    "plt.scatter(x, y, color=\"red\")\n",
    "\n",
    "# use the SVR data points to plot the predicted data\n",
    "plt.plot(x, regressor.predict(x), color=\"blue\")\n",
    "\n",
    "# labels\n",
    "plt.title(\"Decision Tree Regression Salary Predictor\")\n",
    "plt.xlabel(\"Level\")\n",
    "plt.ylabel(\"Salary\")\n",
    "\n",
    "plt.show()"
   ]
  },
  {
   "cell_type": "markdown",
   "metadata": {},
   "source": [
    "# Decision Tree Trap!\n",
    "Decision Trees uses the entropy of information (independent variables), but the decision tree is a non-continous and non-linear machine learning model.\n",
    "- Because decision trees attempt to get the average values of terminal leafs, and we're using a single independent variable (1-D space), it will only plot the 10 levels exactly and not any values in-between the levels\n",
    "\n",
    "Therefore, we cannot represent a decision tree as a graphical model since it's NOT continous.\n",
    "\n",
    "### Best Way to Visualize Non-Continous Model?\n",
    "The best way to visualize such a model is by creating higher resolutions (separate the x-values even more)."
   ]
  },
  {
   "cell_type": "code",
   "execution_count": 8,
   "metadata": {},
   "outputs": [
    {
     "data": {
      "image/png": "[encoded data removed]",
      "text/plain": [
       "<Figure size 432x288 with 1 Axes>"
      ]
     },
     "metadata": {
      "needs_background": "light"
     },
     "output_type": "display_data"
    }
   ],
   "source": [
    "# increase the x-values resolution to 0.01 separations\n",
    "x_grid = np.arange(min(x), max(x), 0.01)\n",
    "x_grid = x_grid.reshape(len(x_grid), 1)\n",
    "\n",
    "# scatter plot the actual values\n",
    "plt.scatter(x, y, color=\"red\")\n",
    "\n",
    "# line plot the predicted values with higher resolution\n",
    "plt.plot(x_grid, regressor.predict(x_grid), color=\"blue\")\n",
    "\n",
    "# labels\n",
    "plt.title(\"Decision Tree Regression Salary Predictor\")\n",
    "plt.xlabel(\"Level\")\n",
    "plt.ylabel(\"Salary\")\n",
    "\n",
    "plt.show()"
   ]
  },
  {
   "cell_type": "markdown",
   "metadata": {},
   "source": [
    "# Much Better Visualizations\n",
    "Because a decision tree splits into different intervals, we can clearly see these intervals with the vertical line separations within the graph.\n",
    "\n",
    "Because decision trees use the average of terminal leafs, we can determine the terminal leafs.\n",
    "- For instance, for the interval between 5.5 and 6.5 the salary is predicted to be 150,000\n",
    "    - This means a terminal leaf that was created by the decision tree at x-values from 5.5 to 6.5"
   ]
  },
  {
   "cell_type": "code",
   "execution_count": 9,
   "metadata": {},
   "outputs": [
    {
     "data": {
      "text/plain": [
       "array([150000.])"
      ]
     },
     "execution_count": 9,
     "metadata": {},
     "output_type": "execute_result"
    }
   ],
   "source": [
    "# predict level 6.5\n",
    "y_pred = regressor.predict([[6.5]])\n",
    "\n",
    "y_pred"
   ]
  }
 ],
 "metadata": {
  "kernelspec": {
   "display_name": "Python 3",
   "language": "python",
   "name": "python3"
  },
  "language_info": {
   "codemirror_mode": {
    "name": "ipython",
    "version": 3
   },
   "file_extension": ".py",
   "mimetype": "text/x-python",
   "name": "python",
   "nbconvert_exporter": "python",
   "pygments_lexer": "ipython3",
   "version": "3.7.1"
  }
 },
 "nbformat": 4,
 "nbformat_minor": 2
}
