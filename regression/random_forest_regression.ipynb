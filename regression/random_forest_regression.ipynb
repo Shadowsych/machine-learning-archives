{
 "cells": [
  {
   "cell_type": "markdown",
   "metadata": {},
   "source": [
    "# Random Forest Regression\n",
    "### Random Forest Algorithm:\n",
    "- Step 1: Pick at random K data points from the training set\n",
    "- Step 2: Build a Decision Tree for only these K data points (it's like a subset tree)\n",
    "- Step 3: Choose the number of trees (NTrees) you want to build\n",
    "    - Repeat Steps 1 and 2, so just keep building and building these trees until having NTrees\n",
    "- Step 4: Finally, use all decision trees to predict a data point's y-value\n",
    "    - Make each NTree predict the y-value for the data point\n",
    "        - The final predicted y-value will be the average of all predicted y-values\n",
    "        \n",
    "### When to Use Random Forest Regression?\n",
    "Whenever there are multiple independent variables and you have large data set, a random forest regression is more optimal over a single decision tree.\n",
    "\n",
    "This is because using the large data set allows the algorithm to converge the averages of the decision trees (NTrees) to a more accurately predicted value. \n",
    "        \n",
    "### Example of a Random Forest Regression\n",
    "Let's say I have 50 data points. I want 5 trees (NTrees). Therefore, each tree has 10 data points.\n",
    "\n",
    "If I want to predict when x1 = 5, x2 = 15, and x3 = 500, each decision tree will give their predicted y-value.\n",
    "- Decision Tree 1 predicted 35\n",
    "- Decision Tree 2 predicted 25\n",
    "- Decision Tree 3 predicted 30\n",
    "- Decision Tree 4 predicted 43\n",
    "- Decision Tree 5 predicted 42\n",
    "\n",
    "Now get the average of the NTrees predictions: ```(35 + 25 + 30 + 43 + 42) / 5``` = 35.\n",
    "\n",
    "Therefore, the predicted value is 35.\n",
    "\n",
    "### Ensemble Learning\n",
    "Random Forest Regression is an example of ensemble learning.\n",
    "\n",
    "Ensemble Learning: When you take multiple algorithms, or the same algorithm multiple times, and put them together to make something more accurate than original.\n",
    "\n",
    "Random Forest Regression is considered ensemble learning because it uses the decision tree method multiple times."
   ]
  },
  {
   "cell_type": "code",
   "execution_count": 1,
   "metadata": {},
   "outputs": [],
   "source": [
    "# import the required libraries\n",
    "import numpy as np\n",
    "import matplotlib.pyplot as plt\n",
    "import pandas as pd"
   ]
  },
  {
   "cell_type": "code",
   "execution_count": 2,
   "metadata": {},
   "outputs": [
    {
     "data": {
      "text/html": [
       "<div>\n",
       "<style scoped>\n",
       "    .dataframe tbody tr th:only-of-type {\n",
       "        vertical-align: middle;\n",
       "    }\n",
       "\n",
       "    .dataframe tbody tr th {\n",
       "        vertical-align: top;\n",
       "    }\n",
       "\n",
       "    .dataframe thead th {\n",
       "        text-align: right;\n",
       "    }\n",
       "</style>\n",
       "<table border=\"1\" class=\"dataframe\">\n",
       "  <thead>\n",
       "    <tr style=\"text-align: right;\">\n",
       "      <th></th>\n",
       "      <th>Position</th>\n",
       "      <th>Level</th>\n",
       "      <th>Salary</th>\n",
       "    </tr>\n",
       "  </thead>\n",
       "  <tbody>\n",
       "    <tr>\n",
       "      <th>0</th>\n",
       "      <td>Business Analyst</td>\n",
       "      <td>1</td>\n",
       "      <td>45000</td>\n",
       "    </tr>\n",
       "    <tr>\n",
       "      <th>1</th>\n",
       "      <td>Junior Consultant</td>\n",
       "      <td>2</td>\n",
       "      <td>50000</td>\n",
       "    </tr>\n",
       "    <tr>\n",
       "      <th>2</th>\n",
       "      <td>Senior Consultant</td>\n",
       "      <td>3</td>\n",
       "      <td>60000</td>\n",
       "    </tr>\n",
       "    <tr>\n",
       "      <th>3</th>\n",
       "      <td>Manager</td>\n",
       "      <td>4</td>\n",
       "      <td>80000</td>\n",
       "    </tr>\n",
       "    <tr>\n",
       "      <th>4</th>\n",
       "      <td>Country Manager</td>\n",
       "      <td>5</td>\n",
       "      <td>110000</td>\n",
       "    </tr>\n",
       "    <tr>\n",
       "      <th>5</th>\n",
       "      <td>Region Manager</td>\n",
       "      <td>6</td>\n",
       "      <td>150000</td>\n",
       "    </tr>\n",
       "    <tr>\n",
       "      <th>6</th>\n",
       "      <td>Partner</td>\n",
       "      <td>7</td>\n",
       "      <td>200000</td>\n",
       "    </tr>\n",
       "    <tr>\n",
       "      <th>7</th>\n",
       "      <td>Senior Partner</td>\n",
       "      <td>8</td>\n",
       "      <td>300000</td>\n",
       "    </tr>\n",
       "    <tr>\n",
       "      <th>8</th>\n",
       "      <td>C-level</td>\n",
       "      <td>9</td>\n",
       "      <td>500000</td>\n",
       "    </tr>\n",
       "    <tr>\n",
       "      <th>9</th>\n",
       "      <td>CEO</td>\n",
       "      <td>10</td>\n",
       "      <td>1000000</td>\n",
       "    </tr>\n",
       "  </tbody>\n",
       "</table>\n",
       "</div>"
      ],
      "text/plain": [
       "            Position  Level   Salary\n",
       "0   Business Analyst      1    45000\n",
       "1  Junior Consultant      2    50000\n",
       "2  Senior Consultant      3    60000\n",
       "3            Manager      4    80000\n",
       "4    Country Manager      5   110000\n",
       "5     Region Manager      6   150000\n",
       "6            Partner      7   200000\n",
       "7     Senior Partner      8   300000\n",
       "8            C-level      9   500000\n",
       "9                CEO     10  1000000"
      ]
     },
     "execution_count": 2,
     "metadata": {},
     "output_type": "execute_result"
    }
   ],
   "source": [
    "# import the data set\n",
    "customers_df = pd.read_csv(\"datasets/position_salaries.csv\")\n",
    "\n",
    "customers_df"
   ]
  },
  {
   "cell_type": "code",
   "execution_count": 3,
   "metadata": {},
   "outputs": [],
   "source": [
    "# the independent variable is the Level\n",
    "x = customers_df.iloc[:, 1:2].values\n",
    "\n",
    "# the dependent variable is the Salary\n",
    "y = customers_df.iloc[:, 2].values"
   ]
  },
  {
   "cell_type": "code",
   "execution_count": 5,
   "metadata": {},
   "outputs": [],
   "source": [
    "# import the random forest regressor class\n",
    "from sklearn.ensemble import RandomForestRegressor"
   ]
  },
  {
   "cell_type": "code",
   "execution_count": 13,
   "metadata": {},
   "outputs": [
    {
     "data": {
      "text/plain": [
       "RandomForestRegressor(bootstrap=True, criterion='mse', max_depth=None,\n",
       "           max_features='auto', max_leaf_nodes=None,\n",
       "           min_impurity_decrease=0.0, min_impurity_split=None,\n",
       "           min_samples_leaf=1, min_samples_split=2,\n",
       "           min_weight_fraction_leaf=0.0, n_estimators=10, n_jobs=None,\n",
       "           oob_score=False, random_state=0, verbose=0, warm_start=False)"
      ]
     },
     "execution_count": 13,
     "metadata": {},
     "output_type": "execute_result"
    }
   ],
   "source": [
    "# create a random forest regressor with 10 trees and random state (seed) of 0, then fit to data set\n",
    "regressor = RandomForestRegressor(n_estimators=10, random_state=0)\n",
    "regressor.fit(x, y)"
   ]
  },
  {
   "cell_type": "markdown",
   "metadata": {},
   "source": [
    "# Non-Continous Visualization\n",
    "Random Forest Regression is non-continous and non-linear because it uses the decision tree algorithm multiple times, which itself is non-continous and non-linear.\n",
    "\n",
    "Therefore, we need to increase the x-value resolution by having greater separations.\n",
    "\n",
    "### Why Are There More Visualized Steps in Random Forest Regression?\n",
    "Notice that unlike a single decision tree, the random forest regression has more \"steps\" in the visualization.\n",
    "\n",
    "This is because the random forest regression uses multiple decision trees.\n",
    "\n",
    "Multiple decision trees means greater number of splits, leading to more terminal leafs, causing an increase in the number of steps in the visualization.\n",
    "\n",
    "### Will Increasing Trees Increase Visualized Steps?\n",
    "Not really, because sooner or later having more trees would converge to the same average because the decision tree algorithm will decide that there's no more valuable informational entropy by splitting into more leafs.\n",
    "\n",
    "Although you may not be able to see more steps visually, when actually getting prediction values with more trees, the values may be different based on the number of trees used.\n",
    "- For example, using only 10 trees gives a prediction of 167,000 while 300 trees gives a prediction of 160,333 when predicting level 6.5\n",
    "    - However, 167,000 versus 160,333 isn't really visually different on a graph"
   ]
  },
  {
   "cell_type": "code",
   "execution_count": 12,
   "metadata": {},
   "outputs": [
    {
     "data": {
      "image/png": "[encoded data removed]",
      "text/plain": [
       "<Figure size 432x288 with 1 Axes>"
      ]
     },
     "metadata": {
      "needs_background": "light"
     },
     "output_type": "display_data"
    }
   ],
   "source": [
    "# increase the x-values resolution to 0.01 separations\n",
    "x_grid = np.arange(min(x), max(x), 0.01)\n",
    "x_grid = x_grid.reshape(len(x_grid), 1)\n",
    "\n",
    "# scatter plot the actual values\n",
    "plt.scatter(x, y, color=\"red\")\n",
    "\n",
    "# line plot the predicted values with higher resolution\n",
    "plt.plot(x_grid, regressor.predict(x_grid), color=\"blue\")\n",
    "\n",
    "# labels\n",
    "plt.title(\"Decision Tree Regression Salary Predictor\")\n",
    "plt.xlabel(\"Level\")\n",
    "plt.ylabel(\"Salary\")\n",
    "\n",
    "plt.show()"
   ]
  },
  {
   "cell_type": "code",
   "execution_count": 16,
   "metadata": {},
   "outputs": [
    {
     "data": {
      "text/plain": [
       "array([167000.])"
      ]
     },
     "execution_count": 16,
     "metadata": {},
     "output_type": "execute_result"
    }
   ],
   "source": [
    "# predict level 6.5\n",
    "y_pred = regressor.predict([[6.5]])\n",
    "\n",
    "y_pred"
   ]
  }
 ],
 "metadata": {
  "kernelspec": {
   "display_name": "Python 3",
   "language": "python",
   "name": "python3"
  },
  "language_info": {
   "codemirror_mode": {
    "name": "ipython",
    "version": 3
   },
   "file_extension": ".py",
   "mimetype": "text/x-python",
   "name": "python",
   "nbconvert_exporter": "python",
   "pygments_lexer": "ipython3",
   "version": "3.7.1"
  }
 },
 "nbformat": 4,
 "nbformat_minor": 2
}
