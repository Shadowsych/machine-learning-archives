{
 "cells": [
  {
   "cell_type": "markdown",
   "metadata": {},
   "source": [
    "# Simple Linear Regression (SLR)\n",
    "Simple Linear Regression uses a best-fit line to make predictions.\n",
    "\n",
    "### Formula\n",
    "```y = mx + b```\n",
    "- y is the dependent variable\n",
    "- m is the slope (rate of change)\n",
    "- x is the independent variable\n",
    "- b is the y-intercept of the line"
   ]
  },
  {
   "cell_type": "markdown",
   "metadata": {},
   "source": [
    "# Example of Simple Linear Regression\n",
    "<img src=\"images/slr/slr_example.png\" height=\"50%\" width=\"50%\"></img>\n",
    "\n",
    "The line above is the best-fit line using the data set and the linear regression formula.\n",
    "- y is the Salary\n",
    "- b1 is the slope (rate of change) in salary based on experience of the employee\n",
    "- x is the Experience of the Employee\n",
    "- b0 is the base point, where x (experience of employee) is equal to 0"
   ]
  },
  {
   "cell_type": "markdown",
   "metadata": {},
   "source": [
    "# Ordinary Least Squares\n",
    "A simple linear regression's best-fit line is determined by the \"Ordinary Least Squares\" method.\n",
    "\n",
    "<img src=\"images/slr/slr_ols.png\" height=\"50%\" width=\"50%\"></img>\n",
    "- point ```yi``` indicates the actual point in the data set\n",
    "- point ```yi^``` indicates the predicted point in the data set\n",
    "\n",
    "\n",
    "The best-fit line has the least squared sum distances between ```yi``` and ```yi^```.\n",
    "- Multiple lines can be created, but the best-fit is the line with the least squared distances"
   ]
  },
  {
   "cell_type": "markdown",
   "metadata": {},
   "source": [
    "# SKLearn Linear Regression Model"
   ]
  },
  {
   "cell_type": "code",
   "execution_count": 62,
   "metadata": {},
   "outputs": [],
   "source": [
    "# import libraries\n",
    "import numpy as np\n",
    "import pandas as pd"
   ]
  },
  {
   "cell_type": "code",
   "execution_count": 63,
   "metadata": {},
   "outputs": [],
   "source": [
    "# import the data set\n",
    "salary_df = pd.read_csv(\"datasets/salary_data.csv\")\n",
    "\n",
    "# x is the experience column\n",
    "x = salary_df.iloc[:, :-1].values\n",
    "\n",
    "# y is the salary column\n",
    "y = salary_df.iloc[:, 1].values\n",
    "\n",
    "# split the data set into training and testing data sets\n",
    "from sklearn.model_selection import train_test_split \n",
    "x_train, x_test, y_train, y_test = train_test_split(x, y, test_size=1/3, random_state=0)"
   ]
  },
  {
   "cell_type": "code",
   "execution_count": 64,
   "metadata": {},
   "outputs": [
    {
     "data": {
      "text/plain": [
       "LinearRegression(copy_X=True, fit_intercept=True, n_jobs=None,\n",
       "         normalize=False)"
      ]
     },
     "execution_count": 64,
     "metadata": {},
     "output_type": "execute_result"
    }
   ],
   "source": [
    "# import the linear regression class\n",
    "from sklearn.linear_model import LinearRegression\n",
    "\n",
    "# create a linear regressor Object, then fit it to the training data\n",
    "regressor = LinearRegression()\n",
    "regressor.fit(x_train, y_train)"
   ]
  },
  {
   "cell_type": "code",
   "execution_count": 65,
   "metadata": {},
   "outputs": [
    {
     "data": {
      "text/plain": [
       "array([ 40835.10590871, 123079.39940819,  65134.55626083,  63265.36777221,\n",
       "       115602.64545369, 108125.8914992 , 116537.23969801,  64199.96201652,\n",
       "        76349.68719258, 100649.1375447 ])"
      ]
     },
     "execution_count": 65,
     "metadata": {},
     "output_type": "execute_result"
    }
   ],
   "source": [
    "# predict the test set results\n",
    "y_pred = regressor.predict(x_test)\n",
    "\n",
    "y_pred"
   ]
  },
  {
   "cell_type": "code",
   "execution_count": 66,
   "metadata": {},
   "outputs": [
    {
     "name": "stdout",
     "output_type": "stream",
     "text": [
      "Predicted: 40835.0 vs Actual: 37731.0 ---> Difference: 3104.0\n",
      "Predicted: 123079.0 vs Actual: 122391.0 ---> Difference: 688.0\n",
      "Predicted: 65135.0 vs Actual: 57081.0 ---> Difference: 8054.0\n",
      "Predicted: 63265.0 vs Actual: 63218.0 ---> Difference: 47.0\n",
      "Predicted: 115603.0 vs Actual: 116969.0 ---> Difference: 1366.0\n",
      "Predicted: 108126.0 vs Actual: 109431.0 ---> Difference: 1305.0\n",
      "Predicted: 116537.0 vs Actual: 112635.0 ---> Difference: 3902.0\n",
      "Predicted: 64200.0 vs Actual: 55794.0 ---> Difference: 8406.0\n",
      "Predicted: 76350.0 vs Actual: 83088.0 ---> Difference: 6738.0\n",
      "Predicted: 100649.0 vs Actual: 101302.0 ---> Difference: 653.0\n"
     ]
    }
   ],
   "source": [
    "# compare y_pred (prediction) to the y_test (actual)\n",
    "i = 0\n",
    "while i < len(y_pred):\n",
    "    diff = abs(round(y_pred[i]) - y_test[i])\n",
    "    print(\"Predicted: \" + str(round(y_pred[i])) + \" vs Actual: \" + str(y_test[i]) +\n",
    "          \" ---> Difference: \" + str(diff))\n",
    "    i += 1"
   ]
  },
  {
   "cell_type": "markdown",
   "metadata": {},
   "source": [
    "# Visualizing Results\n",
    "Based on the visualizations, I would say the linear regression model is accurate."
   ]
  },
  {
   "cell_type": "code",
   "execution_count": 67,
   "metadata": {},
   "outputs": [],
   "source": [
    "# import libraries\n",
    "import matplotlib.pyplot as plt"
   ]
  },
  {
   "cell_type": "code",
   "execution_count": 68,
   "metadata": {},
   "outputs": [
    {
     "data": {
      "text/plain": [
       "[<matplotlib.lines.Line2D at 0x7f49076401d0>]"
      ]
     },
     "execution_count": 68,
     "metadata": {},
     "output_type": "execute_result"
    },
    {
     "data": {
      "image/png": "[encoded data removed]",
      "text/plain": [
       "<Figure size 432x288 with 1 Axes>"
      ]
     },
     "metadata": {
      "needs_background": "light"
     },
     "output_type": "display_data"
    }
   ],
   "source": [
    "# create a figure with evenly-spaced axes\n",
    "figure = plt.figure()\n",
    "axes = figure.add_axes([1, 1, 1, 1])\n",
    "\n",
    "# set labels\n",
    "axes.set_xlabel(\"Experience (Years)\")\n",
    "axes.set_ylabel(\"Predicted Salary (USD)\")\n",
    "axes.set_title(\"Predicted Salary by Experience\")\n",
    "\n",
    "# scatter plot the actual salary\n",
    "axes.scatter(x_test, y_test, color=\"red\")\n",
    "\n",
    "# line plot the predicted salary\n",
    "axes.plot(x_test, y_pred)"
   ]
  }
 ],
 "metadata": {
  "kernelspec": {
   "display_name": "Python 3",
   "language": "python",
   "name": "python3"
  },
  "language_info": {
   "codemirror_mode": {
    "name": "ipython",
    "version": 3
   },
   "file_extension": ".py",
   "mimetype": "text/x-python",
   "name": "python",
   "nbconvert_exporter": "python",
   "pygments_lexer": "ipython3",
   "version": "3.7.1"
  }
 },
 "nbformat": 4,
 "nbformat_minor": 2
}
