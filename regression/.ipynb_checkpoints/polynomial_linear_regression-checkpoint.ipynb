{
 "cells": [
  {
   "cell_type": "markdown",
   "metadata": {},
   "source": [
    "# Polynomial Linear Regression (PLR)\n",
    "Polynomial Linear Regression uses a best-fit line with higher degrees.\n",
    "\n",
    "### Formula\n",
    "```y = b0 + b1*x + b2*x^2 + ... bn*x^n```\n",
    "- n is highest degree\n",
    "- y is the dependent variable\n",
    "- m is the slope (rate of change)\n",
    "- x is the independent variable\n",
    "- b0 is the y-intercept of the line\n",
    "\n",
    "Notice that there's only one independent variable, x; but multiple coefficients up to n.\n",
    "\n",
    "### Why Is It Linear?\n",
    "The definition of a \"linear\" model is not based on the relationship between y and x, but instead its if the function can be expressed as a linear combination of the b-coefficients.\n",
    "\n",
    "The goal of a regression model is to determine the b-coefficient, so if it's linearly determined then it's a linear model.\n",
    "\n",
    "An example of a polynomial linear regression is:\n",
    "- ```y = 2x^2 + 5x + 3``` where b2 = 2, b1 = 5, and b0 = 3\n",
    "\n",
    "All b-coefficients were determined linearly, so it's a linear model.\n",
    "\n",
    "A non-linear example would be:\n",
    "- ```y = (b2*x^2) / (b0 + b1*x)```"
   ]
  },
  {
   "cell_type": "markdown",
   "metadata": {},
   "source": [
    "# Example of Polynomial Linear Regression\n",
    "<img src=\"images/plr/plr_example.png\" height=\"75%\" width=\"75%\"></img>\n",
    "\n",
    "A simple linear regression model would not be ideal for these data points because a polynomial regression model better-fits the data points. This example uses a polynomial regression model with a degree of 2."
   ]
  },
  {
   "cell_type": "markdown",
   "metadata": {},
   "source": [
    "# SKLearn Polynomial Linear Regression Model\n",
    "The data set shows salary information for each position. The higher the level, the higher the position, thus the higher the salary.\n",
    "\n",
    "The problem is that an HR person is trying to determine the salary of a person in-between a Partner and Senior Partner level. Unfortunately, a salary between those two level are not given, so the HR person needs to predict the salary. Looking at the data set, the level the HR person must predict is 6.5\n",
    "\n",
    "Furthermore, based on the data set, the salary is best represented as a polynomial function."
   ]
  },
  {
   "cell_type": "code",
   "execution_count": 4,
   "metadata": {},
   "outputs": [],
   "source": [
    "# import the required libraries\n",
    "import numpy as np\n",
    "import matplotlib.pyplot as plt\n",
    "import pandas as pd"
   ]
  },
  {
   "cell_type": "code",
   "execution_count": 5,
   "metadata": {},
   "outputs": [
    {
     "data": {
      "text/html": [
       "<div>\n",
       "<style scoped>\n",
       "    .dataframe tbody tr th:only-of-type {\n",
       "        vertical-align: middle;\n",
       "    }\n",
       "\n",
       "    .dataframe tbody tr th {\n",
       "        vertical-align: top;\n",
       "    }\n",
       "\n",
       "    .dataframe thead th {\n",
       "        text-align: right;\n",
       "    }\n",
       "</style>\n",
       "<table border=\"1\" class=\"dataframe\">\n",
       "  <thead>\n",
       "    <tr style=\"text-align: right;\">\n",
       "      <th></th>\n",
       "      <th>Position</th>\n",
       "      <th>Level</th>\n",
       "      <th>Salary</th>\n",
       "    </tr>\n",
       "  </thead>\n",
       "  <tbody>\n",
       "    <tr>\n",
       "      <th>0</th>\n",
       "      <td>Business Analyst</td>\n",
       "      <td>1</td>\n",
       "      <td>45000</td>\n",
       "    </tr>\n",
       "    <tr>\n",
       "      <th>1</th>\n",
       "      <td>Junior Consultant</td>\n",
       "      <td>2</td>\n",
       "      <td>50000</td>\n",
       "    </tr>\n",
       "    <tr>\n",
       "      <th>2</th>\n",
       "      <td>Senior Consultant</td>\n",
       "      <td>3</td>\n",
       "      <td>60000</td>\n",
       "    </tr>\n",
       "    <tr>\n",
       "      <th>3</th>\n",
       "      <td>Manager</td>\n",
       "      <td>4</td>\n",
       "      <td>80000</td>\n",
       "    </tr>\n",
       "    <tr>\n",
       "      <th>4</th>\n",
       "      <td>Country Manager</td>\n",
       "      <td>5</td>\n",
       "      <td>110000</td>\n",
       "    </tr>\n",
       "    <tr>\n",
       "      <th>5</th>\n",
       "      <td>Region Manager</td>\n",
       "      <td>6</td>\n",
       "      <td>150000</td>\n",
       "    </tr>\n",
       "    <tr>\n",
       "      <th>6</th>\n",
       "      <td>Partner</td>\n",
       "      <td>7</td>\n",
       "      <td>200000</td>\n",
       "    </tr>\n",
       "    <tr>\n",
       "      <th>7</th>\n",
       "      <td>Senior Partner</td>\n",
       "      <td>8</td>\n",
       "      <td>300000</td>\n",
       "    </tr>\n",
       "    <tr>\n",
       "      <th>8</th>\n",
       "      <td>C-level</td>\n",
       "      <td>9</td>\n",
       "      <td>500000</td>\n",
       "    </tr>\n",
       "    <tr>\n",
       "      <th>9</th>\n",
       "      <td>CEO</td>\n",
       "      <td>10</td>\n",
       "      <td>1000000</td>\n",
       "    </tr>\n",
       "  </tbody>\n",
       "</table>\n",
       "</div>"
      ],
      "text/plain": [
       "            Position  Level   Salary\n",
       "0   Business Analyst      1    45000\n",
       "1  Junior Consultant      2    50000\n",
       "2  Senior Consultant      3    60000\n",
       "3            Manager      4    80000\n",
       "4    Country Manager      5   110000\n",
       "5     Region Manager      6   150000\n",
       "6            Partner      7   200000\n",
       "7     Senior Partner      8   300000\n",
       "8            C-level      9   500000\n",
       "9                CEO     10  1000000"
      ]
     },
     "execution_count": 5,
     "metadata": {},
     "output_type": "execute_result"
    }
   ],
   "source": [
    "# import the data set\n",
    "customers_df = pd.read_csv(\"datasets/position_salaries.csv\")\n",
    "\n",
    "customers_df"
   ]
  },
  {
   "cell_type": "code",
   "execution_count": 6,
   "metadata": {},
   "outputs": [],
   "source": [
    "# the independent variable is the Level\n",
    "x = customers_df.iloc[:, 1:2].values\n",
    "\n",
    "# the dependent variable is the Salary\n",
    "y = customers_df.iloc[:, 2].values"
   ]
  },
  {
   "cell_type": "code",
   "execution_count": 7,
   "metadata": {},
   "outputs": [
    {
     "data": {
      "text/plain": [
       "[<matplotlib.lines.Line2D at 0x7fe80db0cac8>]"
      ]
     },
     "execution_count": 7,
     "metadata": {},
     "output_type": "execute_result"
    },
    {
     "data": {
      "image/png": "[encoded data removed]",
      "text/plain": [
       "<Figure size 432x288 with 1 Axes>"
      ]
     },
     "metadata": {
      "needs_background": "light"
     },
     "output_type": "display_data"
    }
   ],
   "source": [
    "# let's create a scatterplot for x and y to better visualize the polynomial function\n",
    "figure = plt.figure()\n",
    "axes = figure.add_axes([1, 1, 1, 1])\n",
    "\n",
    "# set labels\n",
    "axes.set_xlabel(\"Level\")\n",
    "axes.set_ylabel(\"Salary\")\n",
    "axes.set_title(\"Salary by Level\")\n",
    "\n",
    "# scatter plot the salary, as you can see it's like a polynomial function with a degree of 4\n",
    "axes.plot(x, y,)"
   ]
  },
  {
   "cell_type": "markdown",
   "metadata": {},
   "source": [
    "# Building a Simple Linear Regression Model\n",
    "Let's fit it to a simple linear regression model first before a polynomial linear regression model.\n",
    "- This will help us better understand why a polynomial linear regressor is better"
   ]
  },
  {
   "cell_type": "code",
   "execution_count": 8,
   "metadata": {},
   "outputs": [],
   "source": [
    "# import the linear regressor\n",
    "from sklearn.linear_model import LinearRegression"
   ]
  },
  {
   "cell_type": "code",
   "execution_count": 9,
   "metadata": {},
   "outputs": [
    {
     "data": {
      "text/plain": [
       "LinearRegression(copy_X=True, fit_intercept=True, n_jobs=None,\n",
       "         normalize=False)"
      ]
     },
     "execution_count": 9,
     "metadata": {},
     "output_type": "execute_result"
    }
   ],
   "source": [
    "# create a simple linear regressor, then fit the data set\n",
    "lin_reg = LinearRegression()\n",
    "lin_reg.fit(x, y)"
   ]
  },
  {
   "cell_type": "markdown",
   "metadata": {},
   "source": [
    "# Building a Polynomial Linear Regression Model\n",
    "Now, let's build the polynomial linear regression model to compare it to the simple model."
   ]
  },
  {
   "cell_type": "code",
   "execution_count": 10,
   "metadata": {},
   "outputs": [],
   "source": [
    "# import the polynomial features class\n",
    "from sklearn.preprocessing import PolynomialFeatures"
   ]
  },
  {
   "cell_type": "code",
   "execution_count": 18,
   "metadata": {},
   "outputs": [
    {
     "data": {
      "text/plain": [
       "array([[1.000e+00, 1.000e+00, 1.000e+00, 1.000e+00, 1.000e+00],\n",
       "       [1.000e+00, 2.000e+00, 4.000e+00, 8.000e+00, 1.600e+01],\n",
       "       [1.000e+00, 3.000e+00, 9.000e+00, 2.700e+01, 8.100e+01],\n",
       "       [1.000e+00, 4.000e+00, 1.600e+01, 6.400e+01, 2.560e+02],\n",
       "       [1.000e+00, 5.000e+00, 2.500e+01, 1.250e+02, 6.250e+02],\n",
       "       [1.000e+00, 6.000e+00, 3.600e+01, 2.160e+02, 1.296e+03],\n",
       "       [1.000e+00, 7.000e+00, 4.900e+01, 3.430e+02, 2.401e+03],\n",
       "       [1.000e+00, 8.000e+00, 6.400e+01, 5.120e+02, 4.096e+03],\n",
       "       [1.000e+00, 9.000e+00, 8.100e+01, 7.290e+02, 6.561e+03],\n",
       "       [1.000e+00, 1.000e+01, 1.000e+02, 1.000e+03, 1.000e+04]])"
      ]
     },
     "execution_count": 18,
     "metadata": {},
     "output_type": "execute_result"
    }
   ],
   "source": [
    "# create a polynomial transformer for a degree of 4\n",
    "poly_transform = PolynomialFeatures(degree=4)\n",
    "\n",
    "# transform x to a polynomial with a degree of 4\n",
    "x_poly = poly_transform.fit_transform(x)\n",
    "\n",
    "\"\"\"\n",
    "col 0 is x degree of 0, col 1 is x degree of 1, col 2 is x degree of 2,\n",
    "col 3 is x degree of 3, and col 4 is x degree of 4.\n",
    "\n",
    "This is modelled as:\n",
    "x^0 + x^1 + x^2 + x^3 + x^4\n",
    "\n",
    "So the regression model becomes polynomial:\n",
    "y = b0*x^0 + b1*x^1 + b2*x^2 + b3*x^3 + b4*x^4\n",
    "\"\"\"\n",
    "x_poly"
   ]
  },
  {
   "cell_type": "code",
   "execution_count": 12,
   "metadata": {},
   "outputs": [
    {
     "data": {
      "text/plain": [
       "LinearRegression(copy_X=True, fit_intercept=True, n_jobs=None,\n",
       "         normalize=False)"
      ]
     },
     "execution_count": 12,
     "metadata": {},
     "output_type": "execute_result"
    }
   ],
   "source": [
    "# create a multiple linear regressor, then fit the x_poly and y\n",
    "poly_reg = LinearRegression()\n",
    "poly_reg.fit(x_poly, y)"
   ]
  },
  {
   "cell_type": "markdown",
   "metadata": {},
   "source": [
    "# Visualizing Simple Linear Regression Model\n",
    "The graph shows that a simple linear regression model do not have great predictions.\n",
    "\n",
    "We're quite far from the actual values within the regression model.  \n",
    "In fact, a level of 6.5 has a salary of about 300,000. This shows the inaccuracy of the model."
   ]
  },
  {
   "cell_type": "code",
   "execution_count": 13,
   "metadata": {},
   "outputs": [
    {
     "data": {
      "image/png": "[encoded data removed]",
      "text/plain": [
       "<Figure size 432x288 with 1 Axes>"
      ]
     },
     "metadata": {
      "needs_background": "light"
     },
     "output_type": "display_data"
    }
   ],
   "source": [
    "# actual results scatter plot\n",
    "plt.scatter(x, y, color=\"red\")\n",
    "\n",
    "# predicted results best-fit line\n",
    "y_pred = lin_reg.predict(x)\n",
    "plt.plot(x, y_pred, color=\"blue\")\n",
    "\n",
    "# labels\n",
    "plt.title(\"Simple Linear Regression Salary Predictor\")\n",
    "plt.ylabel(\"Salary\")\n",
    "plt.xlabel(\"Position Level\")\n",
    "\n",
    "plt.show()"
   ]
  },
  {
   "cell_type": "markdown",
   "metadata": {},
   "source": [
    "# Visualizing Polynomial Linear Regression Model\n",
    "The graph shows that a polynomial linear regression model has a better prediction.\n",
    "\n",
    "A level of 6.5 shows a salary between 150,000 and 200,000, which is more accurate."
   ]
  },
  {
   "cell_type": "code",
   "execution_count": 14,
   "metadata": {},
   "outputs": [
    {
     "data": {
      "image/png": "[encoded data removed]",
      "text/plain": [
       "<Figure size 432x288 with 1 Axes>"
      ]
     },
     "metadata": {
      "needs_background": "light"
     },
     "output_type": "display_data"
    }
   ],
   "source": [
    "# actual results scatter plot\n",
    "plt.scatter(x, y, color=\"red\")\n",
    "\n",
    "# predicted results best-fit line\n",
    "y_pred = poly_reg.predict(x_poly)\n",
    "plt.plot(x, y_pred, color=\"blue\")\n",
    "\n",
    "# labels\n",
    "plt.title(\"Simple Linear Regression Salary Predictor\")\n",
    "plt.ylabel(\"Salary\")\n",
    "plt.xlabel(\"Position Level\")\n",
    "\n",
    "plt.show()"
   ]
  },
  {
   "cell_type": "code",
   "execution_count": 15,
   "metadata": {},
   "outputs": [
    {
     "data": {
      "image/png": "[encoded data removed]",
      "text/plain": [
       "<Figure size 432x288 with 1 Axes>"
      ]
     },
     "metadata": {
      "needs_background": "light"
     },
     "output_type": "display_data"
    }
   ],
   "source": [
    "# actual results scatter plot\n",
    "plt.scatter(x, y, color=\"red\")\n",
    "\n",
    "# remove the jaggidiness of the lines by using 0.1 increments of x\n",
    "x_grid = np.arange(min(x), max(x), 0.1)\n",
    "\n",
    "# re-shape the x_grid Array, then fit and transform it into a polynomial\n",
    "x_grid = x_grid.reshape(len(x_grid), 1)\n",
    "x_grid_poly = poly_transform.fit_transform(x_grid)\n",
    "\n",
    "# predicted results best-fit line\n",
    "y_pred = poly_reg.predict(x_grid_poly)\n",
    "plt.plot(x_grid, y_pred, color=\"blue\")\n",
    "\n",
    "# labels\n",
    "plt.title(\"Simple Linear Regression Salary Predictor\")\n",
    "plt.ylabel(\"Salary\")\n",
    "plt.xlabel(\"Position Level\")\n",
    "\n",
    "plt.show()"
   ]
  },
  {
   "cell_type": "markdown",
   "metadata": {},
   "source": [
    "# Polynomial vs Simple Regression Model Comparision\n",
    "Let's compare the two models and see their predictions.\n",
    "\n",
    "As seen below, the polynomial prediction was more accurate when viewing the data set."
   ]
  },
  {
   "cell_type": "code",
   "execution_count": 16,
   "metadata": {},
   "outputs": [
    {
     "data": {
      "text/plain": [
       "array([330378.78787879])"
      ]
     },
     "execution_count": 16,
     "metadata": {},
     "output_type": "execute_result"
    }
   ],
   "source": [
    "# predict 6.5 using the simple linear regression model\n",
    "lin_reg.predict([[6.5]])"
   ]
  },
  {
   "cell_type": "code",
   "execution_count": 117,
   "metadata": {},
   "outputs": [
    {
     "data": {
      "text/plain": [
       "array([158862.45265153])"
      ]
     },
     "execution_count": 117,
     "metadata": {},
     "output_type": "execute_result"
    }
   ],
   "source": [
    "# predict 6.5 using the polynomial linear regression model\n",
    "level_poly = poly_transform.fit_transform([[6.5]])\n",
    "poly_reg.predict(level_poly)"
   ]
  }
 ],
 "metadata": {
  "kernelspec": {
   "display_name": "Python 3",
   "language": "python",
   "name": "python3"
  },
  "language_info": {
   "codemirror_mode": {
    "name": "ipython",
    "version": 3
   },
   "file_extension": ".py",
   "mimetype": "text/x-python",
   "name": "python",
   "nbconvert_exporter": "python",
   "pygments_lexer": "ipython3",
   "version": "3.7.1"
  }
 },
 "nbformat": 4,
 "nbformat_minor": 2
}
