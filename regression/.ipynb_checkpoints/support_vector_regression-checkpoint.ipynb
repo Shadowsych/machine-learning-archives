{
 "cells": [
  {
   "cell_type": "markdown",
   "metadata": {},
   "source": [
    "# Support Vector Regression (SVR)\n",
    "In linear regression, the goal is to minimize the distance between predictions using the Ordinary Least Squares (OLS) method.\n",
    "\n",
    "However, in SVR, the goal is NOT to minimize the distance between the predictions.\n",
    "\n",
    "Instead, it's to bound the distance between the predictions and the actual values using a margin. Informally, the distance between what the model predicts and the actual value is no greater than X for ALL data points.\n",
    "\n",
    "However, not EVERY data point can be within the bounds. Therefore, we modify our original definition and say the distance between what the model predicts and the actual value is no greater than X for ALMOST ALL data points.\n",
    "\n",
    "### Example of Linear SVR Model\n",
    "<img src=\"images/svr/linear_svr_example.png\" height=\"75%\" width=\"75%\"></img>\n",
    "\n",
    "Notice there's an Epsilon range (margin or boundary), and a hyperplane in the middle of the margin.\n",
    "- Any vector (data point) inside of the margin has 0 cost\n",
    "\n",
    "Any vector close to the hyperplane is called a \"support vector.\"\n",
    "- These support vectors influence the position and orientation of the hyperplane\n",
    "    - So if we delete these support vectors, it will change the position of the hyperplane"
   ]
  },
  {
   "cell_type": "code",
   "execution_count": 147,
   "metadata": {},
   "outputs": [],
   "source": [
    "# import the required libraries\n",
    "import numpy as np\n",
    "import matplotlib.pyplot as plt\n",
    "import pandas as pd"
   ]
  },
  {
   "cell_type": "code",
   "execution_count": 148,
   "metadata": {},
   "outputs": [
    {
     "data": {
      "text/html": [
       "<div>\n",
       "<style scoped>\n",
       "    .dataframe tbody tr th:only-of-type {\n",
       "        vertical-align: middle;\n",
       "    }\n",
       "\n",
       "    .dataframe tbody tr th {\n",
       "        vertical-align: top;\n",
       "    }\n",
       "\n",
       "    .dataframe thead th {\n",
       "        text-align: right;\n",
       "    }\n",
       "</style>\n",
       "<table border=\"1\" class=\"dataframe\">\n",
       "  <thead>\n",
       "    <tr style=\"text-align: right;\">\n",
       "      <th></th>\n",
       "      <th>Position</th>\n",
       "      <th>Level</th>\n",
       "      <th>Salary</th>\n",
       "    </tr>\n",
       "  </thead>\n",
       "  <tbody>\n",
       "    <tr>\n",
       "      <th>0</th>\n",
       "      <td>Business Analyst</td>\n",
       "      <td>1</td>\n",
       "      <td>45000</td>\n",
       "    </tr>\n",
       "    <tr>\n",
       "      <th>1</th>\n",
       "      <td>Junior Consultant</td>\n",
       "      <td>2</td>\n",
       "      <td>50000</td>\n",
       "    </tr>\n",
       "    <tr>\n",
       "      <th>2</th>\n",
       "      <td>Senior Consultant</td>\n",
       "      <td>3</td>\n",
       "      <td>60000</td>\n",
       "    </tr>\n",
       "    <tr>\n",
       "      <th>3</th>\n",
       "      <td>Manager</td>\n",
       "      <td>4</td>\n",
       "      <td>80000</td>\n",
       "    </tr>\n",
       "    <tr>\n",
       "      <th>4</th>\n",
       "      <td>Country Manager</td>\n",
       "      <td>5</td>\n",
       "      <td>110000</td>\n",
       "    </tr>\n",
       "    <tr>\n",
       "      <th>5</th>\n",
       "      <td>Region Manager</td>\n",
       "      <td>6</td>\n",
       "      <td>150000</td>\n",
       "    </tr>\n",
       "    <tr>\n",
       "      <th>6</th>\n",
       "      <td>Partner</td>\n",
       "      <td>7</td>\n",
       "      <td>200000</td>\n",
       "    </tr>\n",
       "    <tr>\n",
       "      <th>7</th>\n",
       "      <td>Senior Partner</td>\n",
       "      <td>8</td>\n",
       "      <td>300000</td>\n",
       "    </tr>\n",
       "    <tr>\n",
       "      <th>8</th>\n",
       "      <td>C-level</td>\n",
       "      <td>9</td>\n",
       "      <td>500000</td>\n",
       "    </tr>\n",
       "    <tr>\n",
       "      <th>9</th>\n",
       "      <td>CEO</td>\n",
       "      <td>10</td>\n",
       "      <td>1000000</td>\n",
       "    </tr>\n",
       "  </tbody>\n",
       "</table>\n",
       "</div>"
      ],
      "text/plain": [
       "            Position  Level   Salary\n",
       "0   Business Analyst      1    45000\n",
       "1  Junior Consultant      2    50000\n",
       "2  Senior Consultant      3    60000\n",
       "3            Manager      4    80000\n",
       "4    Country Manager      5   110000\n",
       "5     Region Manager      6   150000\n",
       "6            Partner      7   200000\n",
       "7     Senior Partner      8   300000\n",
       "8            C-level      9   500000\n",
       "9                CEO     10  1000000"
      ]
     },
     "execution_count": 148,
     "metadata": {},
     "output_type": "execute_result"
    }
   ],
   "source": [
    "# import the data set\n",
    "customers_df = pd.read_csv(\"datasets/position_salaries.csv\")\n",
    "\n",
    "customers_df"
   ]
  },
  {
   "cell_type": "code",
   "execution_count": 149,
   "metadata": {},
   "outputs": [],
   "source": [
    "# the independent variable is the Level\n",
    "x = customers_df.iloc[:, 1:2].values\n",
    "\n",
    "# the dependent variable is the Salary\n",
    "y = customers_df.iloc[:, 2].values"
   ]
  },
  {
   "cell_type": "markdown",
   "metadata": {},
   "source": [
    "# Feature Scaling SVR Model\n",
    "Unlike linear regression models, a non-linear SVR model would require feature scaling because it doesn't use the Ordinary Least Squares method which scales the b-coefficients to the dependent variable value.\n",
    "\n",
    "We use a non-linear model for this problem, specifically the RBF kernel or Gaussian function. Therefore, we need to feature scale the variables.\n",
    "\n",
    "Below we standarize the independent and dependent variables."
   ]
  },
  {
   "cell_type": "code",
   "execution_count": 150,
   "metadata": {},
   "outputs": [
    {
     "name": "stderr",
     "output_type": "stream",
     "text": [
      "/home/pravat/anaconda3/lib/python3.7/site-packages/sklearn/utils/validation.py:595: DataConversionWarning: Data with input dtype int64 was converted to float64 by StandardScaler.\n",
      "  warnings.warn(msg, DataConversionWarning)\n",
      "/home/pravat/anaconda3/lib/python3.7/site-packages/sklearn/utils/validation.py:595: DataConversionWarning: Data with input dtype int64 was converted to float64 by StandardScaler.\n",
      "  warnings.warn(msg, DataConversionWarning)\n",
      "/home/pravat/anaconda3/lib/python3.7/site-packages/sklearn/utils/validation.py:595: DataConversionWarning: Data with input dtype int64 was converted to float64 by StandardScaler.\n",
      "  warnings.warn(msg, DataConversionWarning)\n",
      "/home/pravat/anaconda3/lib/python3.7/site-packages/sklearn/utils/validation.py:595: DataConversionWarning: Data with input dtype int64 was converted to float64 by StandardScaler.\n",
      "  warnings.warn(msg, DataConversionWarning)\n"
     ]
    }
   ],
   "source": [
    "# import a standarize scaler class\n",
    "from sklearn.preprocessing import StandardScaler\n",
    "\n",
    "# create standard scalers for x and y\n",
    "sc_x = StandardScaler()\n",
    "sc_y = StandardScaler()\n",
    "\n",
    "# standard scale x\n",
    "x = sc_x.fit_transform(x)\n",
    "\n",
    "# reshape y into a 2D Array for the standard scaler, then standard scale y, then shape it back\n",
    "two_d_y = y.reshape(-1, 1)\n",
    "y = sc_y.fit_transform(two_d_y)\n",
    "y = y.ravel()"
   ]
  },
  {
   "cell_type": "code",
   "execution_count": 151,
   "metadata": {},
   "outputs": [],
   "source": [
    "# import the SVR model\n",
    "from sklearn.svm import SVR"
   ]
  },
  {
   "cell_type": "code",
   "execution_count": 152,
   "metadata": {},
   "outputs": [
    {
     "data": {
      "text/plain": [
       "SVR(C=1.0, cache_size=200, coef0=0.0, degree=3, epsilon=0.1,\n",
       "  gamma='auto_deprecated', kernel='rbf', max_iter=-1, shrinking=True,\n",
       "  tol=0.001, verbose=False)"
      ]
     },
     "execution_count": 152,
     "metadata": {},
     "output_type": "execute_result"
    }
   ],
   "source": [
    "\"\"\"\n",
    "Although this data set is best represented with polynomial regression, we can do it non-linearly.\n",
    "We will use a non-linear model called RBF kernel to fit to the data set and predict values.\n",
    "\"\"\"\n",
    "regressor = SVR(kernel=\"rbf\")\n",
    "regressor.fit(x, y)"
   ]
  },
  {
   "cell_type": "code",
   "execution_count": 153,
   "metadata": {},
   "outputs": [
    {
     "data": {
      "image/png": "[encoded data removed]",
      "text/plain": [
       "<Figure size 432x288 with 1 Axes>"
      ]
     },
     "metadata": {
      "needs_background": "light"
     },
     "output_type": "display_data"
    }
   ],
   "source": [
    "# scatter plot the actual data\n",
    "plt.scatter(x, y, color=\"red\")\n",
    "\n",
    "# use the SVR data points to plot the predicted data\n",
    "plt.plot(x, regressor.predict(x), color=\"blue\")\n",
    "\n",
    "# lables\n",
    "plt.title(\"SVR RBF Salary Predictor\")\n",
    "plt.xlabel(\"Level\")\n",
    "plt.ylabel(\"Salary\")\n",
    "\n",
    "plt.show()"
   ]
  },
  {
   "cell_type": "code",
   "execution_count": 154,
   "metadata": {},
   "outputs": [
    {
     "name": "stdout",
     "output_type": "stream",
     "text": [
      "Level 6.5: [170370.0204065]\n",
      "Level 25: [252789.13920884]\n"
     ]
    },
    {
     "name": "stderr",
     "output_type": "stream",
     "text": [
      "/home/pravat/anaconda3/lib/python3.7/site-packages/sklearn/utils/validation.py:595: DataConversionWarning: Data with input dtype int64 was converted to float64 by StandardScaler.\n",
      "  warnings.warn(msg, DataConversionWarning)\n"
     ]
    }
   ],
   "source": [
    "# predict level 6.5, normalize it first to predict, then unnormalize the predicted value\n",
    "normalized_y_pred = regressor.predict(sc_x.transform(np.array([[6.5]])))\n",
    "y_pred = sc_y.inverse_transform(normalized_y_pred)\n",
    "print(\"Level 6.5: \" + str(y_pred))\n",
    "\n",
    "# predict level 25, normalize it first to predict, then unnormalize the predicted value\n",
    "normalized_y_pred = regressor.predict(sc_x.transform(np.array([[25]])))\n",
    "y_pred = sc_y.inverse_transform(normalized_y_pred)\n",
    "print(\"Level 25: \" + str(y_pred))"
   ]
  },
  {
   "cell_type": "markdown",
   "metadata": {},
   "source": [
    "# Why Is There an Outlier Data Point?\n",
    "As we can see, the SVR model doesn't fit to the level 10 data point because it's an outlier. Therefore, under the penalty algorithm (using cost and epsilon values), since the outlier data point is quite far it will consider it as an outlier and not fit to the data point.\n",
    "\n",
    "# How do We Make The SVR Fit to The Outlier?\n",
    "By default, SKLearn sets epsilon = 0.1 and cost = 1.\n",
    "\n",
    "We can try and fit the SVR better to the data point by changing the Cost and Epsilon parameters.\n",
    "- ε, or Epsilon, defines the margin's range\n",
    "    - Lower ε causes more fitting to the data points\n",
    "- C, or cost, refers to the amount of violation (error) of the margin allowed\n",
    "    - C = 0 means no violations allowed, and C = 100 means violation distance up-to 100 from the margin is allowed\n",
    "    - Higher C means causes more fitting to the data points\n",
    "\n",
    "Therefore, a lower Epsilon and higher Cost would cause the SVR to fit more to the data points.\n",
    "\n",
    "### Regularization\n",
    "We must \"regularize\" the model to generalize the model by using the proper regularization parameters. The regularization parameters of SVR are the Epsilon and Cost parameters.\n",
    "- Regularization helps prevent overfitting or underfitting, and achieve generalization"
   ]
  },
  {
   "cell_type": "code",
   "execution_count": 180,
   "metadata": {},
   "outputs": [
    {
     "data": {
      "text/plain": [
       "SVR(C=100, cache_size=200, coef0=0.0, degree=3, epsilon=0.025,\n",
       "  gamma='auto_deprecated', kernel='rbf', max_iter=-1, shrinking=True,\n",
       "  tol=0.001, verbose=False)"
      ]
     },
     "execution_count": 180,
     "metadata": {},
     "output_type": "execute_result"
    }
   ],
   "source": [
    "# create an SVR regressor with an epsilon of 0.025 and Cost of 100, which fits more to the data\n",
    "regressor = SVR(kernel=\"rbf\", epsilon=0.025, C=100)\n",
    "regressor.fit(x, y)"
   ]
  },
  {
   "cell_type": "code",
   "execution_count": 181,
   "metadata": {},
   "outputs": [
    {
     "data": {
      "image/png": "[encoded data removed]",
      "text/plain": [
       "<Figure size 432x288 with 1 Axes>"
      ]
     },
     "metadata": {
      "needs_background": "light"
     },
     "output_type": "display_data"
    }
   ],
   "source": [
    "# scatter plot the actual data\n",
    "plt.scatter(x, y, color=\"red\")\n",
    "\n",
    "# use the SVR data points to plot the predicted data\n",
    "plt.plot(x, regressor.predict(x), color=\"blue\")\n",
    "\n",
    "# lables\n",
    "plt.title(\"SVR RBF Salary Predictor\")\n",
    "plt.xlabel(\"Level\")\n",
    "plt.ylabel(\"Salary\")\n",
    "\n",
    "plt.show()"
   ]
  },
  {
   "cell_type": "code",
   "execution_count": 182,
   "metadata": {},
   "outputs": [
    {
     "name": "stdout",
     "output_type": "stream",
     "text": [
      "Level 6.5: [172556.90828624]\n",
      "Level 25: [548543.53566505]\n"
     ]
    },
    {
     "name": "stderr",
     "output_type": "stream",
     "text": [
      "/home/pravat/anaconda3/lib/python3.7/site-packages/sklearn/utils/validation.py:595: DataConversionWarning: Data with input dtype int64 was converted to float64 by StandardScaler.\n",
      "  warnings.warn(msg, DataConversionWarning)\n"
     ]
    }
   ],
   "source": [
    "# predict level 6.5, normalize it first to predict, then unnormalize the predicted value\n",
    "normalized_y_pred = regressor.predict(sc_x.transform(np.array([[6.5]])))\n",
    "y_pred = sc_y.inverse_transform(normalized_y_pred)\n",
    "print(\"Level 6.5: \" + str(y_pred))\n",
    "\n",
    "# predict level 25, normalize it first to predict, then unnormalize the predicted value\n",
    "normalized_y_pred = regressor.predict(sc_x.transform(np.array([[25]])))\n",
    "y_pred = sc_y.inverse_transform(normalized_y_pred)\n",
    "print(\"Level 25: \" + str(y_pred))"
   ]
  }
 ],
 "metadata": {
  "kernelspec": {
   "display_name": "Python 3",
   "language": "python",
   "name": "python3"
  },
  "language_info": {
   "codemirror_mode": {
    "name": "ipython",
    "version": 3
   },
   "file_extension": ".py",
   "mimetype": "text/x-python",
   "name": "python",
   "nbconvert_exporter": "python",
   "pygments_lexer": "ipython3",
   "version": "3.7.1"
  }
 },
 "nbformat": 4,
 "nbformat_minor": 2
}
