{
 "cells": [
  {
   "cell_type": "markdown",
   "metadata": {},
   "source": [
    "# Thompson Sampling (TS)\n",
    "We will be using TS to solve the multi-armed bandit problem."
   ]
  },
  {
   "cell_type": "markdown",
   "metadata": {},
   "source": [
    "# TS Algorithm Visualization\n",
    "<img src=\"images/ts/ts_visual.png\" height=\"75%\" width=\"75%\"></img>\n",
    "- These vertical lines represent the expected return (center of distribution) of each machine\n",
    "\n",
    "Based on the expected returns, the yellow machine is the optimal machine\n",
    "- The machine doesn't actually know the expected returns, but this diagram provides it for visualization purposes\n",
    "\n",
    "### Trial Runs\n",
    "We need to perform trial runs for each machine to construct approximate distributions.\n",
    "\n",
    "These distributions are an auxillary mechanism to approximate the expected return value.\n",
    "- The mid-point of each distribution is the current return value, which will converge to the expected return value\n",
    "\n",
    "<img src=\"images/ts/trial_runs.png\" height=\"75%\" width=\"75%\"></img>\n",
    "- The blue dots are the trial runs for the Blue machine\n",
    "- The green dots are the trial runs for the Green machine\n",
    "- The yellow dots are the trial runs for the Yellow machine\n",
    "\n",
    "Using the trial runs of each machine, we constructed approximate distributions for each machine at the current state.\n",
    "\n",
    "Unlike the UCB which is deterministic (the highest upper confidence bound is chosen), Thompson Sampling uses a probabilistic perception of the decision-making.\n",
    "\n",
    "### Continue Round 1\n",
    "Let's run more rounds.\n",
    "\n",
    "The program randomly picks a value from each machine's distribution, referred to as the \"prior distributions\".\n",
    "\n",
    "<img src=\"images/ts/bandit_configuration_1.png\" height=\"75%\" width=\"75%\"></img>\n",
    "- Bandit Configuration: A hypothetical set of machines using the prior distributions\n",
    "\n",
    "As seen in the diagram above, the green point randomly chose a point with the highest return. Therefore, the program will choose the Green machine to play. \n",
    "\n",
    "Now the Green machine is played, and it returns a value after playing it. The current distribution will shift to that value, and the distribution will become narrower because the program has more information about that machine.\n",
    "\n",
    "<img src=\"images/ts/shift_configuration_1.png\" height=\"75%\" width=\"75%\"></img>\n",
    "- The green dot is the value returned after playing the Green machine\n",
    "\n",
    "As seen, the green distribution shifted to the returned value, then became narrower. This new distribution is referred to as the \"posterior distribution\"\n",
    "\n",
    "### Continue Round 2\n",
    "Let's do another round.\n",
    "\n",
    "<img src=\"images/ts/bandit_configuration_2.png\" height=\"75%\" width=\"75%\"></img>\n",
    "\n",
    "Clearly, the yellow point randomly chosen has the highest return value. Therefore, the program will choose the Yellow machine to play.\n",
    "\n",
    "Now the Yellow machine is played, and it returns a value after playing it.\n",
    "\n",
    "<img src=\"images/ts/shift_configuration_2.png\" height=\"75%\" width=\"75%\"></img>\n",
    "\n",
    "As seen, the yellow distribution shifted to the returned value, then became narrower.\n",
    "\n",
    "### After a Few Rounds\n",
    "After a few rounds, the distributions will converge to their expected return values.\n",
    "\n",
    "<img src=\"images/ts/few_rounds.png\" height=\"75%\" width=\"75%\"></img>"
   ]
  },
  {
   "cell_type": "markdown",
   "metadata": {},
   "source": [
    "# UCB vs TS\n",
    "What are the main differences between the two?\n",
    "\n",
    "<img src=\"images/ts/ucb_vs_ts.png\" height=\"75%\" width=\"75%\"></img>\n",
    "\n",
    "What it means by \"better empirical evidence\" is that Thompson Sampling is heavily researched, and typically works better."
   ]
  },
  {
   "cell_type": "code",
   "execution_count": 41,
   "metadata": {},
   "outputs": [],
   "source": [
    "# import the libraries\n",
    "import numpy as np\n",
    "import matplotlib.pyplot as plt\n",
    "import pandas as pd"
   ]
  },
  {
   "cell_type": "code",
   "execution_count": 42,
   "metadata": {},
   "outputs": [
    {
     "data": {
      "text/html": [
       "<div>\n",
       "<style scoped>\n",
       "    .dataframe tbody tr th:only-of-type {\n",
       "        vertical-align: middle;\n",
       "    }\n",
       "\n",
       "    .dataframe tbody tr th {\n",
       "        vertical-align: top;\n",
       "    }\n",
       "\n",
       "    .dataframe thead th {\n",
       "        text-align: right;\n",
       "    }\n",
       "</style>\n",
       "<table border=\"1\" class=\"dataframe\">\n",
       "  <thead>\n",
       "    <tr style=\"text-align: right;\">\n",
       "      <th></th>\n",
       "      <th>Ad 1</th>\n",
       "      <th>Ad 2</th>\n",
       "      <th>Ad 3</th>\n",
       "      <th>Ad 4</th>\n",
       "      <th>Ad 5</th>\n",
       "      <th>Ad 6</th>\n",
       "      <th>Ad 7</th>\n",
       "      <th>Ad 8</th>\n",
       "      <th>Ad 9</th>\n",
       "      <th>Ad 10</th>\n",
       "    </tr>\n",
       "  </thead>\n",
       "  <tbody>\n",
       "    <tr>\n",
       "      <th>0</th>\n",
       "      <td>1</td>\n",
       "      <td>0</td>\n",
       "      <td>0</td>\n",
       "      <td>0</td>\n",
       "      <td>1</td>\n",
       "      <td>0</td>\n",
       "      <td>0</td>\n",
       "      <td>0</td>\n",
       "      <td>1</td>\n",
       "      <td>0</td>\n",
       "    </tr>\n",
       "    <tr>\n",
       "      <th>1</th>\n",
       "      <td>0</td>\n",
       "      <td>0</td>\n",
       "      <td>0</td>\n",
       "      <td>0</td>\n",
       "      <td>0</td>\n",
       "      <td>0</td>\n",
       "      <td>0</td>\n",
       "      <td>0</td>\n",
       "      <td>1</td>\n",
       "      <td>0</td>\n",
       "    </tr>\n",
       "    <tr>\n",
       "      <th>2</th>\n",
       "      <td>0</td>\n",
       "      <td>0</td>\n",
       "      <td>0</td>\n",
       "      <td>0</td>\n",
       "      <td>0</td>\n",
       "      <td>0</td>\n",
       "      <td>0</td>\n",
       "      <td>0</td>\n",
       "      <td>0</td>\n",
       "      <td>0</td>\n",
       "    </tr>\n",
       "    <tr>\n",
       "      <th>3</th>\n",
       "      <td>0</td>\n",
       "      <td>1</td>\n",
       "      <td>0</td>\n",
       "      <td>0</td>\n",
       "      <td>0</td>\n",
       "      <td>0</td>\n",
       "      <td>0</td>\n",
       "      <td>1</td>\n",
       "      <td>0</td>\n",
       "      <td>0</td>\n",
       "    </tr>\n",
       "    <tr>\n",
       "      <th>4</th>\n",
       "      <td>0</td>\n",
       "      <td>0</td>\n",
       "      <td>0</td>\n",
       "      <td>0</td>\n",
       "      <td>0</td>\n",
       "      <td>0</td>\n",
       "      <td>0</td>\n",
       "      <td>0</td>\n",
       "      <td>0</td>\n",
       "      <td>0</td>\n",
       "    </tr>\n",
       "  </tbody>\n",
       "</table>\n",
       "</div>"
      ],
      "text/plain": [
       "   Ad 1  Ad 2  Ad 3  Ad 4  Ad 5  Ad 6  Ad 7  Ad 8  Ad 9  Ad 10\n",
       "0     1     0     0     0     1     0     0     0     1      0\n",
       "1     0     0     0     0     0     0     0     0     1      0\n",
       "2     0     0     0     0     0     0     0     0     0      0\n",
       "3     0     1     0     0     0     0     0     1     0      0\n",
       "4     0     0     0     0     0     0     0     0     0      0"
      ]
     },
     "execution_count": 42,
     "metadata": {},
     "output_type": "execute_result"
    }
   ],
   "source": [
    "# import the data set\n",
    "ads_opt_df = pd.read_csv(\"datasets/ads_ctr_optimization.csv\")\n",
    "\n",
    "\"\"\"\n",
    "Each row represents a round (or consumer), and if clicked the ad (1) or did not click the ad (0).\n",
    "\n",
    "In the real world, we wouldn't have this data set and instead the TS algorithm would\n",
    "explore and exploit simutaneously to determine the optimal ad while users are clicking.\n",
    "Therefore, as this data set is created, the TS algorithm will run.\n",
    "\n",
    "For testing purposes, we're going to simulate the \"real world\" in the TS algorithm.\n",
    "\"\"\"\n",
    "ads_opt_df.head()"
   ]
  },
  {
   "cell_type": "code",
   "execution_count": 43,
   "metadata": {},
   "outputs": [],
   "source": [
    "rounds = 10_000 # number of rows in the data frame\n",
    "ads = 10 # number of columns in the data frame"
   ]
  },
  {
   "cell_type": "markdown",
   "metadata": {},
   "source": [
    "# Thompson Sampling Model\n",
    "UCB gave us a total reward around ~2200, but can Thompson Sampling beat that?\n",
    "\n",
    "### TS Algorithm\n",
    "<img src=\"images/ts/ts_algorithm.png\" height=\"75%\" width=\"75%\"></img>\n",
    "- Oi(n) is the probability of success (probability of receiving a one)\n",
    "\n",
    "As seen below, the total reward using TS is around ~2600, which is better than the UCB reward value."
   ]
  },
  {
   "cell_type": "code",
   "execution_count": 44,
   "metadata": {},
   "outputs": [],
   "source": [
    "# import the libraries\n",
    "import math\n",
    "import random"
   ]
  },
  {
   "cell_type": "code",
   "execution_count": 45,
   "metadata": {},
   "outputs": [],
   "source": [
    "# list that stores which ad that was selected at each round\n",
    "ads_selected = []\n",
    "\n",
    "# number of times each ad got a positive reward\n",
    "numbers_of_positives = [0] * ads\n",
    "\n",
    "# number of times each ad got a negative reward\n",
    "numbers_of_negatives = [0] * ads"
   ]
  },
  {
   "cell_type": "code",
   "execution_count": 46,
   "metadata": {},
   "outputs": [
    {
     "name": "stdout",
     "output_type": "stream",
     "text": [
      "Total Reward: 2613\n"
     ]
    }
   ],
   "source": [
    "total_reward = 0\n",
    "\n",
    "# iterate through each row (round) in the data frame\n",
    "for current_round in range(0, rounds):\n",
    "    max_random_point = 0\n",
    "    ad_to_select = 0\n",
    "    \n",
    "    # iterate through each column (ad) in the data frame\n",
    "    for ad in range(0, ads):\n",
    "        # take a random draw (point) from the distribution\n",
    "        random_point = random.betavariate(numbers_of_positives[ad] + 1,\n",
    "                                          numbers_of_negatives[ad] + 1)\n",
    "        \n",
    "        if random_point > max_random_point:\n",
    "            # found a larger random point, update the max random point and the ad to select\n",
    "            max_random_point = random_point\n",
    "            ad_to_select = ad\n",
    "    \n",
    "    # store the results of this round\n",
    "    ads_selected.append(ad_to_select)\n",
    "    reward = ads_opt_df.values[current_round][ad_to_select]\n",
    "    total_reward += reward\n",
    "    \n",
    "    # update the reward status\n",
    "    if reward == 1:\n",
    "        numbers_of_positives[ad_to_select] += 1\n",
    "    elif reward == 0:\n",
    "        numbers_of_negatives[ad_to_select] += 1\n",
    "    \n",
    "print(\"Total Reward: \" + str(total_reward))"
   ]
  },
  {
   "cell_type": "markdown",
   "metadata": {},
   "source": [
    "### Optimal Advertisement\n",
    "Let's determine the optimal ad that the YS algorithm determined.\n",
    "\n",
    "We can find this out by looking at which advertisement the UCB algorithm converged to within the last few rounds.\n",
    "\n",
    "As seen below, the algorithm converged to the advertisement at index 4, which is advertisement 5.  \n",
    "Therefore, we can conclude advertisement 5 is the optimal advertisement to show to consumers."
   ]
  },
  {
   "cell_type": "markdown",
   "metadata": {},
   "source": [
    "# Visualization of TS\n",
    "We can further confirm that index 4 (advertisement 5) was the optimal advertisement using a histogram."
   ]
  },
  {
   "cell_type": "code",
   "execution_count": 47,
   "metadata": {},
   "outputs": [
    {
     "data": {
      "image/png": "[encoded data removed]",
      "text/plain": [
       "<Figure size 432x288 with 1 Axes>"
      ]
     },
     "metadata": {
      "needs_background": "light"
     },
     "output_type": "display_data"
    }
   ],
   "source": [
    "\"\"\"\n",
    "Plot the advertisements selected as a histogram.\n",
    "- x-axis is the advertisement index\n",
    "- y-axis is the density (number of times the ad was selected)\n",
    "\"\"\"\n",
    "plt.hist(ads_selected)\n",
    "plt.title(\"Ads Selected\")\n",
    "plt.xlabel(\"Ads\")\n",
    "plt.ylabel(\"Number of times selected\")\n",
    "plt.show()"
   ]
  }
 ],
 "metadata": {
  "kernelspec": {
   "display_name": "Python 3",
   "language": "python",
   "name": "python3"
  },
  "language_info": {
   "codemirror_mode": {
    "name": "ipython",
    "version": 3
   },
   "file_extension": ".py",
   "mimetype": "text/x-python",
   "name": "python",
   "nbconvert_exporter": "python",
   "pygments_lexer": "ipython3",
   "version": "3.7.1"
  }
 },
 "nbformat": 4,
 "nbformat_minor": 2
}
