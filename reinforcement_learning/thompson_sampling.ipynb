{
 "cells": [
  {
   "cell_type": "markdown",
   "metadata": {},
   "source": [
    "# Thompson Sampling (TS)\n",
    "We will be using TS to solve the multi-armed bandit problem."
   ]
  },
  {
   "cell_type": "markdown",
   "metadata": {},
   "source": [
    "# TS Algorithm Visualization\n",
    "<img src=\"images/ts/ts_visual.png\" height=\"75%\" width=\"75%\"></img>\n",
    "- These vertical lines represent the expected return (center of distribution) of each machine\n",
    "\n",
    "Based on the expected returns, the yellow machine is the optimal machine\n",
    "- The machine doesn't actually know the expected returns, but this diagram provides it for visualization purposes\n",
    "\n",
    "### Trial Runs\n",
    "We need to perform trial runs for each machine to construct approximate distributions.\n",
    "\n",
    "These distributions are an auxillary mechanism to approximate the expected return value.\n",
    "- The mid-point of each distribution is the current return value, which will converge to the expected return value\n",
    "\n",
    "<img src=\"images/ts/trial_runs.png\" height=\"75%\" width=\"75%\"></img>\n",
    "- The blue dots are the trial runs for the Blue machine\n",
    "- The green dots are the trial runs for the Green machine\n",
    "- The yellow dots are the trial runs for the Yellow machine\n",
    "\n",
    "Using the trial runs of each machine, we constructed approximate distributions for each machine at the current state.\n",
    "\n",
    "Unlike the UCB which is deterministic (the highest upper confidence bound is chosen), Thompson Sampling uses a probabilistic perception of the decision-making.\n",
    "\n",
    "### Continue Round 1\n",
    "Let's run more rounds.\n",
    "\n",
    "The program randomly picks a value from each machine's distribution.\n",
    "\n",
    "<img src=\"images/ts/bandit_configuration_1.png\" height=\"75%\" width=\"75%\"></img>\n",
    "- Bandit Configuration: A hypothetical set of machines using the distributions\n",
    "\n",
    "As seen in the diagram above, the green point randomly chose a point with the highest return. Therefore, the program will choose the Green machine to play. \n",
    "\n",
    "Now the Green machine is played, and it returns a value after playing it. The current distribution will shift to that value, and the distribution will become narrower because the program has more information about that machine.\n",
    "\n",
    "<img src=\"images/ts/shift_configuration_1.png\" height=\"75%\" width=\"75%\"></img>\n",
    "- The green dot is the value returned after playing the Green machine\n",
    "\n",
    "As seen, the green distribution shifted to the returned value, then became narrower.\n",
    "\n",
    "### Continue Round 2\n",
    "Let's do another round.\n",
    "\n",
    "<img src=\"images/ts/bandit_configuration_2.png\" height=\"75%\" width=\"75%\"></img>\n",
    "\n",
    "Clearly, the yellow point randomly chosen has the highest return value. Therefore, the program will choose the Yellow machine to play.\n",
    "\n",
    "Now the Yellow machine is played, and it returns a value after playing it.\n",
    "\n",
    "<img src=\"images/ts/shift_configuration_2.png\" height=\"75%\" width=\"75%\"></img>\n",
    "\n",
    "As seen, the yellow distribution shifted to the returned value, then became narrower.\n",
    "\n",
    "### After a Few Rounds\n",
    "After a few rounds, the distributions will converge to their expected return values.\n",
    "\n",
    "<img src=\"images/ts/few_rounds.png\" height=\"75%\" width=\"75%\"></img>"
   ]
  },
  {
   "cell_type": "markdown",
   "metadata": {},
   "source": [
    "# UCB vs TS\n",
    "What are the main differences between the two?\n",
    "\n",
    "<img src=\"images/ts/ucb_vs_ts.png\" height=\"75%\" width=\"75%\"></img>\n",
    "\n",
    "What it means by \"better empirical evidence\" is that Thompson Sampling is heavily researched, and typically works better."
   ]
  },
  {
   "cell_type": "code",
   "execution_count": null,
   "metadata": {},
   "outputs": [],
   "source": []
  }
 ],
 "metadata": {
  "kernelspec": {
   "display_name": "Python 3",
   "language": "python",
   "name": "python3"
  },
  "language_info": {
   "codemirror_mode": {
    "name": "ipython",
    "version": 3
   },
   "file_extension": ".py",
   "mimetype": "text/x-python",
   "name": "python",
   "nbconvert_exporter": "python",
   "pygments_lexer": "ipython3",
   "version": "3.7.1"
  }
 },
 "nbformat": 4,
 "nbformat_minor": 2
}
