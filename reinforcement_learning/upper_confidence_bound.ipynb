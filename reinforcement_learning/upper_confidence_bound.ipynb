{
 "cells": [
  {
   "cell_type": "markdown",
   "metadata": {},
   "source": [
    "# Upper Confidence Bound (UCB)\n",
    "We will be using UCB to solve the Multi-Armed Bandit Problem.\n",
    "\n",
    "The confidence bound bounds the current and expected return values.\n",
    "- For each iteration (round), the UCB algorithm picks the machine with the greatest upper confidence bound\n",
    "\n",
    "### How Upper Confidence Bound Changes\n",
    "If the player wins a round, then the confidence bound and current return value of the machine shifts up.  \n",
    "If the player loses a round, then the confidence bound and current return value of the machine shifts down.\n",
    "\n",
    "As each round is played, the confidence bound of the machine played shrinks because the program is more confident that the current return value is close to the expected return value.\n",
    "\n",
    "After enough iterations, the algorithm converges to the most optimal machine to play because that machine's upper confidence bound will always be the greatest out of the other confidence bounds."
   ]
  },
  {
   "cell_type": "markdown",
   "metadata": {},
   "source": [
    "# UCB Algorithm Visualization\n",
    "Here are the probability density function (pdf) graphs for each machine.\n",
    "\n",
    "<img src=\"images/ucb/distributions_graphs.png\" height=\"75%\" width=\"75%\"></img>\n",
    "- D5 has the best distribution since the curve is to the most-right (high return values)\n",
    "\n",
    "Let's plot each distribution's expected return (denoted by the dotted white-line) onto a diagram.\n",
    "- The program will NOT know these expected return values, but for visualization-sake we'll show them on the diagram\n",
    "\n",
    "<img src=\"images/ucb/distribution_diagram.png\" height=\"75%\" width=\"75%\"></img>\n",
    "\n",
    "Initialize the confidence bounds and current return value for each machine.\n",
    "\n",
    "<img src=\"images/ucb/initialize_distributions.png\" height=\"75%\" width=\"75%\"></img>\n",
    "\n",
    "### First Round\n",
    "The program will pick any machine because all of the upper confidence bounds are equal to each other.\n",
    "\n",
    "The program picks the D3 machine, and we lose this round.\n",
    "\n",
    "<img src=\"images/ucb/round_1.png\" height=\"75%\" width=\"75%\"></img>\n",
    "- The confidence bound and the current return value shifts down because we lost this round\n",
    "- The confidence bound shrinks a little because we're more confident in our current return value converging to the actual return value\n",
    "\n",
    "### Second Round\n",
    "The program will pick at random D1, D2, D4, or D5 because they have the greatest upper confidence bounds.\n",
    "\n",
    "The program picks the D4 machine, and we win this round.\n",
    "\n",
    "<img src=\"images/ucb/round_2.png\" height=\"75%\" width=\"75%\"></img>\n",
    "- The confidence bound and the current return value shifts up because we won this round\n",
    "- The confidence bound shrinks a little because we're more confident in our current return value converging to the actual return value\n",
    "\n",
    "### Third Round\n",
    "The program will pick at random D1, D2, or D5 because they have the greatest upper confidence bounds.\n",
    "\n",
    "The program picks the D1 machine, and we win this round.\n",
    "\n",
    "<img src=\"images/ucb/round_3.png\" height=\"75%\" width=\"75%\"></img>\n",
    "- The confidence bound and the current return value shifts up because we won this round\n",
    "- The confidence bound shrinks a little because we're more confident in our current return value converging to the actual return value\n",
    "\n",
    "### After a Few Rounds\n",
    "After a few rounds, the program will sooner or later always choose to D5 because it will converge to almost always have the greatest upper confidence bound. And we can also confirm this because the expected return value is the largest.\n",
    "\n",
    "<img src=\"images/ucb/few_rounds.png\" height=\"75%\" width=\"75%\"></img>"
   ]
  },
  {
   "cell_type": "code",
   "execution_count": null,
   "metadata": {},
   "outputs": [],
   "source": []
  }
 ],
 "metadata": {
  "kernelspec": {
   "display_name": "Python 3",
   "language": "python",
   "name": "python3"
  },
  "language_info": {
   "codemirror_mode": {
    "name": "ipython",
    "version": 3
   },
   "file_extension": ".py",
   "mimetype": "text/x-python",
   "name": "python",
   "nbconvert_exporter": "python",
   "pygments_lexer": "ipython3",
   "version": "3.7.1"
  }
 },
 "nbformat": 4,
 "nbformat_minor": 2
}
