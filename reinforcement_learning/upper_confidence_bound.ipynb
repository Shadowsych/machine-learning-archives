{
 "cells": [
  {
   "cell_type": "markdown",
   "metadata": {},
   "source": [
    "# Upper Confidence Bound (UCB)\n",
    "We will be using UCB to solve the Multi-Armed Bandit Problem.\n",
    "\n",
    "The confidence bound bounds the current and expected return values.\n",
    "- For each iteration (round), the UCB algorithm picks the machine with the greatest upper confidence bound\n",
    "\n",
    "### How Upper Confidence Bound Changes\n",
    "If the player wins a round, then the confidence bound and current return value of the machine shifts up.  \n",
    "If the player loses a round, then the confidence bound and current return value of the machine shifts down.\n",
    "\n",
    "As each round is played, the confidence bound of the machine played shrinks because the program is more confident that the current return value is close to the expected return value.\n",
    "\n",
    "After enough iterations, the algorithm converges to the most optimal machine to play because that machine's upper confidence bound will always be the greatest out of the other confidence bounds."
   ]
  },
  {
   "cell_type": "markdown",
   "metadata": {},
   "source": [
    "# UCB Algorithm Visualization"
   ]
  }
 ],
 "metadata": {
  "kernelspec": {
   "display_name": "Python 3",
   "language": "python",
   "name": "python3"
  },
  "language_info": {
   "codemirror_mode": {
    "name": "ipython",
    "version": 3
   },
   "file_extension": ".py",
   "mimetype": "text/x-python",
   "name": "python",
   "nbconvert_exporter": "python",
   "pygments_lexer": "ipython3",
   "version": "3.7.1"
  }
 },
 "nbformat": 4,
 "nbformat_minor": 2
}
