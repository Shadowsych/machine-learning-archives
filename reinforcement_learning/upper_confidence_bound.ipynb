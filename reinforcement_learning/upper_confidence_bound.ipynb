{
 "cells": [
  {
   "cell_type": "markdown",
   "metadata": {},
   "source": [
    "# Upper Confidence Bound (UCB)\n",
    "We will be using UCB to solve the Multi-Armed Bandit Problem.\n",
    "\n",
    "The confidence bound bounds the current and expected return values.\n",
    "- For each iteration (round), the UCB algorithm picks the machine with the greatest upper confidence bound\n",
    "\n",
    "### How Upper Confidence Bound Changes\n",
    "If the player wins a round, then the confidence bound and current return value of the machine shifts up.  \n",
    "If the player loses a round, then the confidence bound and current return value of the machine shifts down.\n",
    "\n",
    "As each round is played, the confidence bound of the machine played shrinks because the program is more confident that the current return value is close to the expected return value.\n",
    "\n",
    "After enough iterations, the algorithm converges to the most optimal machine to play because that machine's upper confidence bound will always be the greatest out of the other confidence bounds."
   ]
  },
  {
   "cell_type": "markdown",
   "metadata": {},
   "source": [
    "# UCB Algorithm Visualization\n",
    "Here are the probability density function (pdf) graphs for each machine.\n",
    "\n",
    "<img src=\"images/ucb/distributions_graphs.png\" height=\"75%\" width=\"75%\"></img>\n",
    "- D5 has the best distribution since the curve is to the most-right (high return values)\n",
    "\n",
    "Let's plot each distribution's expected return (denoted by the dotted white-line) onto a diagram.\n",
    "- The program will NOT know these expected return values, but for visualization-sake we'll show them on the diagram\n",
    "\n",
    "<img src=\"images/ucb/distribution_diagram.png\" height=\"75%\" width=\"75%\"></img>\n",
    "\n",
    "Initialize the confidence bounds and current return value for each machine.\n",
    "\n",
    "<img src=\"images/ucb/initialize_distributions.png\" height=\"75%\" width=\"75%\"></img>\n",
    "\n",
    "### First Round\n",
    "The program will pick any machine because all of the upper confidence bounds are equal to each other.\n",
    "\n",
    "The program picks the D3 machine, and we lose this round.\n",
    "\n",
    "<img src=\"images/ucb/round_1.png\" height=\"75%\" width=\"75%\"></img>\n",
    "- The confidence bound and the current return value shifts down because we lost this round\n",
    "- The confidence bound shrinks a little because we're more confident in our current return value converging to the actual return value\n",
    "\n",
    "### Second Round\n",
    "The program will pick at random D1, D2, D4, or D5 because they have the greatest upper confidence bounds.\n",
    "\n",
    "The program picks the D4 machine, and we win this round.\n",
    "\n",
    "<img src=\"images/ucb/round_2.png\" height=\"75%\" width=\"75%\"></img>\n",
    "- The confidence bound and the current return value shifts up because we won this round\n",
    "- The confidence bound shrinks a little because we're more confident in our current return value converging to the actual return value\n",
    "\n",
    "### Third Round\n",
    "The program will pick at random D1, D2, or D5 because they have the greatest upper confidence bounds.\n",
    "\n",
    "The program picks the D1 machine, and we win this round.\n",
    "\n",
    "<img src=\"images/ucb/round_3.png\" height=\"75%\" width=\"75%\"></img>\n",
    "- The confidence bound and the current return value shifts up because we won this round\n",
    "- The confidence bound shrinks a little because we're more confident in our current return value converging to the actual return value\n",
    "\n",
    "### After a Few Rounds\n",
    "After a few rounds, the program will sooner or later always choose to D5 because it will converge to almost always have the greatest upper confidence bound. And we can also confirm this because the expected return value is the largest.\n",
    "\n",
    "<img src=\"images/ucb/few_rounds.png\" height=\"75%\" width=\"75%\"></img>"
   ]
  },
  {
   "cell_type": "code",
   "execution_count": 100,
   "metadata": {},
   "outputs": [],
   "source": [
    "# import the libraries\n",
    "import numpy as np\n",
    "import matplotlib.pyplot as plt\n",
    "import pandas as pd"
   ]
  },
  {
   "cell_type": "code",
   "execution_count": 101,
   "metadata": {},
   "outputs": [
    {
     "data": {
      "text/html": [
       "<div>\n",
       "<style scoped>\n",
       "    .dataframe tbody tr th:only-of-type {\n",
       "        vertical-align: middle;\n",
       "    }\n",
       "\n",
       "    .dataframe tbody tr th {\n",
       "        vertical-align: top;\n",
       "    }\n",
       "\n",
       "    .dataframe thead th {\n",
       "        text-align: right;\n",
       "    }\n",
       "</style>\n",
       "<table border=\"1\" class=\"dataframe\">\n",
       "  <thead>\n",
       "    <tr style=\"text-align: right;\">\n",
       "      <th></th>\n",
       "      <th>Ad 1</th>\n",
       "      <th>Ad 2</th>\n",
       "      <th>Ad 3</th>\n",
       "      <th>Ad 4</th>\n",
       "      <th>Ad 5</th>\n",
       "      <th>Ad 6</th>\n",
       "      <th>Ad 7</th>\n",
       "      <th>Ad 8</th>\n",
       "      <th>Ad 9</th>\n",
       "      <th>Ad 10</th>\n",
       "    </tr>\n",
       "  </thead>\n",
       "  <tbody>\n",
       "    <tr>\n",
       "      <th>0</th>\n",
       "      <td>1</td>\n",
       "      <td>0</td>\n",
       "      <td>0</td>\n",
       "      <td>0</td>\n",
       "      <td>1</td>\n",
       "      <td>0</td>\n",
       "      <td>0</td>\n",
       "      <td>0</td>\n",
       "      <td>1</td>\n",
       "      <td>0</td>\n",
       "    </tr>\n",
       "    <tr>\n",
       "      <th>1</th>\n",
       "      <td>0</td>\n",
       "      <td>0</td>\n",
       "      <td>0</td>\n",
       "      <td>0</td>\n",
       "      <td>0</td>\n",
       "      <td>0</td>\n",
       "      <td>0</td>\n",
       "      <td>0</td>\n",
       "      <td>1</td>\n",
       "      <td>0</td>\n",
       "    </tr>\n",
       "    <tr>\n",
       "      <th>2</th>\n",
       "      <td>0</td>\n",
       "      <td>0</td>\n",
       "      <td>0</td>\n",
       "      <td>0</td>\n",
       "      <td>0</td>\n",
       "      <td>0</td>\n",
       "      <td>0</td>\n",
       "      <td>0</td>\n",
       "      <td>0</td>\n",
       "      <td>0</td>\n",
       "    </tr>\n",
       "    <tr>\n",
       "      <th>3</th>\n",
       "      <td>0</td>\n",
       "      <td>1</td>\n",
       "      <td>0</td>\n",
       "      <td>0</td>\n",
       "      <td>0</td>\n",
       "      <td>0</td>\n",
       "      <td>0</td>\n",
       "      <td>1</td>\n",
       "      <td>0</td>\n",
       "      <td>0</td>\n",
       "    </tr>\n",
       "    <tr>\n",
       "      <th>4</th>\n",
       "      <td>0</td>\n",
       "      <td>0</td>\n",
       "      <td>0</td>\n",
       "      <td>0</td>\n",
       "      <td>0</td>\n",
       "      <td>0</td>\n",
       "      <td>0</td>\n",
       "      <td>0</td>\n",
       "      <td>0</td>\n",
       "      <td>0</td>\n",
       "    </tr>\n",
       "  </tbody>\n",
       "</table>\n",
       "</div>"
      ],
      "text/plain": [
       "   Ad 1  Ad 2  Ad 3  Ad 4  Ad 5  Ad 6  Ad 7  Ad 8  Ad 9  Ad 10\n",
       "0     1     0     0     0     1     0     0     0     1      0\n",
       "1     0     0     0     0     0     0     0     0     1      0\n",
       "2     0     0     0     0     0     0     0     0     0      0\n",
       "3     0     1     0     0     0     0     0     1     0      0\n",
       "4     0     0     0     0     0     0     0     0     0      0"
      ]
     },
     "execution_count": 101,
     "metadata": {},
     "output_type": "execute_result"
    }
   ],
   "source": [
    "# import the data set\n",
    "ads_opt_df = pd.read_csv(\"datasets/ads_ctr_optimization.csv\")\n",
    "\n",
    "\"\"\"\n",
    "Each row represents a round (or consumer), and if clicked the ad (1) or did not click the ad (0).\n",
    "\n",
    "In the real world, we wouldn't have this data set and instead the UCB algorithm would\n",
    "explore and exploit simutaneously to determine the optimal ad while users are clicking.\n",
    "Therefore, as this data set is created, the UCB algorithm will run.\n",
    "\n",
    "For testing purposes, we're going to simulate the \"real world\" in the UCB algorithm.\n",
    "\"\"\"\n",
    "ads_opt_df.head()"
   ]
  },
  {
   "cell_type": "code",
   "execution_count": 102,
   "metadata": {},
   "outputs": [],
   "source": [
    "rounds = 10_000 # number of rows in the data frame\n",
    "ads = 10 # number of columns in the data frame"
   ]
  },
  {
   "cell_type": "markdown",
   "metadata": {},
   "source": [
    "# Random Selection\n",
    "What if the program just randomly selected advertisements to show to a consumer?\n",
    "\n",
    "As seen below, the total reward when randomly selecting an advertisement is around ~1200."
   ]
  },
  {
   "cell_type": "code",
   "execution_count": 103,
   "metadata": {},
   "outputs": [],
   "source": [
    "# import the random library\n",
    "import random"
   ]
  },
  {
   "cell_type": "code",
   "execution_count": 104,
   "metadata": {},
   "outputs": [
    {
     "name": "stdout",
     "output_type": "stream",
     "text": [
      "Total Reward: 1235\n"
     ]
    }
   ],
   "source": [
    "total_reward = 0\n",
    "\n",
    "# iterate through each row (round) in the data frame\n",
    "for current_round in range(0, rounds):\n",
    "    # select a random ad to show to this consumer\n",
    "    ad = random.randrange(ads)\n",
    "    \n",
    "    # increase the total reward using this ad\n",
    "    reward = ads_opt_df.values[current_round][ad]\n",
    "    total_reward += reward\n",
    "    \n",
    "print(\"Total Reward: \" + str(total_reward))"
   ]
  },
  {
   "cell_type": "markdown",
   "metadata": {},
   "source": [
    "# UCB Model\n",
    "We can receive a higher total reward than the random selection algorithm using UCB.\n",
    "\n",
    "### UCB Algorithm\n",
    "<img src=\"images/ucb/ucb_algorithm.png\" height=\"65%\" width=\"65%\"></img>\n",
    "\n",
    "As seen below, the total reward using UCB is around ~2200, which is better than the randomly selected reward value."
   ]
  },
  {
   "cell_type": "code",
   "execution_count": 112,
   "metadata": {},
   "outputs": [],
   "source": [
    "# import the math library\n",
    "import math"
   ]
  },
  {
   "cell_type": "code",
   "execution_count": 118,
   "metadata": {},
   "outputs": [],
   "source": [
    "# list that stores which ad that was selected at each round\n",
    "ads_selected = []\n",
    "\n",
    "# number of times each ad was selected\n",
    "numbers_of_selections = [0] * ads\n",
    "\n",
    "# sum of rewards of each ad\n",
    "sums_of_rewards = [0] * ads"
   ]
  },
  {
   "cell_type": "code",
   "execution_count": 119,
   "metadata": {},
   "outputs": [
    {
     "name": "stdout",
     "output_type": "stream",
     "text": [
      "Total Reward: 2178\n"
     ]
    }
   ],
   "source": [
    "total_reward = 0\n",
    "\n",
    "# iterate through each row (round) in the data frame\n",
    "for current_round in range(0, rounds):\n",
    "    max_upper_bound = 0\n",
    "    ad_to_select = 0\n",
    "    \n",
    "    # iterate through each column (ad) in the data frame\n",
    "    for ad in range(0, ads):\n",
    "        if numbers_of_selections[ad] > 0:\n",
    "            # compute the upper bound of this ad\n",
    "            average_reward_of_ad = sums_of_rewards[ad] / numbers_of_selections[ad]\n",
    "            delta_ad = math.sqrt(3/2 * math.log(current_round + 1) / numbers_of_selections[ad])\n",
    "            upper_bound = average_reward_of_ad + delta_ad\n",
    "        else:\n",
    "            # this ad hasn't been selected, set its upper bound to a very large value to use it \n",
    "            upper_bound = 1e400\n",
    "        \n",
    "        if upper_bound > max_upper_bound:\n",
    "            # found a larger upper bound, update the max upper bound and the ad to select\n",
    "            max_upper_bound = upper_bound\n",
    "            ad_to_select = ad\n",
    "    \n",
    "    # store the results of this round\n",
    "    ads_selected.append(ad_to_select)\n",
    "    numbers_of_selections[ad_to_select] += 1\n",
    "    reward = ads_opt_df.values[current_round][ad_to_select]\n",
    "    sums_of_rewards[ad_to_select] += reward\n",
    "    total_reward += reward\n",
    "    \n",
    "print(\"Total Reward: \" + str(total_reward))"
   ]
  },
  {
   "cell_type": "markdown",
   "metadata": {},
   "source": [
    "### Optimal Advertisement\n",
    "Let's determine the optimal ad that the UCB algorithm determined.\n",
    "\n",
    "We can find this out by looking at which advertisement the UCB algorithm converged to within the last few rounds.\n",
    "\n",
    "As seen below, the algorithm converged to the advertisement at index 4, which is advertisement 5.  \n",
    "Therefore, we can conclude advertisement 5 is the optimal advertisement to show to consumers."
   ]
  },
  {
   "cell_type": "code",
   "execution_count": 130,
   "metadata": {},
   "outputs": [
    {
     "data": {
      "text/plain": [
       "[4, 4, 4, 4, 4, 4, 4, 4, 4, 4]"
      ]
     },
     "execution_count": 130,
     "metadata": {},
     "output_type": "execute_result"
    }
   ],
   "source": [
    "# output the last n ads selected from the algorithm\n",
    "last_n = 10\n",
    "\n",
    "ads_selected[-last_n:]"
   ]
  },
  {
   "cell_type": "markdown",
   "metadata": {},
   "source": [
    "# Visualization of UCB\n",
    "We can further confirm that index 4 (advertisement 5) was the optimal advertisement using a histogram."
   ]
  },
  {
   "cell_type": "code",
   "execution_count": 133,
   "metadata": {},
   "outputs": [
    {
     "data": {
      "image/png": "[encoded data removed]",
      "text/plain": [
       "<Figure size 432x288 with 1 Axes>"
      ]
     },
     "metadata": {
      "needs_background": "light"
     },
     "output_type": "display_data"
    }
   ],
   "source": [
    "\"\"\"\n",
    "Plot the advertisements selected as a histogram.\n",
    "- x-axis is the advertisement index\n",
    "- y-axis is the density (number of times the ad was selected)\n",
    "\"\"\"\n",
    "plt.hist(ads_selected)\n",
    "plt.title(\"Ads Selected\")\n",
    "plt.xlabel(\"Ads\")\n",
    "plt.ylabel(\"Number of times selected\")\n",
    "plt.show()"
   ]
  }
 ],
 "metadata": {
  "kernelspec": {
   "display_name": "Python 3",
   "language": "python",
   "name": "python3"
  },
  "language_info": {
   "codemirror_mode": {
    "name": "ipython",
    "version": 3
   },
   "file_extension": ".py",
   "mimetype": "text/x-python",
   "name": "python",
   "nbconvert_exporter": "python",
   "pygments_lexer": "ipython3",
   "version": "3.7.1"
  }
 },
 "nbformat": 4,
 "nbformat_minor": 2
}
