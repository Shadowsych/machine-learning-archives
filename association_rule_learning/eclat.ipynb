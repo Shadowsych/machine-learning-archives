{
 "cells": [
  {
   "cell_type": "markdown",
   "metadata": {},
   "source": [
    "# Eclat\n",
    "Eclat is similar to Apriori, but only has 1 factor:\n",
    "- Support\n",
    "\n",
    "Eclat is a much simpler algorithm than Apriori because it only analyzes the set of items instead of individual items.\n",
    "\n",
    "### Eclat Algorithm\n",
    "Let's say we're solving for a Market Basket Optimization problem.\n",
    "- Step 1: Set a minimum support\n",
    "    - Because Eclat would be slow if the program compared every item to another item\n",
    "- Step 2: Take all the subsets in transactions having higher support than minimum support\n",
    "- Step 3: Sort these subsets by decreasing support"
   ]
  },
  {
   "cell_type": "markdown",
   "metadata": {},
   "source": [
    "### Support\n",
    "Let's say we're performing Market Basket Optimization by discovering rules among items in a store.\n",
    "\n",
    "Unlike Apriori, I is a set of 2 or more items.\n",
    "\n",
    "Support is how often a set of items will occur from all transactions.\n",
    "- For example, for 75% of all transactions the set of French Fries and Burgers was purchased\n",
    "\n",
    "<img src=\"images/apriori/market_basket_support.png\" height=\"65%\" width=\"65%\"></img>"
   ]
  }
 ],
 "metadata": {
  "kernelspec": {
   "display_name": "Python 3",
   "language": "python",
   "name": "python3"
  },
  "language_info": {
   "codemirror_mode": {
    "name": "ipython",
    "version": 3
   },
   "file_extension": ".py",
   "mimetype": "text/x-python",
   "name": "python",
   "nbconvert_exporter": "python",
   "pygments_lexer": "ipython3",
   "version": "3.7.1"
  }
 },
 "nbformat": 4,
 "nbformat_minor": 2
}
