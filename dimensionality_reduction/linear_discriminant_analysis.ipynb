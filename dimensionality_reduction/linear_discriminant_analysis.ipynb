{
 "cells": [
  {
   "cell_type": "markdown",
   "metadata": {},
   "source": [
    "# Linear Discriminant Analysis (LDA)\n",
    "LDA reduces dimensions by separating the labeled (known) categories as far as possible.\n",
    "\n",
    "### LDA vs PCA\n",
    "<img src=\"images/lda/lda_vs_pca.png\" height=\"75%\" width=\"75%\"></img>\n",
    "\n",
    "#### Similarties\n",
    "1. Both rank the new axes (LD1 and LD2) or (PC1 and PC2) in order of importance where LD1 or PC1 are the most important and LD2 or PC2 are the second most important.\n",
    "2. Both methods allow you to see which independent variables correlate with the new axes (as graphed below).\n",
    "\n",
    "#### Differences\n",
    "1. Because the categories in LDA are known, LDA is a supervised model unlike PCA which is unsupervised.    \n",
    "2. LDA focuses on maximizing separability of categories while PCA focuses on variation of categories.\n",
    "\n",
    "### Linear Discriminants (LD) Meaning\n",
    "Let's say hypothetically we perform LDA with LD1 = 60% and LD2 = 40% as the expected variance percentages.\n",
    "- LD1 (the first largest variation) accounts for 60% of the variation (separation) between the categories\n",
    "- LD2 (the first largest variation) accounts for 40% of the variation (separation) between the categories\n",
    "\n",
    "Then we would have a 2D data set using LD1 and LD2 with 100% of the separation of categories from the large data set!"
   ]
  },
  {
   "cell_type": "code",
   "execution_count": 1,
   "metadata": {},
   "outputs": [],
   "source": [
    "# import libraries\n",
    "import numpy as np\n",
    "import matplotlib.pyplot as plt\n",
    "import pandas as pd"
   ]
  },
  {
   "cell_type": "code",
   "execution_count": 2,
   "metadata": {},
   "outputs": [
    {
     "data": {
      "text/html": [
       "<div>\n",
       "<style scoped>\n",
       "    .dataframe tbody tr th:only-of-type {\n",
       "        vertical-align: middle;\n",
       "    }\n",
       "\n",
       "    .dataframe tbody tr th {\n",
       "        vertical-align: top;\n",
       "    }\n",
       "\n",
       "    .dataframe thead th {\n",
       "        text-align: right;\n",
       "    }\n",
       "</style>\n",
       "<table border=\"1\" class=\"dataframe\">\n",
       "  <thead>\n",
       "    <tr style=\"text-align: right;\">\n",
       "      <th></th>\n",
       "      <th>Alcohol</th>\n",
       "      <th>Malic_Acid</th>\n",
       "      <th>Ash</th>\n",
       "      <th>Ash_Alcanity</th>\n",
       "      <th>Magnesium</th>\n",
       "      <th>Total_Phenols</th>\n",
       "      <th>Flavanoids</th>\n",
       "      <th>Nonflavanoid_Phenols</th>\n",
       "      <th>Proanthocyanins</th>\n",
       "      <th>Color_Intensity</th>\n",
       "      <th>Hue</th>\n",
       "      <th>OD280</th>\n",
       "      <th>Proline</th>\n",
       "      <th>Customer_Segment</th>\n",
       "    </tr>\n",
       "  </thead>\n",
       "  <tbody>\n",
       "    <tr>\n",
       "      <th>0</th>\n",
       "      <td>14.23</td>\n",
       "      <td>1.71</td>\n",
       "      <td>2.43</td>\n",
       "      <td>15.6</td>\n",
       "      <td>127</td>\n",
       "      <td>2.80</td>\n",
       "      <td>3.06</td>\n",
       "      <td>0.28</td>\n",
       "      <td>2.29</td>\n",
       "      <td>5.64</td>\n",
       "      <td>1.04</td>\n",
       "      <td>3.92</td>\n",
       "      <td>1065</td>\n",
       "      <td>1</td>\n",
       "    </tr>\n",
       "    <tr>\n",
       "      <th>1</th>\n",
       "      <td>13.20</td>\n",
       "      <td>1.78</td>\n",
       "      <td>2.14</td>\n",
       "      <td>11.2</td>\n",
       "      <td>100</td>\n",
       "      <td>2.65</td>\n",
       "      <td>2.76</td>\n",
       "      <td>0.26</td>\n",
       "      <td>1.28</td>\n",
       "      <td>4.38</td>\n",
       "      <td>1.05</td>\n",
       "      <td>3.40</td>\n",
       "      <td>1050</td>\n",
       "      <td>1</td>\n",
       "    </tr>\n",
       "    <tr>\n",
       "      <th>2</th>\n",
       "      <td>13.16</td>\n",
       "      <td>2.36</td>\n",
       "      <td>2.67</td>\n",
       "      <td>18.6</td>\n",
       "      <td>101</td>\n",
       "      <td>2.80</td>\n",
       "      <td>3.24</td>\n",
       "      <td>0.30</td>\n",
       "      <td>2.81</td>\n",
       "      <td>5.68</td>\n",
       "      <td>1.03</td>\n",
       "      <td>3.17</td>\n",
       "      <td>1185</td>\n",
       "      <td>1</td>\n",
       "    </tr>\n",
       "    <tr>\n",
       "      <th>3</th>\n",
       "      <td>14.37</td>\n",
       "      <td>1.95</td>\n",
       "      <td>2.50</td>\n",
       "      <td>16.8</td>\n",
       "      <td>113</td>\n",
       "      <td>3.85</td>\n",
       "      <td>3.49</td>\n",
       "      <td>0.24</td>\n",
       "      <td>2.18</td>\n",
       "      <td>7.80</td>\n",
       "      <td>0.86</td>\n",
       "      <td>3.45</td>\n",
       "      <td>1480</td>\n",
       "      <td>1</td>\n",
       "    </tr>\n",
       "    <tr>\n",
       "      <th>4</th>\n",
       "      <td>13.24</td>\n",
       "      <td>2.59</td>\n",
       "      <td>2.87</td>\n",
       "      <td>21.0</td>\n",
       "      <td>118</td>\n",
       "      <td>2.80</td>\n",
       "      <td>2.69</td>\n",
       "      <td>0.39</td>\n",
       "      <td>1.82</td>\n",
       "      <td>4.32</td>\n",
       "      <td>1.04</td>\n",
       "      <td>2.93</td>\n",
       "      <td>735</td>\n",
       "      <td>1</td>\n",
       "    </tr>\n",
       "  </tbody>\n",
       "</table>\n",
       "</div>"
      ],
      "text/plain": [
       "   Alcohol  Malic_Acid   Ash  Ash_Alcanity  Magnesium  Total_Phenols  \\\n",
       "0    14.23        1.71  2.43          15.6        127           2.80   \n",
       "1    13.20        1.78  2.14          11.2        100           2.65   \n",
       "2    13.16        2.36  2.67          18.6        101           2.80   \n",
       "3    14.37        1.95  2.50          16.8        113           3.85   \n",
       "4    13.24        2.59  2.87          21.0        118           2.80   \n",
       "\n",
       "   Flavanoids  Nonflavanoid_Phenols  Proanthocyanins  Color_Intensity   Hue  \\\n",
       "0        3.06                  0.28             2.29             5.64  1.04   \n",
       "1        2.76                  0.26             1.28             4.38  1.05   \n",
       "2        3.24                  0.30             2.81             5.68  1.03   \n",
       "3        3.49                  0.24             2.18             7.80  0.86   \n",
       "4        2.69                  0.39             1.82             4.32  1.04   \n",
       "\n",
       "   OD280  Proline  Customer_Segment  \n",
       "0   3.92     1065                 1  \n",
       "1   3.40     1050                 1  \n",
       "2   3.17     1185                 1  \n",
       "3   3.45     1480                 1  \n",
       "4   2.93      735                 1  "
      ]
     },
     "execution_count": 2,
     "metadata": {},
     "output_type": "execute_result"
    }
   ],
   "source": [
    "# import the data set\n",
    "wine_df = pd.read_csv(\"datasets/wine.csv\")\n",
    "\n",
    "wine_df.head()"
   ]
  },
  {
   "cell_type": "code",
   "execution_count": 3,
   "metadata": {},
   "outputs": [],
   "source": [
    "# receive only the independent variables, disregard the dependent variable Customer_Segment\n",
    "x = wine_df.iloc[:, 0:13].values\n",
    "\n",
    "# receive the Customer_Support column\n",
    "y = wine_df.iloc[:, 13].values"
   ]
  },
  {
   "cell_type": "code",
   "execution_count": 4,
   "metadata": {},
   "outputs": [],
   "source": [
    "# import a Standarization Scaler for Feature Scaling\n",
    "from sklearn.preprocessing import StandardScaler\n",
    "\n",
    "# feature scale the (independent variables)\n",
    "sc_X = StandardScaler()\n",
    "scaled_x = sc_X.fit_transform(x)"
   ]
  },
  {
   "cell_type": "markdown",
   "metadata": {},
   "source": [
    "# LDA Model"
   ]
  },
  {
   "cell_type": "code",
   "execution_count": 5,
   "metadata": {},
   "outputs": [],
   "source": [
    "# import the LDA model\n",
    "from sklearn.discriminant_analysis import LinearDiscriminantAnalysis as LDA"
   ]
  },
  {
   "cell_type": "code",
   "execution_count": 6,
   "metadata": {},
   "outputs": [
    {
     "data": {
      "text/plain": [
       "array([[-4.70024401,  1.97913835],\n",
       "       [-4.30195811,  1.17041286],\n",
       "       [-3.42071952,  1.42910139],\n",
       "       [-4.20575366,  4.00287148],\n",
       "       [-1.50998168,  0.4512239 ],\n",
       "       [-4.51868934,  3.21313756],\n",
       "       [-4.52737794,  3.26912179],\n",
       "       [-4.14834781,  3.10411765],\n",
       "       [-3.86082876,  1.95338263],\n",
       "       [-3.36662444,  1.67864327]])"
      ]
     },
     "execution_count": 6,
     "metadata": {},
     "output_type": "execute_result"
    }
   ],
   "source": [
    "# create an LDA with 2 linear discriminants\n",
    "lda = LDA(n_components=2)\n",
    "\n",
    "# fit and transform the scaled independent variables\n",
    "x_reduced = lda.fit_transform(scaled_x, y)\n",
    "\n",
    "\"\"\"\n",
    "show the first 10 rows of the reduced data frame\n",
    "\n",
    "Now there are only 2 independent variables (LD1 and LD2).\n",
    "\"\"\"\n",
    "x_reduced[:10]"
   ]
  },
  {
   "cell_type": "code",
   "execution_count": 7,
   "metadata": {},
   "outputs": [
    {
     "data": {
      "text/plain": [
       "array([0.68747889, 0.31252111])"
      ]
     },
     "execution_count": 7,
     "metadata": {},
     "output_type": "execute_result"
    }
   ],
   "source": [
    "\"\"\"\n",
    "the explained variance (LDs) of each linear discriminants in descending order\n",
    "\n",
    "LD1 equals 68.75% and LD2 equals 31.25% of the data set's scalings.\n",
    "This means the LDA received 100% of the data set's categories scaling\n",
    "from only 2 linear discriminants.\n",
    "\"\"\"\n",
    "lda.explained_variance_ratio_"
   ]
  },
  {
   "cell_type": "markdown",
   "metadata": {},
   "source": [
    "# Graph LDA\n",
    "Below is a graph of the original DataFrame's columns columns and their separability for each linear discriminant. Based on the graph of the LDA below, there seems to be sporadic clusters."
   ]
  },
  {
   "cell_type": "code",
   "execution_count": 8,
   "metadata": {},
   "outputs": [
    {
     "data": {
      "text/html": [
       "<div>\n",
       "<style scoped>\n",
       "    .dataframe tbody tr th:only-of-type {\n",
       "        vertical-align: middle;\n",
       "    }\n",
       "\n",
       "    .dataframe tbody tr th {\n",
       "        vertical-align: top;\n",
       "    }\n",
       "\n",
       "    .dataframe thead th {\n",
       "        text-align: right;\n",
       "    }\n",
       "</style>\n",
       "<table border=\"1\" class=\"dataframe\">\n",
       "  <thead>\n",
       "    <tr style=\"text-align: right;\">\n",
       "      <th></th>\n",
       "      <th>Alcohol</th>\n",
       "      <th>Malic_Acid</th>\n",
       "      <th>Ash</th>\n",
       "      <th>Ash_Alcanity</th>\n",
       "      <th>Magnesium</th>\n",
       "      <th>Total_Phenols</th>\n",
       "      <th>Flavanoids</th>\n",
       "      <th>Nonflavanoid_Phenols</th>\n",
       "      <th>Proanthocyanins</th>\n",
       "      <th>Color_Intensity</th>\n",
       "      <th>Hue</th>\n",
       "      <th>OD280</th>\n",
       "      <th>Proline</th>\n",
       "    </tr>\n",
       "  </thead>\n",
       "  <tbody>\n",
       "    <tr>\n",
       "      <th>LD1</th>\n",
       "      <td>-0.326569</td>\n",
       "      <td>0.184094</td>\n",
       "      <td>-0.100969</td>\n",
       "      <td>0.515503</td>\n",
       "      <td>-0.030813</td>\n",
       "      <td>0.385720</td>\n",
       "      <td>-1.654628</td>\n",
       "      <td>-0.185636</td>\n",
       "      <td>0.076533</td>\n",
       "      <td>0.820805</td>\n",
       "      <td>-0.186454</td>\n",
       "      <td>-0.819544</td>\n",
       "      <td>-0.845097</td>\n",
       "    </tr>\n",
       "    <tr>\n",
       "      <th>LD2</th>\n",
       "      <td>0.705754</td>\n",
       "      <td>0.340194</td>\n",
       "      <td>0.641759</td>\n",
       "      <td>-0.487473</td>\n",
       "      <td>-0.006591</td>\n",
       "      <td>-0.020104</td>\n",
       "      <td>-0.490054</td>\n",
       "      <td>-0.202407</td>\n",
       "      <td>-0.175270</td>\n",
       "      <td>0.585410</td>\n",
       "      <td>-0.345456</td>\n",
       "      <td>0.036238</td>\n",
       "      <td>0.895899</td>\n",
       "    </tr>\n",
       "  </tbody>\n",
       "</table>\n",
       "</div>"
      ],
      "text/plain": [
       "      Alcohol  Malic_Acid       Ash  Ash_Alcanity  Magnesium  Total_Phenols  \\\n",
       "LD1 -0.326569    0.184094 -0.100969      0.515503  -0.030813       0.385720   \n",
       "LD2  0.705754    0.340194  0.641759     -0.487473  -0.006591      -0.020104   \n",
       "\n",
       "     Flavanoids  Nonflavanoid_Phenols  Proanthocyanins  Color_Intensity  \\\n",
       "LD1   -1.654628             -0.185636         0.076533         0.820805   \n",
       "LD2   -0.490054             -0.202407        -0.175270         0.585410   \n",
       "\n",
       "          Hue     OD280   Proline  \n",
       "LD1 -0.186454 -0.819544 -0.845097  \n",
       "LD2 -0.345456  0.036238  0.895899  "
      ]
     },
     "execution_count": 8,
     "metadata": {},
     "output_type": "execute_result"
    }
   ],
   "source": [
    "# create a DataFrame using each column's scalings per linear discriminant\n",
    "reduced_wine_df = pd.DataFrame(\n",
    "    lda.scalings_.T,\n",
    "    columns=wine_df.iloc[:, 0:13].columns,\n",
    "    index=[\"LD1\", \"LD2\"]\n",
    ")\n",
    "\n",
    "reduced_wine_df.head()"
   ]
  },
  {
   "cell_type": "code",
   "execution_count": 9,
   "metadata": {},
   "outputs": [
    {
     "data": {
      "text/plain": [
       "<matplotlib.collections.PathCollection at 0x7f03a6599588>"
      ]
     },
     "execution_count": 9,
     "metadata": {},
     "output_type": "execute_result"
    },
    {
     "data": {
      "image/png": "[encoded data removed]",
      "text/plain": [
       "<Figure size 432x288 with 1 Axes>"
      ]
     },
     "metadata": {
      "needs_background": "light"
     },
     "output_type": "display_data"
    }
   ],
   "source": [
    "# create a blank plot figure\n",
    "figure = plt.figure()\n",
    "\n",
    "# add the graph's axes with their aspect ratios\n",
    "axes = figure.add_axes([1, 1, 1, 1])\n",
    "\n",
    "# set the LD1 and LD2 labels on the axes\n",
    "rounded_ld1 = str(round(lda.explained_variance_ratio_[0] * 100, 2))\n",
    "rounded_ld2 = str(round(lda.explained_variance_ratio_[1] * 100, 2))\n",
    "axes.set_xlabel(\"LD1 \" + rounded_ld1 + \"%\")\n",
    "axes.set_ylabel(\"LD2 \" + rounded_ld2 + \"%\")\n",
    "\n",
    "# set the title\n",
    "axes.set_title(\"Dimensional Reduction of Wine DataFrame\")\n",
    "\n",
    "# scatter plot the LD1 (x-axis) and LD2 (y-axis)\n",
    "axes.scatter(x=reduced_wine_df.loc[\"LD1\"], y=reduced_wine_df.loc[\"LD2\"])"
   ]
  }
 ],
 "metadata": {
  "kernelspec": {
   "display_name": "Python 3",
   "language": "python",
   "name": "python3"
  },
  "language_info": {
   "codemirror_mode": {
    "name": "ipython",
    "version": 3
   },
   "file_extension": ".py",
   "mimetype": "text/x-python",
   "name": "python",
   "nbconvert_exporter": "python",
   "pygments_lexer": "ipython3",
   "version": "3.7.3"
  }
 },
 "nbformat": 4,
 "nbformat_minor": 2
}
