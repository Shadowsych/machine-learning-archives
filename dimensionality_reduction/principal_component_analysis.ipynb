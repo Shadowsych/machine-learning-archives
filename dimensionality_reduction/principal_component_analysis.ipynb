{
 "cells": [
  {
   "cell_type": "markdown",
   "metadata": {},
   "source": [
    "# Principal Component Analysis (PCA)\n",
    "PCA is a dimensionality reduction technique to reduce the dimensions of a large data set by transforming the large set of variables into a smaller one that contains most of the information in the large data set.\n",
    "\n",
    "This is advantageous because smaller data sets are easier to explore and visualize, whch makes data analysis much easier and faster for machine learning algorithms.\n",
    "\n",
    "If we use a PCA to transform a larger data set into a smaller data set, then PCA will:\n",
    "- Tell us which variables are the most valuable for clustering the data\n",
    "- Tell us how accurate the smaller data set is relative to the larger data set"
   ]
  },
  {
   "cell_type": "markdown",
   "metadata": {},
   "source": [
    "### Example of PCA\n",
    "<img src=\"images/pca/pca_1.png\" height=\"100%\" width=\"100%\"></img>\n",
    "\n",
    "Notice how there are 4 columns (4D), which means we cannot plot the data because visualizing 4D is impossible. Fortunately, we used PCA to resolve this issue by decreasing the dimensions.\n",
    "\n",
    "PC1 and PC2 stand for principal component 1 and 2. The PCs are newly uncorrelated variables that compress most of the variance (information) of the data set. Since we don't know what PC1 and PC2 represent, we could guess what they are. For example, we can guess that PC1 is gender because gender may cause significant plant size variances.\n",
    "\n",
    "### Principal Component (PC) Meaning\n",
    "Let's say hypothetically we perform PCA with PC1 = 91% and PC2 = 4% as the expected variance percentages.\n",
    "- PC1 (the largest variation) accounts for 91% of the variation in the data\n",
    "- PC2 (the second largest variation) accounts for 4% of the variation in the data\n",
    "\n",
    "Then we would have a 2D data set using PC1 and PC2 with 95% of the variance from the large data set!"
   ]
  },
  {
   "cell_type": "markdown",
   "metadata": {},
   "source": [
    "### PCA Axes Ranking\n",
    "<img src=\"images/pca/pca_2.png\" height=\"50%\" width=\"50%\"></img>\n",
    "\n",
    "Even though the PC2 (y) distance of the blue cluster to the red cluster and the PC1 (x) distance of the yellow cluster to the red cluster are the same, the variance (difference) of the red cluster and the yellow cluster is greater than the variance (difference) of the red cluster and the blue cluster.\n",
    "\n",
    "This is because PC1 has the largest variation percentage, so clusters separated on the PC1 axis would be more prone to being variant (different) than clusters separated on the PC2 axis."
   ]
  },
  {
   "cell_type": "code",
   "execution_count": 2,
   "metadata": {},
   "outputs": [],
   "source": [
    "# import libraries\n",
    "import numpy as np\n",
    "import matplotlib.pyplot as plt\n",
    "import pandas as pd"
   ]
  },
  {
   "cell_type": "code",
   "execution_count": 3,
   "metadata": {},
   "outputs": [
    {
     "data": {
      "text/html": [
       "<div>\n",
       "<style scoped>\n",
       "    .dataframe tbody tr th:only-of-type {\n",
       "        vertical-align: middle;\n",
       "    }\n",
       "\n",
       "    .dataframe tbody tr th {\n",
       "        vertical-align: top;\n",
       "    }\n",
       "\n",
       "    .dataframe thead th {\n",
       "        text-align: right;\n",
       "    }\n",
       "</style>\n",
       "<table border=\"1\" class=\"dataframe\">\n",
       "  <thead>\n",
       "    <tr style=\"text-align: right;\">\n",
       "      <th></th>\n",
       "      <th>Alcohol</th>\n",
       "      <th>Malic_Acid</th>\n",
       "      <th>Ash</th>\n",
       "      <th>Ash_Alcanity</th>\n",
       "      <th>Magnesium</th>\n",
       "      <th>Total_Phenols</th>\n",
       "      <th>Flavanoids</th>\n",
       "      <th>Nonflavanoid_Phenols</th>\n",
       "      <th>Proanthocyanins</th>\n",
       "      <th>Color_Intensity</th>\n",
       "      <th>Hue</th>\n",
       "      <th>OD280</th>\n",
       "      <th>Proline</th>\n",
       "      <th>Customer_Segment</th>\n",
       "    </tr>\n",
       "  </thead>\n",
       "  <tbody>\n",
       "    <tr>\n",
       "      <th>0</th>\n",
       "      <td>14.23</td>\n",
       "      <td>1.71</td>\n",
       "      <td>2.43</td>\n",
       "      <td>15.6</td>\n",
       "      <td>127</td>\n",
       "      <td>2.80</td>\n",
       "      <td>3.06</td>\n",
       "      <td>0.28</td>\n",
       "      <td>2.29</td>\n",
       "      <td>5.64</td>\n",
       "      <td>1.04</td>\n",
       "      <td>3.92</td>\n",
       "      <td>1065</td>\n",
       "      <td>1</td>\n",
       "    </tr>\n",
       "    <tr>\n",
       "      <th>1</th>\n",
       "      <td>13.20</td>\n",
       "      <td>1.78</td>\n",
       "      <td>2.14</td>\n",
       "      <td>11.2</td>\n",
       "      <td>100</td>\n",
       "      <td>2.65</td>\n",
       "      <td>2.76</td>\n",
       "      <td>0.26</td>\n",
       "      <td>1.28</td>\n",
       "      <td>4.38</td>\n",
       "      <td>1.05</td>\n",
       "      <td>3.40</td>\n",
       "      <td>1050</td>\n",
       "      <td>1</td>\n",
       "    </tr>\n",
       "    <tr>\n",
       "      <th>2</th>\n",
       "      <td>13.16</td>\n",
       "      <td>2.36</td>\n",
       "      <td>2.67</td>\n",
       "      <td>18.6</td>\n",
       "      <td>101</td>\n",
       "      <td>2.80</td>\n",
       "      <td>3.24</td>\n",
       "      <td>0.30</td>\n",
       "      <td>2.81</td>\n",
       "      <td>5.68</td>\n",
       "      <td>1.03</td>\n",
       "      <td>3.17</td>\n",
       "      <td>1185</td>\n",
       "      <td>1</td>\n",
       "    </tr>\n",
       "    <tr>\n",
       "      <th>3</th>\n",
       "      <td>14.37</td>\n",
       "      <td>1.95</td>\n",
       "      <td>2.50</td>\n",
       "      <td>16.8</td>\n",
       "      <td>113</td>\n",
       "      <td>3.85</td>\n",
       "      <td>3.49</td>\n",
       "      <td>0.24</td>\n",
       "      <td>2.18</td>\n",
       "      <td>7.80</td>\n",
       "      <td>0.86</td>\n",
       "      <td>3.45</td>\n",
       "      <td>1480</td>\n",
       "      <td>1</td>\n",
       "    </tr>\n",
       "    <tr>\n",
       "      <th>4</th>\n",
       "      <td>13.24</td>\n",
       "      <td>2.59</td>\n",
       "      <td>2.87</td>\n",
       "      <td>21.0</td>\n",
       "      <td>118</td>\n",
       "      <td>2.80</td>\n",
       "      <td>2.69</td>\n",
       "      <td>0.39</td>\n",
       "      <td>1.82</td>\n",
       "      <td>4.32</td>\n",
       "      <td>1.04</td>\n",
       "      <td>2.93</td>\n",
       "      <td>735</td>\n",
       "      <td>1</td>\n",
       "    </tr>\n",
       "  </tbody>\n",
       "</table>\n",
       "</div>"
      ],
      "text/plain": [
       "   Alcohol  Malic_Acid   Ash  Ash_Alcanity  Magnesium  Total_Phenols  \\\n",
       "0    14.23        1.71  2.43          15.6        127           2.80   \n",
       "1    13.20        1.78  2.14          11.2        100           2.65   \n",
       "2    13.16        2.36  2.67          18.6        101           2.80   \n",
       "3    14.37        1.95  2.50          16.8        113           3.85   \n",
       "4    13.24        2.59  2.87          21.0        118           2.80   \n",
       "\n",
       "   Flavanoids  Nonflavanoid_Phenols  Proanthocyanins  Color_Intensity   Hue  \\\n",
       "0        3.06                  0.28             2.29             5.64  1.04   \n",
       "1        2.76                  0.26             1.28             4.38  1.05   \n",
       "2        3.24                  0.30             2.81             5.68  1.03   \n",
       "3        3.49                  0.24             2.18             7.80  0.86   \n",
       "4        2.69                  0.39             1.82             4.32  1.04   \n",
       "\n",
       "   OD280  Proline  Customer_Segment  \n",
       "0   3.92     1065                 1  \n",
       "1   3.40     1050                 1  \n",
       "2   3.17     1185                 1  \n",
       "3   3.45     1480                 1  \n",
       "4   2.93      735                 1  "
      ]
     },
     "execution_count": 3,
     "metadata": {},
     "output_type": "execute_result"
    }
   ],
   "source": [
    "# import the data set\n",
    "wine_df = pd.read_csv(\"datasets/wine.csv\")\n",
    "\n",
    "wine_df.head()"
   ]
  },
  {
   "cell_type": "code",
   "execution_count": 4,
   "metadata": {},
   "outputs": [],
   "source": [
    "# receive only the independent variables, disregard the dependent variable Customer_Segment\n",
    "x = wine_df.iloc[:, 0:13].values"
   ]
  },
  {
   "cell_type": "code",
   "execution_count": 5,
   "metadata": {},
   "outputs": [],
   "source": [
    "# import a Standarization Scaler for Feature Scaling\n",
    "from sklearn.preprocessing import StandardScaler\n",
    "\n",
    "# feature scale the (independent variables)\n",
    "sc_X = StandardScaler()\n",
    "scaled_x = sc_X.fit_transform(x)"
   ]
  },
  {
   "cell_type": "markdown",
   "metadata": {},
   "source": [
    "# PCA Model"
   ]
  },
  {
   "cell_type": "code",
   "execution_count": 6,
   "metadata": {},
   "outputs": [],
   "source": [
    "# import the PCA model\n",
    "from sklearn.decomposition import PCA"
   ]
  },
  {
   "cell_type": "code",
   "execution_count": 7,
   "metadata": {},
   "outputs": [
    {
     "data": {
      "text/plain": [
       "array([[ 3.31675081, -1.44346263],\n",
       "       [ 2.20946492,  0.33339289],\n",
       "       [ 2.51674015, -1.0311513 ],\n",
       "       [ 3.75706561, -2.75637191],\n",
       "       [ 1.00890849, -0.86983082],\n",
       "       [ 3.05025392, -2.12240111],\n",
       "       [ 2.44908967, -1.17485013],\n",
       "       [ 2.05943687, -1.60896307],\n",
       "       [ 2.5108743 , -0.91807096],\n",
       "       [ 2.75362819, -0.78943767]])"
      ]
     },
     "execution_count": 7,
     "metadata": {},
     "output_type": "execute_result"
    }
   ],
   "source": [
    "# create a PCA with 2 principal components\n",
    "pca = PCA(n_components=2)\n",
    "\n",
    "# fit and transform the scaled independent variables\n",
    "x_reduced = pca.fit_transform(scaled_x)\n",
    "\n",
    "\"\"\"\n",
    "show the first 10 rows of the reduced data frame\n",
    "\n",
    "Now there are only 2 independent variables (PC1 and PC2).\n",
    "\"\"\"\n",
    "x_reduced[:10]"
   ]
  },
  {
   "cell_type": "code",
   "execution_count": 8,
   "metadata": {},
   "outputs": [
    {
     "data": {
      "text/plain": [
       "array([0.36198848, 0.1920749 ])"
      ]
     },
     "execution_count": 8,
     "metadata": {},
     "output_type": "execute_result"
    }
   ],
   "source": [
    "\"\"\"\n",
    "the explained variance (PCs) of each principal component in descending order\n",
    "\n",
    "PC1 equals 36.20% and PC2 equals 19.21% of the data set's variance, which is pretty good.\n",
    "\"\"\"\n",
    "pca.explained_variance_ratio_"
   ]
  },
  {
   "cell_type": "markdown",
   "metadata": {},
   "source": [
    "# Graph PCA\n",
    "Below is a graph of the original DataFrame's columns columns and their eigen values for each principal component. Based on the graph of the PCA below, there seems to be 3 clusters: the middle-left, middle-bottom, and top-right."
   ]
  },
  {
   "cell_type": "code",
   "execution_count": 9,
   "metadata": {},
   "outputs": [
    {
     "data": {
      "text/html": [
       "<div>\n",
       "<style scoped>\n",
       "    .dataframe tbody tr th:only-of-type {\n",
       "        vertical-align: middle;\n",
       "    }\n",
       "\n",
       "    .dataframe tbody tr th {\n",
       "        vertical-align: top;\n",
       "    }\n",
       "\n",
       "    .dataframe thead th {\n",
       "        text-align: right;\n",
       "    }\n",
       "</style>\n",
       "<table border=\"1\" class=\"dataframe\">\n",
       "  <thead>\n",
       "    <tr style=\"text-align: right;\">\n",
       "      <th></th>\n",
       "      <th>Alcohol</th>\n",
       "      <th>Malic_Acid</th>\n",
       "      <th>Ash</th>\n",
       "      <th>Ash_Alcanity</th>\n",
       "      <th>Magnesium</th>\n",
       "      <th>Total_Phenols</th>\n",
       "      <th>Flavanoids</th>\n",
       "      <th>Nonflavanoid_Phenols</th>\n",
       "      <th>Proanthocyanins</th>\n",
       "      <th>Color_Intensity</th>\n",
       "      <th>Hue</th>\n",
       "      <th>OD280</th>\n",
       "      <th>Proline</th>\n",
       "    </tr>\n",
       "  </thead>\n",
       "  <tbody>\n",
       "    <tr>\n",
       "      <th>PC1</th>\n",
       "      <td>0.144329</td>\n",
       "      <td>-0.245188</td>\n",
       "      <td>-0.002051</td>\n",
       "      <td>-0.239320</td>\n",
       "      <td>0.141992</td>\n",
       "      <td>0.394661</td>\n",
       "      <td>0.422934</td>\n",
       "      <td>-0.298533</td>\n",
       "      <td>0.313429</td>\n",
       "      <td>-0.088617</td>\n",
       "      <td>0.296715</td>\n",
       "      <td>0.376167</td>\n",
       "      <td>0.286752</td>\n",
       "    </tr>\n",
       "    <tr>\n",
       "      <th>PC2</th>\n",
       "      <td>-0.483652</td>\n",
       "      <td>-0.224931</td>\n",
       "      <td>-0.316069</td>\n",
       "      <td>0.010591</td>\n",
       "      <td>-0.299634</td>\n",
       "      <td>-0.065040</td>\n",
       "      <td>0.003360</td>\n",
       "      <td>-0.028779</td>\n",
       "      <td>-0.039302</td>\n",
       "      <td>-0.529996</td>\n",
       "      <td>0.279235</td>\n",
       "      <td>0.164496</td>\n",
       "      <td>-0.364903</td>\n",
       "    </tr>\n",
       "  </tbody>\n",
       "</table>\n",
       "</div>"
      ],
      "text/plain": [
       "      Alcohol  Malic_Acid       Ash  Ash_Alcanity  Magnesium  Total_Phenols  \\\n",
       "PC1  0.144329   -0.245188 -0.002051     -0.239320   0.141992       0.394661   \n",
       "PC2 -0.483652   -0.224931 -0.316069      0.010591  -0.299634      -0.065040   \n",
       "\n",
       "     Flavanoids  Nonflavanoid_Phenols  Proanthocyanins  Color_Intensity  \\\n",
       "PC1    0.422934             -0.298533         0.313429        -0.088617   \n",
       "PC2    0.003360             -0.028779        -0.039302        -0.529996   \n",
       "\n",
       "          Hue     OD280   Proline  \n",
       "PC1  0.296715  0.376167  0.286752  \n",
       "PC2  0.279235  0.164496 -0.364903  "
      ]
     },
     "execution_count": 9,
     "metadata": {},
     "output_type": "execute_result"
    }
   ],
   "source": [
    "# create a DataFrame using each column's eigen value per principal component\n",
    "reduced_wine_df = pd.DataFrame(\n",
    "    pca.components_,\n",
    "    columns=wine_df.iloc[:, 0:13].columns,\n",
    "    index=[\"PC1\", \"PC2\"]\n",
    ")\n",
    "\n",
    "reduced_wine_df.head()"
   ]
  },
  {
   "cell_type": "code",
   "execution_count": 10,
   "metadata": {},
   "outputs": [
    {
     "data": {
      "text/plain": [
       "<matplotlib.collections.PathCollection at 0x7f45fb82c048>"
      ]
     },
     "execution_count": 10,
     "metadata": {},
     "output_type": "execute_result"
    },
    {
     "data": {
      "image/png": "[encoded data removed]",
      "text/plain": [
       "<Figure size 432x288 with 1 Axes>"
      ]
     },
     "metadata": {
      "needs_background": "light"
     },
     "output_type": "display_data"
    }
   ],
   "source": [
    "# create a blank plot figure\n",
    "figure = plt.figure()\n",
    "\n",
    "# add the graph's axes with their aspect ratios\n",
    "axes = figure.add_axes([1, 1, 1, 1])\n",
    "\n",
    "# set the PC1 and PC2 labels on the axes\n",
    "rounded_pc1 = str(round(pca.explained_variance_ratio_[0] * 100, 2))\n",
    "rounded_pc2 = str(round(pca.explained_variance_ratio_[1] * 100, 2))\n",
    "axes.set_xlabel(\"PC1 \" + rounded_pc1 + \"%\")\n",
    "axes.set_ylabel(\"PC2 \" + rounded_pc2 + \"%\")\n",
    "\n",
    "# set the title\n",
    "axes.set_title(\"Dimensional Reduction of Wine DataFrame\")\n",
    "\n",
    "# scatter plot the PC1 (x-axis) and PC2 (y-axis)\n",
    "axes.scatter(x=reduced_wine_df.loc[\"PC1\"], y=reduced_wine_df.loc[\"PC2\"])"
   ]
  }
 ],
 "metadata": {
  "kernelspec": {
   "display_name": "Python 3",
   "language": "python",
   "name": "python3"
  },
  "language_info": {
   "codemirror_mode": {
    "name": "ipython",
    "version": 3
   },
   "file_extension": ".py",
   "mimetype": "text/x-python",
   "name": "python",
   "nbconvert_exporter": "python",
   "pygments_lexer": "ipython3",
   "version": "3.7.3"
  }
 },
 "nbformat": 4,
 "nbformat_minor": 2
}
