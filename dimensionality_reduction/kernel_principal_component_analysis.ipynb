{
 "cells": [
  {
   "cell_type": "markdown",
   "metadata": {},
   "source": [
    "# Kernel Principal Component Analysis\n",
    "In a linear PCA, the clusterings of samples are linearly separated. That is, you could draw a line between sample clusters and they would almost be perfectly separated. However, some data sets don't have linearly separated sample clusters, so instead you would use the kernel-trick to separate those clusters by going from a higher dimension back to a lower dimension.\n",
    "\n",
    "### Linear PCA\n",
    "<img src=\"images/k_pca/linear_pca.png\" height=\"75%\" width=\"75%\"></img>\n",
    "- x-axis is PC1\n",
    "- y-axis is PC2\n",
    "\n",
    "The diagram above is a logistic regression model predicting either 0 (red) or 1 (green) using the data set that fitted using linear PCA.\n",
    "\n",
    "There exists a line that separates the classification of 0 (red) or 1 (green). This is because the standard PCA linearly fits to the data set, so such a separating line is created.\n",
    "\n",
    "### Kernel PCA\n",
    "<img src=\"images/k_pca/linear_pca.png\" height=\"75%\" width=\"75%\"></img>\n",
    "- x-axis is PC1\n",
    "- y-axis is PC2\n",
    "\n",
    "The diagram above is a logistic regression model predicting either 0 (red) or 1 (green) using the data set that fitted using kernel PCA.\n",
    "\n",
    "There exists non-linear separator that separates the classification of 0 (red) or 1 (green). This is because the standard PCA uses the kernel to fit to the data set, so such a separation is created."
   ]
  },
  {
   "cell_type": "code",
   "execution_count": 1,
   "metadata": {},
   "outputs": [],
   "source": [
    "# import libraries\n",
    "import numpy as np\n",
    "import matplotlib.pyplot as plt\n",
    "import pandas as pd"
   ]
  },
  {
   "cell_type": "code",
   "execution_count": 2,
   "metadata": {},
   "outputs": [
    {
     "data": {
      "text/html": [
       "<div>\n",
       "<style scoped>\n",
       "    .dataframe tbody tr th:only-of-type {\n",
       "        vertical-align: middle;\n",
       "    }\n",
       "\n",
       "    .dataframe tbody tr th {\n",
       "        vertical-align: top;\n",
       "    }\n",
       "\n",
       "    .dataframe thead th {\n",
       "        text-align: right;\n",
       "    }\n",
       "</style>\n",
       "<table border=\"1\" class=\"dataframe\">\n",
       "  <thead>\n",
       "    <tr style=\"text-align: right;\">\n",
       "      <th></th>\n",
       "      <th>User ID</th>\n",
       "      <th>Gender</th>\n",
       "      <th>Age</th>\n",
       "      <th>EstimatedSalary</th>\n",
       "      <th>Purchased</th>\n",
       "    </tr>\n",
       "  </thead>\n",
       "  <tbody>\n",
       "    <tr>\n",
       "      <th>0</th>\n",
       "      <td>15624510</td>\n",
       "      <td>Male</td>\n",
       "      <td>19</td>\n",
       "      <td>19000</td>\n",
       "      <td>0</td>\n",
       "    </tr>\n",
       "    <tr>\n",
       "      <th>1</th>\n",
       "      <td>15810944</td>\n",
       "      <td>Male</td>\n",
       "      <td>35</td>\n",
       "      <td>20000</td>\n",
       "      <td>0</td>\n",
       "    </tr>\n",
       "    <tr>\n",
       "      <th>2</th>\n",
       "      <td>15668575</td>\n",
       "      <td>Female</td>\n",
       "      <td>26</td>\n",
       "      <td>43000</td>\n",
       "      <td>0</td>\n",
       "    </tr>\n",
       "    <tr>\n",
       "      <th>3</th>\n",
       "      <td>15603246</td>\n",
       "      <td>Female</td>\n",
       "      <td>27</td>\n",
       "      <td>57000</td>\n",
       "      <td>0</td>\n",
       "    </tr>\n",
       "    <tr>\n",
       "      <th>4</th>\n",
       "      <td>15804002</td>\n",
       "      <td>Male</td>\n",
       "      <td>19</td>\n",
       "      <td>76000</td>\n",
       "      <td>0</td>\n",
       "    </tr>\n",
       "  </tbody>\n",
       "</table>\n",
       "</div>"
      ],
      "text/plain": [
       "    User ID  Gender  Age  EstimatedSalary  Purchased\n",
       "0  15624510    Male   19            19000          0\n",
       "1  15810944    Male   35            20000          0\n",
       "2  15668575  Female   26            43000          0\n",
       "3  15603246  Female   27            57000          0\n",
       "4  15804002    Male   19            76000          0"
      ]
     },
     "execution_count": 2,
     "metadata": {},
     "output_type": "execute_result"
    }
   ],
   "source": [
    "# import the data set\n",
    "ads_df = pd.read_csv(\"datasets/social_network_ads.csv\")\n",
    "\n",
    "ads_df.head()"
   ]
  },
  {
   "cell_type": "code",
   "execution_count": 6,
   "metadata": {},
   "outputs": [],
   "source": [
    "# receive only the independent variables, disregard the dependent variable Purchased column\n",
    "x = ads_df.iloc[:, 2:3].values"
   ]
  },
  {
   "cell_type": "code",
   "execution_count": 7,
   "metadata": {},
   "outputs": [
    {
     "name": "stderr",
     "output_type": "stream",
     "text": [
      "/home/pravat/anaconda3/lib/python3.7/site-packages/sklearn/utils/validation.py:595: DataConversionWarning: Data with input dtype int64 was converted to float64 by StandardScaler.\n",
      "  warnings.warn(msg, DataConversionWarning)\n",
      "/home/pravat/anaconda3/lib/python3.7/site-packages/sklearn/utils/validation.py:595: DataConversionWarning: Data with input dtype int64 was converted to float64 by StandardScaler.\n",
      "  warnings.warn(msg, DataConversionWarning)\n"
     ]
    }
   ],
   "source": [
    "# import a Standarization Scaler for Feature Scaling\n",
    "from sklearn.preprocessing import StandardScaler\n",
    "\n",
    "# feature scale the (independent variables)\n",
    "sc_X = StandardScaler()\n",
    "scaled_x = sc_X.fit_transform(x)"
   ]
  },
  {
   "cell_type": "markdown",
   "metadata": {},
   "source": [
    "# Kernel PCA Model\n",
    "There is no attribute called \"explained_variance_ratio_\" for the Kernel PCA because the PCA could not linearly separate the principal components, thus the ratios may not sum to 100%. For this reason, the attribute is not provided because it could be skewed due to non-linear separation.\n",
    "\n",
    "Another issue is that the \"components_\" attribute is not provided in Kernel PCA, so we cannot graph the data set's eigenvalues for each principal component.\n",
    "\n",
    "We could fit and train the Kernel PCA transformed data set on a classification model to see how well a machine learning model would work with new independent variables (PC1 and PC2). Although, that can be done for a personal project because this is not a classification lecture."
   ]
  },
  {
   "cell_type": "code",
   "execution_count": 8,
   "metadata": {},
   "outputs": [],
   "source": [
    "# import the Kernel PCA model\n",
    "from sklearn.decomposition import KernelPCA"
   ]
  },
  {
   "cell_type": "code",
   "execution_count": 13,
   "metadata": {},
   "outputs": [
    {
     "data": {
      "text/plain": [
       "array([[-0.44464514,  0.58755735],\n",
       "       [-0.20047442, -0.47979431],\n",
       "       [-0.68154194,  0.31804391],\n",
       "       [-0.6777246 ,  0.23127813],\n",
       "       [-0.44464514,  0.58755735],\n",
       "       [-0.6777246 ,  0.23127813],\n",
       "       [-0.6777246 ,  0.23127813],\n",
       "       [-0.46188006, -0.26268603],\n",
       "       [-0.67309095,  0.39433006],\n",
       "       [-0.20047442, -0.47979431]])"
      ]
     },
     "execution_count": 13,
     "metadata": {},
     "output_type": "execute_result"
    }
   ],
   "source": [
    "# create a Kernel PCA with 2 principal components\n",
    "kpca = KernelPCA(n_components=2, kernel=\"rbf\")\n",
    "\n",
    "# fit and transform the scaled independent variables\n",
    "x_reduced = pca.fit_transform(scaled_x)\n",
    "\n",
    "\"\"\"\n",
    "show the first 10 rows of the reduced data frame\n",
    "\n",
    "Now there are only 2 independent variables (PC1 and PC2).\n",
    "\"\"\"\n",
    "x_reduced[:10]"
   ]
  }
 ],
 "metadata": {
  "kernelspec": {
   "display_name": "Python 3",
   "language": "python",
   "name": "python3"
  },
  "language_info": {
   "codemirror_mode": {
    "name": "ipython",
    "version": 3
   },
   "file_extension": ".py",
   "mimetype": "text/x-python",
   "name": "python",
   "nbconvert_exporter": "python",
   "pygments_lexer": "ipython3",
   "version": "3.7.3"
  }
 },
 "nbformat": 4,
 "nbformat_minor": 2
}
