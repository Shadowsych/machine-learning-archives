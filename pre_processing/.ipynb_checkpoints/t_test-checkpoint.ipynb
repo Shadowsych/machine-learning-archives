{
 "cells": [
  {
   "cell_type": "markdown",
   "metadata": {},
   "source": [
    "# T-Test\n",
    "A t-test is a statistical test used to determine the significant difference between the means (averages) of two groups, which may be related to each other.\n",
    "\n",
    "### When Is a T-Test Useful?\n",
    "Let's give a scenario:\n",
    "\n",
    "100 students in class A scored an average of 85% with a standard deviation of 3%.  \n",
    "100 students in class B scored an average of 87% with a standard deviation of 4%.  \n",
    "\n",
    "However, we CANNOT immediately conclude that class B is smarter than A. \n",
    "- This is because, along with the mean (average), the standard deviation of class B is also higher than class A\n",
    "    - This indicates that the extreme percentage for class B spread-out more than the extreme percentages for class A\n",
    "    \n",
    "We can use a t-test to determine if it's statistically reasonable to conclude that class B is smarter than class A based on the mean and standard deviation. "
   ]
  },
  {
   "cell_type": "code",
   "execution_count": 73,
   "metadata": {},
   "outputs": [],
   "source": [
    "import numpy as np\n",
    "\n",
    "# create normalized random Array of 10 values with a center (mean) of 85 and a standard dev of 3\n",
    "class_a_scores = np.random.normal(loc=85, scale=3, size=10)\n",
    "\n",
    "# create normalized random Array of 10 values with a center (mean) of 87 and a standard dev of 4\n",
    "class_b_scores = np.random.normal(loc=87, scale=4, size=10)"
   ]
  },
  {
   "cell_type": "code",
   "execution_count": 74,
   "metadata": {},
   "outputs": [
    {
     "data": {
      "text/plain": [
       "array([79.73354979, 84.69203149, 88.57870978, 85.5571137 , 87.73715506,\n",
       "       79.3719265 , 81.7782444 , 85.49569007, 85.45887397, 83.98827031])"
      ]
     },
     "execution_count": 74,
     "metadata": {},
     "output_type": "execute_result"
    }
   ],
   "source": [
    "class_a_scores"
   ]
  },
  {
   "cell_type": "code",
   "execution_count": 75,
   "metadata": {},
   "outputs": [
    {
     "data": {
      "text/plain": [
       "array([92.75103818, 90.53133718, 87.62736307, 84.00571902, 91.38628752,\n",
       "       82.42913812, 81.19672127, 86.68159926, 86.46684252, 87.23551415])"
      ]
     },
     "execution_count": 75,
     "metadata": {},
     "output_type": "execute_result"
    }
   ],
   "source": [
    "class_b_scores"
   ]
  },
  {
   "cell_type": "code",
   "execution_count": 76,
   "metadata": {},
   "outputs": [
    {
     "data": {
      "text/plain": [
       "Ttest_indResult(statistic=-1.8050225224867893, pvalue=0.08782737217775613)"
      ]
     },
     "execution_count": 76,
     "metadata": {},
     "output_type": "execute_result"
    }
   ],
   "source": [
    "# import the t-test function from scipy\n",
    "from scipy.stats import ttest_ind\n",
    "\n",
    "# perform a t-test for the class scores\n",
    "class_scores_test = ttest_ind(class_a_scores, class_b_scores)\n",
    "\n",
    "class_scores_test"
   ]
  },
  {
   "cell_type": "markdown",
   "metadata": {},
   "source": [
    "# Conclusion Based on T-Test\n",
    "We reject the null hypothesis if the p-value is LESS than 0.05.\n",
    "- If we reject the null hypothesis, then we can accept our original conclusion\n",
    "\n",
    "However, from the results, the p-value was 0.0878. Therefore, we must accept the null hypothesis and determine that we CANNOT conclude that class B is smarter than class A."
   ]
  },
  {
   "cell_type": "code",
   "execution_count": 90,
   "metadata": {},
   "outputs": [
    {
     "data": {
      "text/plain": [
       "Ttest_1sampResult(statistic=86.0829710084803, pvalue=1.9519068572843585e-14)"
      ]
     },
     "execution_count": 90,
     "metadata": {},
     "output_type": "execute_result"
    }
   ],
   "source": [
    "from scipy.stats import ttest_1samp\n",
    "ttest_1samp(class_a_scores, popmean=0)"
   ]
  },
  {
   "cell_type": "markdown",
   "metadata": {},
   "source": [
    "# T-Test For Individual Variables\n",
    "We can also perform a t-test on individual variable(s). For example, in a regression model, we can assume the null hypothesis that every independent variable's coefficient is equal to zero.\n",
    "\n",
    "Using ```scipy.stat```, import the ```ttest_1samp``` function to perform a t-test on a null hypothesis' assumed population mean. For instance, for regression, if the population mean is assumed to be 0:\n",
    "```python\n",
    "ttest_1samp(regressor_coeffs_array, popmean=0)\n",
    "```\n",
    "Calling the above function would return a 1D Array of p-values for each independent variable (column).\n",
    "\n",
    "Therefore, for any p-values less than 0.05, we reject the null hypothesis and keep the independent variable when building the regression model. If it's greater than 0.05, then we remove the independent variable from the regression model because then we can assume the coefficient equals 0, which cancels-out the independent variable anyway."
   ]
  }
 ],
 "metadata": {
  "kernelspec": {
   "display_name": "Python 3",
   "language": "python",
   "name": "python3"
  },
  "language_info": {
   "codemirror_mode": {
    "name": "ipython",
    "version": 3
   },
   "file_extension": ".py",
   "mimetype": "text/x-python",
   "name": "python",
   "nbconvert_exporter": "python",
   "pygments_lexer": "ipython3",
   "version": "3.7.1"
  }
 },
 "nbformat": 4,
 "nbformat_minor": 2
}
