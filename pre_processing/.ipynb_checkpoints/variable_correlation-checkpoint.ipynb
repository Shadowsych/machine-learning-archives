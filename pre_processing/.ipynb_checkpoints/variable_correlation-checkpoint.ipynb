{
 "cells": [
  {
   "cell_type": "markdown",
   "metadata": {},
   "source": [
    "# Variable Correlation\n",
    "We can calculate if variables are highly or lowly correlated with each other.\n",
    "### Calculate Correlation Coefficients\n",
    "In order to determine how correlated variables are to each other, we can calculate their correlation coefficients.\n",
    "\n",
    "#### Correlation Coefficients Range From -1 to 1:  \n",
    "1. If two variables have a negative coeff, then they're negatively correlated.\n",
    "    - If two variables have a coeff of -1, the they're perfectly negative multi-collinear.  \n",
    "2. If two variables have a positive coeff, then they're positively correlated.\n",
    "    - If two variables have a coeff of 1, then they're perfectly positive multi-collinear.  \n",
    "3. If two variables have a coeff of 0, then they have no linear correlation.\n",
    "\n",
    "We can create a correlation matrix to help us observe the correlation between variables.\n",
    "\n",
    "### Problem With Perfect Multi-Collinarity\n",
    "Perfect multicollinearity skews with the coefficient estimates for a machine learning model. This is beause there becomes an infinite number of equally \"good\" solutions, so there's no way to tell which solution is the actual best for the model.\n",
    "- For instance, in the OLS Regression models, the least-squares error is minimized equally well, thus there's an inifinite number of equally \"good\" solutions for the algorithm\n",
    "- The goal is to get a a unique, best, solution; not an infinite number of solutions!\n",
    "\n",
    "This leads to an unstable model with high variance of predicted values. If we attempt to predict a value, that value would be produce a large change in the prediction due to such high variance.\n",
    "- It becomes difficult to determine a \"precise\" prediction since there are so many variations"
   ]
  },
  {
   "cell_type": "code",
   "execution_count": 6,
   "metadata": {},
   "outputs": [],
   "source": [
    "# import libraries\n",
    "import pandas as pd"
   ]
  },
  {
   "cell_type": "code",
   "execution_count": 7,
   "metadata": {},
   "outputs": [
    {
     "data": {
      "text/html": [
       "<div>\n",
       "<style scoped>\n",
       "    .dataframe tbody tr th:only-of-type {\n",
       "        vertical-align: middle;\n",
       "    }\n",
       "\n",
       "    .dataframe tbody tr th {\n",
       "        vertical-align: top;\n",
       "    }\n",
       "\n",
       "    .dataframe thead th {\n",
       "        text-align: right;\n",
       "    }\n",
       "</style>\n",
       "<table border=\"1\" class=\"dataframe\">\n",
       "  <thead>\n",
       "    <tr style=\"text-align: right;\">\n",
       "      <th></th>\n",
       "      <th>Country</th>\n",
       "      <th>Age</th>\n",
       "      <th>Salary</th>\n",
       "      <th>Purchased</th>\n",
       "    </tr>\n",
       "  </thead>\n",
       "  <tbody>\n",
       "    <tr>\n",
       "      <th>0</th>\n",
       "      <td>France</td>\n",
       "      <td>44.0</td>\n",
       "      <td>72000.000000</td>\n",
       "      <td>No</td>\n",
       "    </tr>\n",
       "    <tr>\n",
       "      <th>1</th>\n",
       "      <td>Spain</td>\n",
       "      <td>27.0</td>\n",
       "      <td>48000.000000</td>\n",
       "      <td>Yes</td>\n",
       "    </tr>\n",
       "    <tr>\n",
       "      <th>2</th>\n",
       "      <td>Germany</td>\n",
       "      <td>30.0</td>\n",
       "      <td>54000.000000</td>\n",
       "      <td>No</td>\n",
       "    </tr>\n",
       "    <tr>\n",
       "      <th>3</th>\n",
       "      <td>Spain</td>\n",
       "      <td>38.0</td>\n",
       "      <td>61000.000000</td>\n",
       "      <td>No</td>\n",
       "    </tr>\n",
       "    <tr>\n",
       "      <th>4</th>\n",
       "      <td>Germany</td>\n",
       "      <td>40.0</td>\n",
       "      <td>63777.777778</td>\n",
       "      <td>Yes</td>\n",
       "    </tr>\n",
       "  </tbody>\n",
       "</table>\n",
       "</div>"
      ],
      "text/plain": [
       "   Country   Age        Salary Purchased\n",
       "0   France  44.0  72000.000000        No\n",
       "1    Spain  27.0  48000.000000       Yes\n",
       "2  Germany  30.0  54000.000000        No\n",
       "3    Spain  38.0  61000.000000        No\n",
       "4  Germany  40.0  63777.777778       Yes"
      ]
     },
     "execution_count": 7,
     "metadata": {},
     "output_type": "execute_result"
    }
   ],
   "source": [
    "# read the customers csv as a data set\n",
    "customers_df = pd.read_csv(\"datasets/customers.csv\")\n",
    "\n",
    "# fill NaN with the mean of each column\n",
    "customers_df = customers_df.fillna(customers_df.mean())\n",
    "\n",
    "customers_df.head()"
   ]
  },
  {
   "cell_type": "code",
   "execution_count": 8,
   "metadata": {},
   "outputs": [
    {
     "data": {
      "text/html": [
       "<div>\n",
       "<style scoped>\n",
       "    .dataframe tbody tr th:only-of-type {\n",
       "        vertical-align: middle;\n",
       "    }\n",
       "\n",
       "    .dataframe tbody tr th {\n",
       "        vertical-align: top;\n",
       "    }\n",
       "\n",
       "    .dataframe thead th {\n",
       "        text-align: right;\n",
       "    }\n",
       "</style>\n",
       "<table border=\"1\" class=\"dataframe\">\n",
       "  <thead>\n",
       "    <tr style=\"text-align: right;\">\n",
       "      <th></th>\n",
       "      <th>Age</th>\n",
       "      <th>Salary</th>\n",
       "    </tr>\n",
       "  </thead>\n",
       "  <tbody>\n",
       "    <tr>\n",
       "      <th>Age</th>\n",
       "      <td>1.000000</td>\n",
       "      <td>0.912577</td>\n",
       "    </tr>\n",
       "    <tr>\n",
       "      <th>Salary</th>\n",
       "      <td>0.912577</td>\n",
       "      <td>1.000000</td>\n",
       "    </tr>\n",
       "  </tbody>\n",
       "</table>\n",
       "</div>"
      ],
      "text/plain": [
       "             Age    Salary\n",
       "Age     1.000000  0.912577\n",
       "Salary  0.912577  1.000000"
      ]
     },
     "execution_count": 8,
     "metadata": {},
     "output_type": "execute_result"
    }
   ],
   "source": [
    "# return a correlation matrix\n",
    "customers_df.corr()"
   ]
  },
  {
   "cell_type": "markdown",
   "metadata": {},
   "source": [
    "# Correlation Matrix Conclusion\n",
    "### Disclaimer About Categorical Variables\n",
    "Because the \"Country\" and \"Purchased\" columns were categorical variables, Pandas excluded it from the correlation matrix.\n",
    "- We could create dummy variables for those columns, but that'll overcomplicate the explanation\n",
    "\n",
    "### Explanation of Correlation Matrix\n",
    "The \"Age\" and \"Salary\" columns have a correlation coefficient of 0.912577.\n",
    "- Therefore, we could assume they have a high positive correlation\n",
    "\n",
    "Should we remove the Age or Salary column to prevent redundancy?\n",
    "\n",
    "I recommend No, because the only severe case to prevent high correlation is when perfect multicollinearity exists: when the correlation coefficient equals -1 or 1."
   ]
  }
 ],
 "metadata": {
  "kernelspec": {
   "display_name": "Python 3",
   "language": "python",
   "name": "python3"
  },
  "language_info": {
   "codemirror_mode": {
    "name": "ipython",
    "version": 3
   },
   "file_extension": ".py",
   "mimetype": "text/x-python",
   "name": "python",
   "nbconvert_exporter": "python",
   "pygments_lexer": "ipython3",
   "version": "3.7.1"
  }
 },
 "nbformat": 4,
 "nbformat_minor": 2
}
