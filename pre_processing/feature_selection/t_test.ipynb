{
 "cells": [
  {
   "cell_type": "markdown",
   "metadata": {},
   "source": [
    "# T-Test\n",
    "A t-test is a statistical test used to determine the significant difference between the means (averages) of two groups, which may be related to each other.\n",
    "\n",
    "### When Is a T-Test Useful?\n",
    "Let's give a scenario:\n",
    "\n",
    "100 students in class A scored an average of 85% with a standard deviation of 3%.  \n",
    "100 students in class B scored an average of 87% with a standard deviation of 4%.  \n",
    "\n",
    "However, we CANNOT immediately conclude that class B is smarter than A. \n",
    "- This is because, along with the mean (average), the standard deviation of class B is also higher than class A\n",
    "    - This indicates that the extreme percentage for class B spread-out more than the extreme percentages for class A\n",
    "    \n",
    "We can use a t-test to determine if it's statistically reasonable to conclude that class B is smarter than class A based on the mean and standard deviation. "
   ]
  },
  {
   "cell_type": "code",
   "execution_count": 11,
   "metadata": {},
   "outputs": [],
   "source": [
    "import numpy as np"
   ]
  },
  {
   "cell_type": "code",
   "execution_count": 12,
   "metadata": {},
   "outputs": [],
   "source": [
    "# create normalized random Array of 10 values with a center (mean) of 85 and a standard dev of 3\n",
    "class_a_scores = np.random.normal(loc=85, scale=3, size=10)\n",
    "\n",
    "# create normalized random Array of 10 values with a center (mean) of 87 and a standard dev of 4\n",
    "class_b_scores = np.random.normal(loc=87, scale=4, size=10)"
   ]
  },
  {
   "cell_type": "code",
   "execution_count": 13,
   "metadata": {},
   "outputs": [
    {
     "data": {
      "text/plain": [
       "array([86.17742361, 86.51055478, 81.62915934, 89.59871709, 85.11774997,\n",
       "       82.80365601, 84.51441016, 87.09215749, 93.6427178 , 80.49942699])"
      ]
     },
     "execution_count": 13,
     "metadata": {},
     "output_type": "execute_result"
    }
   ],
   "source": [
    "class_a_scores"
   ]
  },
  {
   "cell_type": "code",
   "execution_count": 14,
   "metadata": {},
   "outputs": [
    {
     "data": {
      "text/plain": [
       "array([85.64660125, 88.53644971, 86.80024697, 93.7500767 , 86.15836509,\n",
       "       87.17237874, 87.23807021, 86.76164762, 91.37636324, 90.78678979])"
      ]
     },
     "execution_count": 14,
     "metadata": {},
     "output_type": "execute_result"
    }
   ],
   "source": [
    "class_b_scores"
   ]
  },
  {
   "cell_type": "code",
   "execution_count": 42,
   "metadata": {},
   "outputs": [
    {
     "data": {
      "text/plain": [
       "Ttest_indResult(statistic=-1.7928549660490936, pvalue=0.0898179668151302)"
      ]
     },
     "execution_count": 42,
     "metadata": {},
     "output_type": "execute_result"
    }
   ],
   "source": [
    "# import the t-test function from scipy\n",
    "from scipy.stats import ttest_ind\n",
    "\n",
    "# perform a t-test for the class scores\n",
    "class_scores_test = ttest_ind(class_a_scores, class_b_scores)\n",
    "\n",
    "class_scores_test"
   ]
  },
  {
   "cell_type": "markdown",
   "metadata": {},
   "source": [
    "# Conclusion Based on T-Test\n",
    "We reject the null hypothesis if the p-value is LESS than 0.05.\n",
    "- If we reject the null hypothesis, then we can accept our original conclusion\n",
    "\n",
    "However, from the results, the p-value was ~0.22. Therefore, we must accept the null hypothesis and determine that we CANNOT conclude that class B is smarter than class A.\n",
    "\n",
    "### ttest_ind Function\n",
    "We used the ```ttest_ind``` function to perform a t-test on the class A and class B samples.\n",
    "\n",
    "The function calculates a t-test under the null hypothesis that the 2 independent variables have an equal population mean.\n",
    "\n",
    "\n",
    "Population Mean is NOT the same as Sample Mean.\n",
    "- Population Mean is the average of a population (whole group)\n",
    "- Sample Mean is the the average of a sample (part of the group)\n",
    "\n",
    "### Population Mean Formula\n",
    "The formula to find the population mean is: ```μ = (Σ * X)/ N```\n",
    "\n",
    "where:\n",
    "- Σ means “the sum of”\n",
    "- X = all the individual items in the group\n",
    "- N = the number of items in the group\n",
    "\n",
    "### Population Mean Example\n",
    "Ex: 125 people were surveyed to see how many hours per day they play video games.\n",
    "- 1 hour (50 people)\n",
    "- 3 hours (25 people)\n",
    "- 5 hours (50 people)\n",
    "\n",
    "What is the population mean for the number of hours played per day?  \n",
    "```[(1 * 50) + (3 * 25) + (5 * 50)] / 125``` = 3 hours"
   ]
  },
  {
   "cell_type": "markdown",
   "metadata": {},
   "source": [
    "### ttest_1samp Function\n",
    "We can use the ```ttest_1samp``` function to perform a t-test on a single independent variable under the null hypothesis that it equals to a population mean parameter ```popmean```."
   ]
  },
  {
   "cell_type": "code",
   "execution_count": 45,
   "metadata": {},
   "outputs": [
    {
     "data": {
      "text/plain": [
       "Ttest_1sampResult(statistic=0.6197902692695071, pvalue=0.550762935241339)"
      ]
     },
     "execution_count": 45,
     "metadata": {},
     "output_type": "execute_result"
    }
   ],
   "source": [
    "from scipy.stats import ttest_1samp\n",
    "\n",
    "# perform a t-test under a null hypothesis that the class A scores population mean is 85\n",
    "class_a_score_test = ttest_1samp(class_a_scores, popmean=85)\n",
    "\n",
    "class_a_score_test"
   ]
  },
  {
   "cell_type": "markdown",
   "metadata": {},
   "source": [
    "# Conclusion Based on T-Test\n",
    "We performed a t-test on the class A scores under the null hypothesis that the population mean is 85. In fact, the p-value returned a value greater than 0.05, so we accept the null hypothesis."
   ]
  }
 ],
 "metadata": {
  "kernelspec": {
   "display_name": "Python 3",
   "language": "python",
   "name": "python3"
  },
  "language_info": {
   "codemirror_mode": {
    "name": "ipython",
    "version": 3
   },
   "file_extension": ".py",
   "mimetype": "text/x-python",
   "name": "python",
   "nbconvert_exporter": "python",
   "pygments_lexer": "ipython3",
   "version": "3.7.1"
  }
 },
 "nbformat": 4,
 "nbformat_minor": 2
}
