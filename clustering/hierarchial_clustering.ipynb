{
 "cells": [
  {
   "cell_type": "markdown",
   "metadata": {},
   "source": [
    "# Hierarchial Clustering\n",
    "There are two types of Hierarchial Clustering:\n",
    "- Agglomerative: Starting from the bottom (multiple clusters), then merging to the top (one cluster)\n",
    "- Divisive: Starting from the top (one cluster), then dividing the clusters to the bottom (multiple clusters)\n",
    "\n",
    "For now, we're going to focus on the Agglomerative clustering approach.\n",
    "\n",
    "### Agglomerative Clustering Algorithm\n",
    "- Step 1: Make each data point in its own cluster (forms N clusters)\n",
    "- Step 2: Take the two closest clusters and make them into one cluster\n",
    "    - Distance between clusters is determined by Euclidean Distance (distance formula) from the centroids\n",
    "- Step 3: Repeat Step 2 until there is only one cluster, then your model is ready"
   ]
  },
  {
   "cell_type": "markdown",
   "metadata": {},
   "source": [
    "# Agglomerative Clustering Visualization\n",
    "The algorithm stores the memory of this process in a dendogram, which is used to determine the best clustering.\n",
    "\n",
    "#### Make each data point into its own cluster\n",
    "<img src=\"images/hc/single_cluster_example.png\" height=\"75%\" width=\"75%\"></img>\n",
    "- This forms 6 clusters: an individual cluster per data point.\n",
    "\n",
    "The left-side shows the clustering of the data points.  \n",
    "The right-side the dendogram formed from the clustering.\n",
    "\n",
    "#### (1) Take the two closest clusters and make them one cluster\n",
    "<img src=\"images/hc/cluster_example_1.png\" height=\"75%\" width=\"75%\"></img>\n",
    "- This forms 5 clusters because two data points clustered into one\n",
    "\n",
    "The Euclidean Distance between P2 and P3 determines the height of the box in the dendogram.\n",
    "- Basically, the further the points are, the more dissimilar the points are which is shown in the denodgram\n",
    "\n",
    "#### (2) Take the two closest clusters and make them one cluster, again\n",
    "<img src=\"images/hc/cluster_example_2.png\" height=\"75%\" width=\"75%\"></img>\n",
    "- This forms 4 clusters because two data points clustered into one, again\n",
    "\n",
    "#### (3) Take the two closest clusters and make them one cluster, again\n",
    "<img src=\"images/hc/cluster_example_3.png\" height=\"75%\" width=\"75%\"></img>\n",
    "- This forms 3 clusters because two clusters clustered into one, again\n",
    "\n",
    "Keep repeating this cluster-combination process until there is a single cluster.\n",
    "\n",
    "#### Stop combining once there is a single cluster\n",
    "<img src=\"images/hc/full_cluster_example.png\" height=\"75%\" width=\"75%\"></img>"
   ]
  },
  {
   "cell_type": "markdown",
   "metadata": {},
   "source": [
    "# Dissimilarity Threshold\n",
    "We can set a dissimilarity threshold for the dendogram to determine how many clusters to use.\n",
    "\n",
    "### Example of Dissimilarity Threshold\n",
    "<img src=\"images/hc/two_cluster_dissimilarity_example.png\" height=\"75%\" width=\"75%\"></img>\n",
    "- In this example, the threshold is at Euclidean Distances of 1.7\n",
    "- This would form 2 clusters, which are P1, P2, P3 as a cluster and P4, P5, P6 as a cluster\n",
    "\n",
    "We determine the number of clusters by counting the number of intersections with the threshold line.\n",
    "- As seen on the dendogram, the threshold would form 2 clusters because it intersects the box twice"
   ]
  },
  {
   "cell_type": "markdown",
   "metadata": {},
   "source": [
    "# Optimal Number of Clusters\n",
    "Is there a way we can determine the optimal number of clusters?\n",
    "\n",
    "The standard approach is to look for the longest vertical line on the dendogram that doesn't cross a horizontal line.\n",
    "\n",
    "### Example of Optimal Cluster Analysis\n",
    "<img src=\"images/hc/optimal_cluster_example.png\" height=\"75%\" width=\"75%\"></img>\n",
    "- The purple vertical line is the longest vertical line that doesn't intersect a horizontal line on the dendogram\n",
    "\n",
    "Because the purple vertical line is the longest vertical line, we're going to place a dissimilarity threshold on the line.\n",
    "\n",
    "The threshold line would form 2 clusters of P1, P2, P3 as a cluster and P4, P5, P6 as a cluster.  \n",
    "Therefore, the optimal number of clusters is 2 clusters."
   ]
  },
  {
   "cell_type": "code",
   "execution_count": null,
   "metadata": {},
   "outputs": [],
   "source": []
  }
 ],
 "metadata": {
  "kernelspec": {
   "display_name": "Python 3",
   "language": "python",
   "name": "python3"
  },
  "language_info": {
   "codemirror_mode": {
    "name": "ipython",
    "version": 3
   },
   "file_extension": ".py",
   "mimetype": "text/x-python",
   "name": "python",
   "nbconvert_exporter": "python",
   "pygments_lexer": "ipython3",
   "version": "3.7.1"
  }
 },
 "nbformat": 4,
 "nbformat_minor": 2
}
