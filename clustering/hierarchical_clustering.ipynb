{
 "cells": [
  {
   "cell_type": "markdown",
   "metadata": {},
   "source": [
    "# Hierarchical Clustering\n",
    "There are two types of Hierarchical Clustering:\n",
    "- Agglomerative: Starting from the bottom (multiple clusters), then merging to the top (one cluster)\n",
    "- Divisive: Starting from the top (one cluster), then dividing the clusters to the bottom (multiple clusters)\n",
    "\n",
    "For now, we're going to focus on the Agglomerative clustering approach.\n",
    "\n",
    "### Agglomerative Clustering Algorithm\n",
    "- Step 1: Make each data point in its own cluster (forms N clusters)\n",
    "- Step 2: Take the two closest clusters and make them into one cluster\n",
    "    - Distance between clusters is determined by Euclidean Distance (distance formula) from the centroids\n",
    "- Step 3: Repeat Step 2 until there is only one cluster, then your model is ready"
   ]
  },
  {
   "cell_type": "markdown",
   "metadata": {},
   "source": [
    "# Agglomerative Clustering Visualization\n",
    "The algorithm stores the memory of this process in a dendrogram, which is used to determine the best clustering.\n",
    "\n",
    "#### Make each data point into its own cluster\n",
    "<img src=\"images/hc/single_cluster_example.png\" height=\"75%\" width=\"75%\"></img>\n",
    "- This forms 6 clusters: an individual cluster per data point.\n",
    "\n",
    "The left-side shows the clustering of the data points.  \n",
    "The right-side the dendrogram formed from the clustering.\n",
    "\n",
    "#### (1) Take the two closest clusters and make them one cluster\n",
    "<img src=\"images/hc/cluster_example_1.png\" height=\"75%\" width=\"75%\"></img>\n",
    "- This forms 5 clusters because two data points clustered into one\n",
    "\n",
    "The Euclidean Distance between P2 and P3 determines the height of the box in the dendrogram.\n",
    "- Basically, the further the points are, the more dissimilar the points are which is shown in the denodgram\n",
    "\n",
    "#### (2) Take the two closest clusters and make them one cluster, again\n",
    "<img src=\"images/hc/cluster_example_2.png\" height=\"75%\" width=\"75%\"></img>\n",
    "- This forms 4 clusters because two data points clustered into one, again\n",
    "\n",
    "#### (3) Take the two closest clusters and make them one cluster, again\n",
    "<img src=\"images/hc/cluster_example_3.png\" height=\"75%\" width=\"75%\"></img>\n",
    "- This forms 3 clusters because two clusters clustered into one, again\n",
    "\n",
    "Keep repeating this cluster-combination process until there is a single cluster.\n",
    "\n",
    "#### Stop combining once there is a single cluster\n",
    "<img src=\"images/hc/full_cluster_example.png\" height=\"75%\" width=\"75%\"></img>"
   ]
  },
  {
   "cell_type": "markdown",
   "metadata": {},
   "source": [
    "# Dissimilarity Threshold\n",
    "We can set a dissimilarity threshold for the dendrogram to determine how many clusters to use.\n",
    "\n",
    "### Example of Dissimilarity Threshold\n",
    "<img src=\"images/hc/two_cluster_dissimilarity_example.png\" height=\"75%\" width=\"75%\"></img>\n",
    "- In this example, the threshold is at Euclidean Distances of 1.7\n",
    "- This would form 2 clusters, which are P1, P2, P3 as a cluster and P4, P5, P6 as a cluster\n",
    "\n",
    "We determine the number of clusters by counting the number of intersections with the threshold line.\n",
    "- As seen on the dendrogram, the threshold would form 2 clusters because it intersects the box twice"
   ]
  },
  {
   "cell_type": "markdown",
   "metadata": {},
   "source": [
    "# Optimal Number of Clusters\n",
    "Is there a way we can determine the optimal number of clusters?\n",
    "\n",
    "The standard approach is to look for the longest vertical line on the dendrogram that doesn't cross a horizontal line.\n",
    "\n",
    "### Example of Optimal Cluster Analysis\n",
    "<img src=\"images/hc/optimal_cluster_example.png\" height=\"75%\" width=\"75%\"></img>\n",
    "- The purple vertical line is the longest vertical line that doesn't intersect a horizontal line on the dendrogram\n",
    "\n",
    "Because the purple vertical line is the longest vertical line, we're going to place a dissimilarity threshold on the line.\n",
    "\n",
    "The threshold line would form 2 clusters of P1, P2, P3 as a cluster and P4, P5, P6 as a cluster.  \n",
    "Therefore, the optimal number of clusters is 2 clusters."
   ]
  },
  {
   "cell_type": "code",
   "execution_count": 8,
   "metadata": {},
   "outputs": [],
   "source": [
    "# import the libraries\n",
    "import numpy as np\n",
    "import matplotlib.pyplot as plt\n",
    "import pandas as pd"
   ]
  },
  {
   "cell_type": "code",
   "execution_count": 9,
   "metadata": {},
   "outputs": [
    {
     "data": {
      "text/html": [
       "<div>\n",
       "<style scoped>\n",
       "    .dataframe tbody tr th:only-of-type {\n",
       "        vertical-align: middle;\n",
       "    }\n",
       "\n",
       "    .dataframe tbody tr th {\n",
       "        vertical-align: top;\n",
       "    }\n",
       "\n",
       "    .dataframe thead th {\n",
       "        text-align: right;\n",
       "    }\n",
       "</style>\n",
       "<table border=\"1\" class=\"dataframe\">\n",
       "  <thead>\n",
       "    <tr style=\"text-align: right;\">\n",
       "      <th></th>\n",
       "      <th>CustomerID</th>\n",
       "      <th>Genre</th>\n",
       "      <th>Age</th>\n",
       "      <th>Annual Income (k$)</th>\n",
       "      <th>Spending Score (1-100)</th>\n",
       "    </tr>\n",
       "  </thead>\n",
       "  <tbody>\n",
       "    <tr>\n",
       "      <th>0</th>\n",
       "      <td>1</td>\n",
       "      <td>Male</td>\n",
       "      <td>19</td>\n",
       "      <td>15</td>\n",
       "      <td>39</td>\n",
       "    </tr>\n",
       "    <tr>\n",
       "      <th>1</th>\n",
       "      <td>2</td>\n",
       "      <td>Male</td>\n",
       "      <td>21</td>\n",
       "      <td>15</td>\n",
       "      <td>81</td>\n",
       "    </tr>\n",
       "    <tr>\n",
       "      <th>2</th>\n",
       "      <td>3</td>\n",
       "      <td>Female</td>\n",
       "      <td>20</td>\n",
       "      <td>16</td>\n",
       "      <td>6</td>\n",
       "    </tr>\n",
       "    <tr>\n",
       "      <th>3</th>\n",
       "      <td>4</td>\n",
       "      <td>Female</td>\n",
       "      <td>23</td>\n",
       "      <td>16</td>\n",
       "      <td>77</td>\n",
       "    </tr>\n",
       "    <tr>\n",
       "      <th>4</th>\n",
       "      <td>5</td>\n",
       "      <td>Female</td>\n",
       "      <td>31</td>\n",
       "      <td>17</td>\n",
       "      <td>40</td>\n",
       "    </tr>\n",
       "  </tbody>\n",
       "</table>\n",
       "</div>"
      ],
      "text/plain": [
       "   CustomerID   Genre  Age  Annual Income (k$)  Spending Score (1-100)\n",
       "0           1    Male   19                  15                      39\n",
       "1           2    Male   21                  15                      81\n",
       "2           3  Female   20                  16                       6\n",
       "3           4  Female   23                  16                      77\n",
       "4           5  Female   31                  17                      40"
      ]
     },
     "execution_count": 9,
     "metadata": {},
     "output_type": "execute_result"
    }
   ],
   "source": [
    "# import the mall data set using pandas\n",
    "mall_df = pd.read_csv(\"datasets/mall_customers.csv\")\n",
    "\n",
    "mall_df.head()"
   ]
  },
  {
   "cell_type": "code",
   "execution_count": 10,
   "metadata": {},
   "outputs": [],
   "source": [
    "# the independent variables are the Annual Income and Spending Score\n",
    "x = mall_df.iloc[:, [3, 4]].values"
   ]
  },
  {
   "cell_type": "markdown",
   "metadata": {},
   "source": [
    "# Dendrogram\n",
    "Let's create a dendrogram to determine the optimal number of clusters.\n",
    "\n",
    "As seen on the dendrogram, the longest vertical line is the green line with Euclidean Distances from 100 to 250.\n",
    "\n",
    "Therefore, if using a dissimilarity threshold line on the green line, the optimal number of clusters would be 5."
   ]
  },
  {
   "cell_type": "code",
   "execution_count": 11,
   "metadata": {},
   "outputs": [],
   "source": [
    "# import the scipy cluster hierarchy class\n",
    "import scipy.cluster.hierarchy as sch"
   ]
  },
  {
   "cell_type": "code",
   "execution_count": 13,
   "metadata": {},
   "outputs": [
    {
     "data": {
      "image/png": "[encoded data removed]",
      "text/plain": [
       "<Figure size 432x288 with 1 Axes>"
      ]
     },
     "metadata": {
      "needs_background": "light"
     },
     "output_type": "display_data"
    }
   ],
   "source": [
    "\"\"\"\n",
    "dendrogram the hierarchical clustering (linkage) algorithm\n",
    "- method = ward would minimize the Within Cluster Sum of Variance (WCSV)\n",
    "    like how in K-Means we minimize the WCSS in the Elbow method graph\n",
    "\"\"\"\n",
    "dendogram = sch.dendrogram(sch.linkage(x, method=\"ward\"))\n",
    "plt.title(\"Dendogram\")\n",
    "plt.xlabel(\"Customers\")\n",
    "plt.ylabel(\"Euclidean Distances\")\n",
    "plt.show()"
   ]
  },
  {
   "cell_type": "markdown",
   "metadata": {},
   "source": [
    "# Agglomerative Clustering Model\n",
    "Now that we know the optimal number of clusters is 5, let's create the model!"
   ]
  },
  {
   "cell_type": "code",
   "execution_count": 14,
   "metadata": {},
   "outputs": [],
   "source": [
    "# import the agglomerative clustering (a type of hierarchical clustering) class\n",
    "from sklearn.cluster import AgglomerativeClustering"
   ]
  },
  {
   "cell_type": "code",
   "execution_count": 21,
   "metadata": {},
   "outputs": [],
   "source": [
    "# create an agglomerative clustering with 5 clusters, euclidean distance, and ward (WCSV) method\n",
    "hc = AgglomerativeClustering(n_clusters=5, affinity=\"euclidean\", linkage=\"ward\")"
   ]
  },
  {
   "cell_type": "code",
   "execution_count": 33,
   "metadata": {},
   "outputs": [
    {
     "data": {
      "text/plain": [
       "array([4, 3, 4, 3, 4, 3, 4, 3, 4, 3, 4, 3, 4, 3, 4, 3, 4, 3, 4, 3, 4, 3,\n",
       "       4, 3, 4, 3, 4, 3, 4, 3, 4, 3, 4, 3, 4, 3, 4, 3, 4, 3, 4, 3, 4, 1,\n",
       "       4, 1, 1, 1, 1, 1, 1, 1, 1, 1, 1, 1, 1, 1, 1, 1, 1, 1, 1, 1, 1, 1,\n",
       "       1, 1, 1, 1, 1, 1, 1, 1, 1, 1, 1, 1, 1, 1, 1, 1, 1, 1, 1, 1, 1, 1,\n",
       "       1, 1, 1, 1, 1, 1, 1, 1, 1, 1, 1, 1, 1, 1, 1, 1, 1, 1, 1, 1, 1, 1,\n",
       "       1, 1, 1, 1, 1, 1, 1, 1, 1, 1, 1, 1, 1, 2, 1, 2, 1, 2, 0, 2, 0, 2,\n",
       "       1, 2, 0, 2, 0, 2, 0, 2, 0, 2, 1, 2, 0, 2, 1, 2, 0, 2, 0, 2, 0, 2,\n",
       "       0, 2, 0, 2, 0, 2, 1, 2, 0, 2, 0, 2, 0, 2, 0, 2, 0, 2, 0, 2, 0, 2,\n",
       "       0, 2, 0, 2, 0, 2, 0, 2, 0, 2, 0, 2, 0, 2, 0, 2, 0, 2, 0, 2, 0, 2,\n",
       "       0, 2])"
      ]
     },
     "execution_count": 33,
     "metadata": {},
     "output_type": "execute_result"
    }
   ],
   "source": [
    "\"\"\"\n",
    "fit and predict the clusterings of the data set x.\n",
    "\n",
    "You cannot predict on another data set using AgglomerativeClustering because when creating\n",
    "the dendogram, the algorithm can only analyze the data set it originally fitted into\n",
    "\"\"\"\n",
    "y_hc = hc.fit_predict(x)\n",
    "\n",
    "# notice how it classified each data point to a cluster using 5 clusters total\n",
    "y_hc"
   ]
  },
  {
   "cell_type": "markdown",
   "metadata": {},
   "source": [
    "# Visualize The Clusters\n",
    "We can visualize each cluster on a graph of Annual Income (x) vs Spending Score (y)."
   ]
  },
  {
   "cell_type": "code",
   "execution_count": 34,
   "metadata": {},
   "outputs": [
    {
     "data": {
      "image/png": "[encoded data removed]",
      "text/plain": [
       "<Figure size 432x288 with 1 Axes>"
      ]
     },
     "metadata": {
      "needs_background": "light"
     },
     "output_type": "display_data"
    }
   ],
   "source": [
    "# visualize the first cluster (careful customers) with color of the dots = red and size = 100\n",
    "plt.scatter(x[y_hc == 0, 0], x[y_hc == 0, 1], c=\"red\", s=100, label=\"Careful\")\n",
    "\n",
    "# visualize the second cluster (standard customers) with color of the dots = blue and size = 100\n",
    "plt.scatter(x[y_hc == 1, 0], x[y_hc == 1, 1], c=\"blue\", s=100, label=\"Standard\")\n",
    "\n",
    "# visualize the third cluster (target customers) with color of the dots = green and size = 100\n",
    "plt.scatter(x[y_hc == 2, 0], x[y_hc == 2, 1], c=\"green\", s=100, label=\"Target\")\n",
    "\n",
    "# visualize the fourth cluster (careless customers) with color of the dots = cyan and size = 100\n",
    "plt.scatter(x[y_hc == 3, 0], x[y_hc == 3, 1], c=\"cyan\", s=100, label=\"Careless\")\n",
    "\n",
    "# visualize the fifth cluster (sensible customers) with color of the dots = magenta and size = 100\n",
    "plt.scatter(x[y_hc == 4, 0], x[y_hc == 4, 1], c=\"magenta\", s=100, label=\"Sensible\")\n",
    "\n",
    "# plot the Annual Income vs Spending Score\n",
    "plt.title(\"Cluster of Clients\")\n",
    "plt.xlabel(\"Annual Income (kS)\")\n",
    "plt.ylabel(\"Spending Score (1-100)\")\n",
    "plt.legend()\n",
    "plt.show()"
   ]
  }
 ],
 "metadata": {
  "kernelspec": {
   "display_name": "Python 3",
   "language": "python",
   "name": "python3"
  },
  "language_info": {
   "codemirror_mode": {
    "name": "ipython",
    "version": 3
   },
   "file_extension": ".py",
   "mimetype": "text/x-python",
   "name": "python",
   "nbconvert_exporter": "python",
   "pygments_lexer": "ipython3",
   "version": "3.7.1"
  }
 },
 "nbformat": 4,
 "nbformat_minor": 2
}
