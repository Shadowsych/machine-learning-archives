{
 "cells": [
  {
   "cell_type": "markdown",
   "metadata": {},
   "source": [
    "# K-Means Clustering\n",
    "Iteratively clusters a data set into K clusters based on the mean of each data point in each centroid.\n",
    "\n",
    "# K-Means Algorithm\n",
    "- Step 1: Choose the number of K clusters\n",
    "- Step 2: Select at random K points\n",
    "    - These points will be the centroids of your clusters\n",
    "    - These centroids don't have to be apart of the data set\n",
    "- Step 3: Assign each data point to the closest centroid\n",
    "    - This step creates K clusters\n",
    "    - Use the Euclidean Distance (distance formula) to determine closest centroid\n",
    "- Step 4: Compute and place the new centroid of each cluster\n",
    "- Step 5: Reassign each data point to the closest centroid\n",
    "    - If any reassignment took place, go to Step 4\n",
    "    - If no reassignment took place, your model is ready\n",
    "\n",
    "### K-Means Algorithm Visualization\n",
    "#### Here's the data set:\n",
    "<img src=\"images/kmc/choose_k_k_means_example.png\" height=\"35%\" width=\"35%\"></img>\n",
    "\n",
    "#### We choose the number of K clusters as K = 2\n",
    "<img src=\"images/kmc/first_iteration_k_means_example.png\" height=\"35%\" width=\"35%\"></img>\n",
    "- First iteration\n",
    "\n",
    "As seen above, two centroids were randomly created because K = 2.  \n",
    "Then, the closest data points to those centroids were assigned.\n",
    "\n",
    "#### Determine new centroid of each cluster, re-assign each data point\n",
    "We need to find the \"center of gravity\" of each cluster, and this \"center of gravity\" is where each centroid will be placed.\n",
    "\n",
    "The following diagram shows the new centroid positions and the re-assignment of the data points:\n",
    "\n",
    "<img src=\"images/kmc/new_centroid_1_k_means_example.png\" height=\"35%\" width=\"35%\"></img>\n",
    "- Second iteration\n",
    "\n",
    "#### Repeat process of determining centroids\n",
    "Keep repeating the centroid placement process until there is no reassignment of data points.\n",
    "\n",
    "#### Model is ready\n",
    "After iterating (repeating) centroid placements, we determined a model where no new reassignment took place when we last placed the centroids. This model became the final model for the data set.\n",
    "\n",
    "<img src=\"images/kmc/ready_model_k_means_example.png\" height=\"35%\" width=\"35%\"></img>"
   ]
  },
  {
   "cell_type": "markdown",
   "metadata": {},
   "source": [
    "# K-Means Random Initialization Trap\n",
    "Sometimes, based on where the initial centroids were placed, it can really determine the outcome of clusters.\n",
    "\n",
    "For instance, in the same data set, based on the placement of the initial clusters these two different results were created.\n",
    "\n",
    "#### K-Means result 1\n",
    "<img src=\"images/kmc/true_cluster_k_means_example.png\" height=\"35%\" width=\"35%\"></img>\n",
    "- The diagram above is the more correct clustering of the data set\n",
    "\n",
    "####  K-Means result 2\n",
    "<img src=\"images/kmc/false_cluster_k_means_example.png\" height=\"35%\" width=\"35%\"></img>\n",
    "- The diagram above is the less correct clustering of the data set\n",
    "\n",
    "### How To Prevent Trap!\n",
    "There is a solution, which is called the K-Means++ that allows the program to correctly select the initial centroids.\n",
    "\n",
    "As it turns out, good initial centroids are ones that aren't close to each other. The K-Means++ algorithm selects initial means that aren't close to each other, then uses the standard K-Means algorithm for clustering.\n",
    "- https://msdn.microsoft.com/en-us/magazine/mt185575.aspx\n",
    "\n",
    "Fortunately, SKLearn implements the K-Means++ algorithm as a default."
   ]
  },
  {
   "cell_type": "markdown",
   "metadata": {},
   "source": [
    "# Choosing The Best Number of K Clusters\n",
    "There's an algorithm to find the best number of K clusters for a data set.\n",
    "- We need to evaluate how a K-value cluster performs compared to another K-value clusters\n",
    "\n",
    "The \"Within Clusters Sum of Squares\" (WCSS) is a metric used to sum of the distance of each point then squaring that distance within each cluster. Then you add-up all the sum of squares.\n",
    "\n",
    "### WCSS for K = 1 Example\n",
    "<img src=\"images/kmc/wcss_k_3.png\" height=\"75%\" width=\"75%\"></img>\n",
    "- \"Pi in Cluster 1\" refers to each point within Cluster 1\n",
    "\n",
    "As seen, the squared distance of each point to the centroid is very far.\n",
    "- In fact, this would create the largest WCSS value\n",
    "\n",
    "### WCSS For K = 3 Example\n",
    "<img src=\"images/kmc/wcss_k_3.png\" height=\"75%\" width=\"75%\"></img>\n",
    "- \"Pi in Cluster 1\" refers to each point within Cluster 1\n",
    "- \"Pi in Cluster 2\" refers to each point within Cluster 2\n",
    "- \"Pi in Cluster 3\" refers to each point within Cluster 3\n",
    "\n",
    "As seen, the squared distance of each point to the centroid is shorter than when K = 1.  \n",
    "- The WCSS value would be less than when K = 1\n",
    "\n",
    "### The Elbow Method\n",
    "How do we find the optimal goodness of K?\n",
    "\n",
    "If we graph WCSS versus Number of Clusters:\n",
    "\n",
    "<img src=\"images/kmc/wcss_graph.png\" height=\"75%\" width=\"75%\"></img>\n",
    "- K = 3 is the optimal number of clusters\n",
    "\n",
    "The optimal number of clusters is the point in the graph in-between huge and small changes of the WCSS-value.\n",
    "- This point is referred to the \"elbow\" point"
   ]
  },
  {
   "cell_type": "code",
   "execution_count": 1,
   "metadata": {},
   "outputs": [],
   "source": [
    "# import the libraries\n",
    "import numpy as np\n",
    "import matplotlib.pyplot as plt\n",
    "import pandas as pd"
   ]
  },
  {
   "cell_type": "code",
   "execution_count": 26,
   "metadata": {},
   "outputs": [
    {
     "data": {
      "text/html": [
       "<div>\n",
       "<style scoped>\n",
       "    .dataframe tbody tr th:only-of-type {\n",
       "        vertical-align: middle;\n",
       "    }\n",
       "\n",
       "    .dataframe tbody tr th {\n",
       "        vertical-align: top;\n",
       "    }\n",
       "\n",
       "    .dataframe thead th {\n",
       "        text-align: right;\n",
       "    }\n",
       "</style>\n",
       "<table border=\"1\" class=\"dataframe\">\n",
       "  <thead>\n",
       "    <tr style=\"text-align: right;\">\n",
       "      <th></th>\n",
       "      <th>CustomerID</th>\n",
       "      <th>Genre</th>\n",
       "      <th>Age</th>\n",
       "      <th>Annual Income (k$)</th>\n",
       "      <th>Spending Score (1-100)</th>\n",
       "    </tr>\n",
       "  </thead>\n",
       "  <tbody>\n",
       "    <tr>\n",
       "      <th>0</th>\n",
       "      <td>1</td>\n",
       "      <td>Male</td>\n",
       "      <td>19</td>\n",
       "      <td>15</td>\n",
       "      <td>39</td>\n",
       "    </tr>\n",
       "    <tr>\n",
       "      <th>1</th>\n",
       "      <td>2</td>\n",
       "      <td>Male</td>\n",
       "      <td>21</td>\n",
       "      <td>15</td>\n",
       "      <td>81</td>\n",
       "    </tr>\n",
       "    <tr>\n",
       "      <th>2</th>\n",
       "      <td>3</td>\n",
       "      <td>Female</td>\n",
       "      <td>20</td>\n",
       "      <td>16</td>\n",
       "      <td>6</td>\n",
       "    </tr>\n",
       "    <tr>\n",
       "      <th>3</th>\n",
       "      <td>4</td>\n",
       "      <td>Female</td>\n",
       "      <td>23</td>\n",
       "      <td>16</td>\n",
       "      <td>77</td>\n",
       "    </tr>\n",
       "    <tr>\n",
       "      <th>4</th>\n",
       "      <td>5</td>\n",
       "      <td>Female</td>\n",
       "      <td>31</td>\n",
       "      <td>17</td>\n",
       "      <td>40</td>\n",
       "    </tr>\n",
       "  </tbody>\n",
       "</table>\n",
       "</div>"
      ],
      "text/plain": [
       "   CustomerID   Genre  Age  Annual Income (k$)  Spending Score (1-100)\n",
       "0           1    Male   19                  15                      39\n",
       "1           2    Male   21                  15                      81\n",
       "2           3  Female   20                  16                       6\n",
       "3           4  Female   23                  16                      77\n",
       "4           5  Female   31                  17                      40"
      ]
     },
     "execution_count": 26,
     "metadata": {},
     "output_type": "execute_result"
    }
   ],
   "source": [
    "# import the mall data set using pandas\n",
    "mall_df = pd.read_csv(\"datasets/mall_customers.csv\")\n",
    "\n",
    "mall_df.head()"
   ]
  },
  {
   "cell_type": "code",
   "execution_count": 28,
   "metadata": {},
   "outputs": [],
   "source": [
    "# the independent variables are the Annual Income and Spending Score\n",
    "x = mall_df.iloc[:, [3, 4]].values"
   ]
  },
  {
   "cell_type": "markdown",
   "metadata": {},
   "source": [
    "# Elbow Method\n",
    "Let's determine the optimal number of clusters using the elbow method.\n",
    "\n",
    "Based on the visualization below, we can determine the best value for K is when K = 5."
   ]
  },
  {
   "cell_type": "code",
   "execution_count": 9,
   "metadata": {},
   "outputs": [],
   "source": [
    "# import the k means class\n",
    "from sklearn.cluster import KMeans"
   ]
  },
  {
   "cell_type": "code",
   "execution_count": 10,
   "metadata": {},
   "outputs": [
    {
     "data": {
      "image/png": "[encoded data removed]",
      "text/plain": [
       "<Figure size 432x288 with 1 Axes>"
      ]
     },
     "metadata": {
      "needs_background": "light"
     },
     "output_type": "display_data"
    }
   ],
   "source": [
    "wcss = []\n",
    "\n",
    "# loop 10 times to test k = 1 to k = 10\n",
    "for k in range(1, 11):\n",
    "    \"\"\"\n",
    "    Run a KMeans algorithm per the value of k.\n",
    "    - n_clusters is the number of clusters\n",
    "    - init is the initialization method\n",
    "    - max_iter is the maximum number of iterations to place centroids and reassign clusters\n",
    "    - n_init is the number of times the algorithm is run with different initial centroids\n",
    "    - random_state is the state's seed\n",
    "    \"\"\"\n",
    "    k_means = KMeans(n_clusters=k, init=\"k-means++\", max_iter=300, n_init=10, random_state=0)\n",
    "    k_means.fit(x)\n",
    "    \n",
    "    # another term for WCSS is \"intertia\", which is a property within the k means model\n",
    "    wcss.append(k_means.inertia_)\n",
    "    \n",
    "# plot the WCSS vs Number of Iterations\n",
    "plt.plot(range(1, 11), wcss)\n",
    "plt.title(\"The Elbow Method\")\n",
    "plt.xlabel(\"Number of clusters\")\n",
    "plt.ylabel(\"WCSS\")\n",
    "plt.show()"
   ]
  },
  {
   "cell_type": "markdown",
   "metadata": {},
   "source": [
    "# K-Means Model\n",
    "Now that we know K = 5 is the best model using the Elbow method, let's model it."
   ]
  },
  {
   "cell_type": "code",
   "execution_count": 11,
   "metadata": {},
   "outputs": [
    {
     "data": {
      "text/plain": [
       "KMeans(algorithm='auto', copy_x=True, init='k-means++', max_iter=300,\n",
       "    n_clusters=5, n_init=10, n_jobs=None, precompute_distances='auto',\n",
       "    random_state=0, tol=0.0001, verbose=0)"
      ]
     },
     "execution_count": 11,
     "metadata": {},
     "output_type": "execute_result"
    }
   ],
   "source": [
    "# create a k means model using the parameters from the elbow method model, but with k =5\n",
    "k_means = KMeans(n_clusters=5, init=\"k-means++\", max_iter=300, n_init=10, random_state=0)\n",
    "k_means.fit(x)"
   ]
  },
  {
   "cell_type": "code",
   "execution_count": 33,
   "metadata": {},
   "outputs": [
    {
     "data": {
      "text/plain": [
       "array([4, 3, 4, 3, 4, 3, 4, 3, 4, 3, 4, 3, 4, 3, 4, 3, 4, 3, 4, 3, 4, 3,\n",
       "       4, 3, 4, 3, 4, 3, 4, 3, 4, 3, 4, 3, 4, 3, 4, 3, 4, 3, 4, 3, 4, 1,\n",
       "       4, 3, 1, 1, 1, 1, 1, 1, 1, 1, 1, 1, 1, 1, 1, 1, 1, 1, 1, 1, 1, 1,\n",
       "       1, 1, 1, 1, 1, 1, 1, 1, 1, 1, 1, 1, 1, 1, 1, 1, 1, 1, 1, 1, 1, 1,\n",
       "       1, 1, 1, 1, 1, 1, 1, 1, 1, 1, 1, 1, 1, 1, 1, 1, 1, 1, 1, 1, 1, 1,\n",
       "       1, 1, 1, 1, 1, 1, 1, 1, 1, 1, 1, 1, 1, 2, 0, 2, 1, 2, 0, 2, 0, 2,\n",
       "       1, 2, 0, 2, 0, 2, 0, 2, 0, 2, 1, 2, 0, 2, 0, 2, 0, 2, 0, 2, 0, 2,\n",
       "       0, 2, 0, 2, 0, 2, 0, 2, 0, 2, 0, 2, 0, 2, 0, 2, 0, 2, 0, 2, 0, 2,\n",
       "       0, 2, 0, 2, 0, 2, 0, 2, 0, 2, 0, 2, 0, 2, 0, 2, 0, 2, 0, 2, 0, 2,\n",
       "       0, 2], dtype=int32)"
      ]
     },
     "execution_count": 33,
     "metadata": {},
     "output_type": "execute_result"
    }
   ],
   "source": [
    "# predict the clusters for x\n",
    "y_kmeans = k_means.predict(x)\n",
    "\n",
    "# notice how it classified each data point to a cluster: K = 0 to K = 4, so 5 clusters total\n",
    "y_kmeans"
   ]
  },
  {
   "cell_type": "markdown",
   "metadata": {},
   "source": [
    "# Visualize The Clusters\n",
    "We can visualize each cluster on a graph of Annual Income (x) vs Spending Score (y)."
   ]
  },
  {
   "cell_type": "code",
   "execution_count": 27,
   "metadata": {},
   "outputs": [
    {
     "data": {
      "image/png": "[encoded data removed]",
      "text/plain": [
       "<Figure size 432x288 with 1 Axes>"
      ]
     },
     "metadata": {
      "needs_background": "light"
     },
     "output_type": "display_data"
    }
   ],
   "source": [
    "# visualize the first cluster with color of the dots = red and size = 100\n",
    "plt.scatter(x[y_kmeans == 0, 0], x[y_kmeans == 0, 1], c=\"red\", s=100, label=\"Cluster 1\")\n",
    "\n",
    "# visualize the second cluster with color of the dots = blue and size = 100\n",
    "plt.scatter(x[y_kmeans == 1, 0], x[y_kmeans == 1, 1], c=\"blue\", s=100, label=\"Cluster 2\")\n",
    "\n",
    "# visualize the third cluster with color of the dots = green and size = 100\n",
    "plt.scatter(x[y_kmeans == 2, 0], x[y_kmeans == 2, 1], c=\"green\", s=100, label=\"Cluster 3\")\n",
    "\n",
    "# visualize the fourth cluster with color of the dots = cyan and size = 100\n",
    "plt.scatter(x[y_kmeans == 3, 0], x[y_kmeans == 3, 1], c=\"cyan\", s=100, label=\"Cluster 4\")\n",
    "\n",
    "# visualize the fifth cluster with color of the dots = magenta and size = 100\n",
    "plt.scatter(x[y_kmeans == 4, 0], x[y_kmeans == 4, 1], c=\"magenta\", s=100, label=\"Cluster 5\")\n",
    "\n",
    "# visualize the centroids with color of the dots = yellow and size = 300\n",
    "plt.scatter(k_means.cluster_centers_[:, 0], k_means.cluster_centers_[:, 1],\n",
    "            c = \"yellow\", s= 300, label=\"Centroids\")\n",
    "\n",
    "# plot the Annual Income vs Spending Score\n",
    "plt.title(\"Cluster of Clients\")\n",
    "plt.xlabel(\"Annual Income (kS)\")\n",
    "plt.ylabel(\"Spending Score (1-100)\")\n",
    "plt.legend()\n",
    "plt.show()"
   ]
  }
 ],
 "metadata": {
  "kernelspec": {
   "display_name": "Python 3",
   "language": "python",
   "name": "python3"
  },
  "language_info": {
   "codemirror_mode": {
    "name": "ipython",
    "version": 3
   },
   "file_extension": ".py",
   "mimetype": "text/x-python",
   "name": "python",
   "nbconvert_exporter": "python",
   "pygments_lexer": "ipython3",
   "version": "3.7.1"
  }
 },
 "nbformat": 4,
 "nbformat_minor": 2
}
