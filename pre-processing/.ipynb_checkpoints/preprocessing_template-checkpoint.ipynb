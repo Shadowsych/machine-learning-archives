{
 "cells": [
  {
   "cell_type": "markdown",
   "metadata": {},
   "source": [
    "# Data Pre-Processing Template\n",
    "Now that we've learned how to pre-process our data, we can create a template to pre-process the data set for our machine learning models."
   ]
  },
  {
   "cell_type": "code",
   "execution_count": 2,
   "metadata": {},
   "outputs": [
    {
     "data": {
      "text/plain": [
       "'\\nfrom sklearn.preprocessing import StandardScaler\\nsc_X = StandardScaler()\\nx_train = sc_X.fit_transform(x_train)\\nx_test = sc_X.transform(x_test)\\n'"
      ]
     },
     "execution_count": 2,
     "metadata": {},
     "output_type": "execute_result"
    }
   ],
   "source": [
    "# import the required libraries\n",
    "import numpy as np\n",
    "import matplotlib.pyplot as plt\n",
    "import pandas as pd\n",
    "\n",
    "# import the data set\n",
    "customers_df = pd.read_csv(\"datasets/customers.csv\")\n",
    "x = customers_df.iloc[:, :-1].values\n",
    "y = customers_df.iloc[:, 3].values\n",
    "\n",
    "# split the data set into training and testing data sets\n",
    "from sklearn.model_selection import train_test_split \n",
    "x_train, x_test, y_train, y_test = train_test_split(\n",
    "    x, y, test_size=0.2, random_state=0)\n",
    "\n",
    "# feature scaling\n",
    "\"\"\"\n",
    "from sklearn.preprocessing import StandardScaler\n",
    "sc_X = StandardScaler()\n",
    "x_train = sc_X.fit_transform(x_train)\n",
    "x_test = sc_X.transform(x_test)\n",
    "\"\"\""
   ]
  },
  {
   "cell_type": "markdown",
   "metadata": {},
   "source": [
    "### Why is \"Missing Data\" not present?\n",
    "Because most of the time missing data has been handled.\n",
    "- Taking care of missing data was just a small lecture to show myself that it may or may not occur before doing ML models\n",
    "\n",
    "### Why is \"Encoding\" categorical data not present?\n",
    "Because we will encounter very few examples of encoding categorical.\n",
    "\n",
    "### Why is \"Feature Scaling\" commented out?\n",
    "Because most of the time feature scaling is a built-in tool within machine learning libraries."
   ]
  }
 ],
 "metadata": {
  "kernelspec": {
   "display_name": "Python 3",
   "language": "python",
   "name": "python3"
  },
  "language_info": {
   "codemirror_mode": {
    "name": "ipython",
    "version": 3
   },
   "file_extension": ".py",
   "mimetype": "text/x-python",
   "name": "python",
   "nbconvert_exporter": "python",
   "pygments_lexer": "ipython3",
   "version": "3.7.1"
  }
 },
 "nbformat": 4,
 "nbformat_minor": 2
}
